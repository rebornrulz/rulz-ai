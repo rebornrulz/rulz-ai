{
  "cells": [
    {
      "cell_type": "markdown",
      "metadata": {
        "id": "2Y3tvfqQd3kF"
      },
      "source": [
        "# Instruction Tuning with GPT-4\n",
        "\n",
        "This notebook is developed to produce the pie chart html/figure in the GPT-4-LLM paper. It analyzes the GPT4 output by following the instructions.\n",
        "\n",
        "```\n",
        "``Instruction Tuning with GPT-4'' (https://arxiv.org/abs/2304.03277)\n",
        "Baolin Peng*, Chunyuan Li*, Pengcheng He*, Michel Galley, Jianfeng Gao (*Equal Contribution)\n",
        "```\n",
        "\n",
        "- Project: https://instruction-tuning-with-gpt-4.github.io/\n",
        "- Github Repo: https://github.com/Instruction-Tuning-with-GPT-4/GPT-4-LLM\n",
        "\n",
        "Please submit an issue in the github repo, if you have any questions.\n",
        "\n",
        "\n",
        "\n",
        "*Note: The original script from [self-instruct repo](https://github.com/yizhongw/self-instruct/blob/main/self_instruct/instruction_visualize.ipynb). The script uses Berkeley Neural Parser to parse the generated instructions, and visualize the results using Plotly. Please make sure to install benepar following their documentation [here](https://github.com/nikitakit/self-attentive-parser#installation).*"
      ]
    },
    {
      "cell_type": "code",
      "execution_count": 6,
      "metadata": {
        "id": "shz1A0Qsd3kN"
      },
      "outputs": [],
      "source": [
        "import spacy\n",
        "import matplotlib.pyplot as plt"
      ]
    },
    {
      "cell_type": "markdown",
      "metadata": {
        "id": "rrLJjxZid3kR"
      },
      "source": [
        "## 1. Generate Verb-Noun Pairs for GPT4 Output\n",
        "\n",
        ":warning: Warning: It takes 20 minutes to run the entire pre-processing, and save it into a csv file. You consider to skip processing, and load our pre-process Verb-Noun CSV file in the next step."
      ]
    },
    {
      "cell_type": "code",
      "execution_count": null,
      "metadata": {
        "id": "PhiU4Uihd3kS",
        "outputId": "873cbc11-c712-43da-b263-ff53c5f96ab6"
      },
      "outputs": [
        {
          "ename": "NameError",
          "evalue": "name 'nlp' is not defined",
          "output_type": "error",
          "traceback": [
            "\u001b[1;31m---------------------------------------------------------------------------\u001b[0m",
            "\u001b[1;31mNameError\u001b[0m                                 Traceback (most recent call last)",
            "Cell \u001b[1;32mIn[6], line 19\u001b[0m\n\u001b[0;32m     16\u001b[0m     first_sent \u001b[39m=\u001b[39m \u001b[39mlist\u001b[39m(doc\u001b[39m.\u001b[39msents)[\u001b[39m0\u001b[39m]\n\u001b[0;32m     17\u001b[0m     \u001b[39mreturn\u001b[39;00m find_root_verb_and_its_dobj(first_sent\u001b[39m.\u001b[39mroot)\n\u001b[1;32m---> 19\u001b[0m find_root_verb_and_its_dobj_in_string(\u001b[39m\"\u001b[39;49m\u001b[39mWrite me a story about education.\u001b[39;49m\u001b[39m\"\u001b[39;49m)\n",
            "Cell \u001b[1;32mIn[6], line 15\u001b[0m, in \u001b[0;36mfind_root_verb_and_its_dobj_in_string\u001b[1;34m(s)\u001b[0m\n\u001b[0;32m     14\u001b[0m \u001b[39mdef\u001b[39;00m \u001b[39mfind_root_verb_and_its_dobj_in_string\u001b[39m(s):\n\u001b[1;32m---> 15\u001b[0m     doc \u001b[39m=\u001b[39m nlp(s)\n\u001b[0;32m     16\u001b[0m     first_sent \u001b[39m=\u001b[39m \u001b[39mlist\u001b[39m(doc\u001b[39m.\u001b[39msents)[\u001b[39m0\u001b[39m]\n\u001b[0;32m     17\u001b[0m     \u001b[39mreturn\u001b[39;00m find_root_verb_and_its_dobj(first_sent\u001b[39m.\u001b[39mroot)\n",
            "\u001b[1;31mNameError\u001b[0m: name 'nlp' is not defined"
          ]
        }
      ],
      "source": [
        "def find_root_verb_and_its_dobj(tree_root):\n",
        "    # first check if the current node and its children satisfy the condition\n",
        "    if tree_root.pos_ == \"VERB\":\n",
        "        for child in tree_root.children:\n",
        "            if child.dep_ == \"dobj\" and child.pos_ == \"NOUN\":\n",
        "                return tree_root.lemma_, child.lemma_\n",
        "        return tree_root.lemma_, None\n",
        "    # if not, check its children\n",
        "    for child in tree_root.children:\n",
        "        return find_root_verb_and_its_dobj(child)\n",
        "    # if no children satisfy the condition, return None\n",
        "    return None, None\n",
        "\n",
        "\n",
        "def find_root_verb_and_its_dobj_in_string(s):\n",
        "    doc = nlp(s)\n",
        "    first_sent = list(doc.sents)[0]\n",
        "    return find_root_verb_and_its_dobj(first_sent.root)\n",
        "\n",
        "\n",
        "find_root_verb_and_its_dobj_in_string(\"Write me a story about education.\")"
      ]
    },
    {
      "cell_type": "code",
      "execution_count": 28,
      "metadata": {
        "id": "Rau3X0h7d3kS"
      },
      "outputs": [],
      "source": [
        "import pandas as pd\n",
        "import json\n",
        "import tqdm"
      ]
    },
    {
      "cell_type": "markdown",
      "metadata": {
        "id": "0gpg5nmOd3kT"
      },
      "source": [
        "## 2. Pie Chart Creation on Verb-Noun\n",
        "\n",
        "Load our pre-process Verb-Noun CSV file, and create the html file with plotly"
      ]
    },
    {
      "cell_type": "code",
      "execution_count": 22,
      "metadata": {
        "id": "xPCtWPeod3kW"
      },
      "outputs": [],
      "source": []
    },
    {
      "cell_type": "code",
      "execution_count": 23,
      "metadata": {
        "id": "aqCkZn_yd3kX"
      },
      "outputs": [],
      "source": [
        "import plotly.graph_objects as go\n",
        "import plotly.express as px"
      ]
    },
    {
      "cell_type": "code",
      "execution_count": 20,
      "metadata": {
        "id": "Knt6HUrFd3kX"
      },
      "outputs": [],
      "source": []
    },
    {
      "cell_type": "code",
      "execution_count": 20,
      "metadata": {
        "id": "B6FRnnzrd3kX"
      },
      "outputs": [],
      "source": []
    }
  ],
  "metadata": {
    "kernelspec": {
      "display_name": "self-instruct",
      "language": "python",
      "name": "python3"
    },
    "language_info": {
      "codemirror_mode": {
        "name": "ipython",
        "version": 3
      },
      "file_extension": ".py",
      "mimetype": "text/x-python",
      "name": "python",
      "nbconvert_exporter": "python",
      "pygments_lexer": "ipython3",
      "version": "3.11.4"
    },
    "orig_nbformat": 4,
    "vscode": {
      "interpreter": {
        "hash": "364c1b690e879c5ffe4e7bee613e5b5479420b51b03f29835176bef56dfadb2e"
      }
    },
    "colab": {
      "provenance": [],
      "toc_visible": true
    }
  },
  "nbformat": 4,
  "nbformat_minor": 0
}