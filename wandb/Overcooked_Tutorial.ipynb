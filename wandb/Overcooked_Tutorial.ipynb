{
  "nbformat": 4,
  "nbformat_minor": 0,
  "metadata": {
    "colab": {
      "provenance": []
    },
    "kernelspec": {
      "name": "python3",
      "display_name": "Python 3"
    },
    "language_info": {
      "name": "python"
    },
    "widgets": {
      "application/vnd.jupyter.widget-state+json": {
        "2b2204dcbaef4c15af7676428a53aed1": {
          "model_module": "@jupyter-widgets/controls",
          "model_name": "VBoxModel",
          "model_module_version": "1.5.0",
          "state": {
            "_dom_classes": [
              "widget-interact"
            ],
            "_model_module": "@jupyter-widgets/controls",
            "_model_module_version": "1.5.0",
            "_model_name": "VBoxModel",
            "_view_count": null,
            "_view_module": "@jupyter-widgets/controls",
            "_view_module_version": "1.5.0",
            "_view_name": "VBoxView",
            "box_style": "",
            "children": [
              "IPY_MODEL_ca57c8251a0f44a0a46ba837ae863060",
              "IPY_MODEL_8f8613748f874af7a1da1fb26db6a5f0"
            ],
            "layout": "IPY_MODEL_de4d5ac821954b52bf0965b02e8f26a0"
          }
        },
        "ca57c8251a0f44a0a46ba837ae863060": {
          "model_module": "@jupyter-widgets/controls",
          "model_name": "IntSliderModel",
          "model_module_version": "1.5.0",
          "state": {
            "_dom_classes": [],
            "_model_module": "@jupyter-widgets/controls",
            "_model_module_version": "1.5.0",
            "_model_name": "IntSliderModel",
            "_view_count": null,
            "_view_module": "@jupyter-widgets/controls",
            "_view_module_version": "1.5.0",
            "_view_name": "IntSliderView",
            "continuous_update": true,
            "description": "timestep",
            "description_tooltip": null,
            "disabled": false,
            "layout": "IPY_MODEL_0f6f50327af343a9b8fe32d5c99a141d",
            "max": 99,
            "min": 0,
            "orientation": "horizontal",
            "readout": true,
            "readout_format": "d",
            "step": 1,
            "style": "IPY_MODEL_efe2883436f64241945f4cb5dd8ef11d",
            "value": 0
          }
        },
        "8f8613748f874af7a1da1fb26db6a5f0": {
          "model_module": "@jupyter-widgets/output",
          "model_name": "OutputModel",
          "model_module_version": "1.0.0",
          "state": {
            "_dom_classes": [],
            "_model_module": "@jupyter-widgets/output",
            "_model_module_version": "1.0.0",
            "_model_name": "OutputModel",
            "_view_count": null,
            "_view_module": "@jupyter-widgets/output",
            "_view_module_version": "1.0.0",
            "_view_name": "OutputView",
            "layout": "IPY_MODEL_5480d78b1d1f4480b9e85e74a67a096b",
            "msg_id": "",
            "outputs": [
              {
                "output_type": "display_data",
                "data": {
                  "image/png": "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\n",
                  "text/plain": "<IPython.core.display.Image object>"
                },
                "metadata": {}
              }
            ]
          }
        },
        "de4d5ac821954b52bf0965b02e8f26a0": {
          "model_module": "@jupyter-widgets/base",
          "model_name": "LayoutModel",
          "model_module_version": "1.2.0",
          "state": {
            "_model_module": "@jupyter-widgets/base",
            "_model_module_version": "1.2.0",
            "_model_name": "LayoutModel",
            "_view_count": null,
            "_view_module": "@jupyter-widgets/base",
            "_view_module_version": "1.2.0",
            "_view_name": "LayoutView",
            "align_content": null,
            "align_items": null,
            "align_self": null,
            "border": null,
            "bottom": null,
            "display": null,
            "flex": null,
            "flex_flow": null,
            "grid_area": null,
            "grid_auto_columns": null,
            "grid_auto_flow": null,
            "grid_auto_rows": null,
            "grid_column": null,
            "grid_gap": null,
            "grid_row": null,
            "grid_template_areas": null,
            "grid_template_columns": null,
            "grid_template_rows": null,
            "height": null,
            "justify_content": null,
            "justify_items": null,
            "left": null,
            "margin": null,
            "max_height": null,
            "max_width": null,
            "min_height": null,
            "min_width": null,
            "object_fit": null,
            "object_position": null,
            "order": null,
            "overflow": null,
            "overflow_x": null,
            "overflow_y": null,
            "padding": null,
            "right": null,
            "top": null,
            "visibility": null,
            "width": null
          }
        },
        "0f6f50327af343a9b8fe32d5c99a141d": {
          "model_module": "@jupyter-widgets/base",
          "model_name": "LayoutModel",
          "model_module_version": "1.2.0",
          "state": {
            "_model_module": "@jupyter-widgets/base",
            "_model_module_version": "1.2.0",
            "_model_name": "LayoutModel",
            "_view_count": null,
            "_view_module": "@jupyter-widgets/base",
            "_view_module_version": "1.2.0",
            "_view_name": "LayoutView",
            "align_content": null,
            "align_items": null,
            "align_self": null,
            "border": null,
            "bottom": null,
            "display": null,
            "flex": null,
            "flex_flow": null,
            "grid_area": null,
            "grid_auto_columns": null,
            "grid_auto_flow": null,
            "grid_auto_rows": null,
            "grid_column": null,
            "grid_gap": null,
            "grid_row": null,
            "grid_template_areas": null,
            "grid_template_columns": null,
            "grid_template_rows": null,
            "height": null,
            "justify_content": null,
            "justify_items": null,
            "left": null,
            "margin": null,
            "max_height": null,
            "max_width": null,
            "min_height": null,
            "min_width": null,
            "object_fit": null,
            "object_position": null,
            "order": null,
            "overflow": null,
            "overflow_x": null,
            "overflow_y": null,
            "padding": null,
            "right": null,
            "top": null,
            "visibility": null,
            "width": null
          }
        },
        "efe2883436f64241945f4cb5dd8ef11d": {
          "model_module": "@jupyter-widgets/controls",
          "model_name": "SliderStyleModel",
          "model_module_version": "1.5.0",
          "state": {
            "_model_module": "@jupyter-widgets/controls",
            "_model_module_version": "1.5.0",
            "_model_name": "SliderStyleModel",
            "_view_count": null,
            "_view_module": "@jupyter-widgets/base",
            "_view_module_version": "1.2.0",
            "_view_name": "StyleView",
            "description_width": "",
            "handle_color": null
          }
        },
        "5480d78b1d1f4480b9e85e74a67a096b": {
          "model_module": "@jupyter-widgets/base",
          "model_name": "LayoutModel",
          "model_module_version": "1.2.0",
          "state": {
            "_model_module": "@jupyter-widgets/base",
            "_model_module_version": "1.2.0",
            "_model_name": "LayoutModel",
            "_view_count": null,
            "_view_module": "@jupyter-widgets/base",
            "_view_module_version": "1.2.0",
            "_view_name": "LayoutView",
            "align_content": null,
            "align_items": null,
            "align_self": null,
            "border": null,
            "bottom": null,
            "display": null,
            "flex": null,
            "flex_flow": null,
            "grid_area": null,
            "grid_auto_columns": null,
            "grid_auto_flow": null,
            "grid_auto_rows": null,
            "grid_column": null,
            "grid_gap": null,
            "grid_row": null,
            "grid_template_areas": null,
            "grid_template_columns": null,
            "grid_template_rows": null,
            "height": null,
            "justify_content": null,
            "justify_items": null,
            "left": null,
            "margin": null,
            "max_height": null,
            "max_width": null,
            "min_height": null,
            "min_width": null,
            "object_fit": null,
            "object_position": null,
            "order": null,
            "overflow": null,
            "overflow_x": null,
            "overflow_y": null,
            "padding": null,
            "right": null,
            "top": null,
            "visibility": null,
            "width": null
          }
        }
      }
    }
  },
  "cells": [
    {
      "cell_type": "code",
      "source": [
        "!pip install git+https://github.com/HumanCompatibleAI/overcooked_ai.git"
      ],
      "metadata": {
        "colab": {
          "base_uri": "https://localhost:8080/"
        },
        "id": "wdzm6m4Am-xh",
        "outputId": "02c4c2f5-8f40-4590-8184-874e9e7b9845"
      },
      "execution_count": 1,
      "outputs": [
        {
          "output_type": "stream",
          "name": "stdout",
          "text": [
            "Collecting git+https://github.com/HumanCompatibleAI/overcooked_ai.git\n",
            "  Cloning https://github.com/HumanCompatibleAI/overcooked_ai.git to /tmp/pip-req-build-676yqolb\n",
            "  Running command git clone --filter=blob:none --quiet https://github.com/HumanCompatibleAI/overcooked_ai.git /tmp/pip-req-build-676yqolb\n",
            "  Resolved https://github.com/HumanCompatibleAI/overcooked_ai.git to commit 6bde8b27b5a1dcdba571e8f53d98c6fc836eca8c\n",
            "  Preparing metadata (setup.py) ... \u001b[?25l\u001b[?25hdone\n",
            "Collecting dill (from overcooked-ai==1.1.0)\n",
            "  Downloading dill-0.3.7-py3-none-any.whl (115 kB)\n",
            "\u001b[2K     \u001b[90m━━━━━━━━━━━━━━━━━━━━━━━━━━━━━━━━━━━━━━━\u001b[0m \u001b[32m115.3/115.3 kB\u001b[0m \u001b[31m2.4 MB/s\u001b[0m eta \u001b[36m0:00:00\u001b[0m\n",
            "\u001b[?25hRequirement already satisfied: numpy in /usr/local/lib/python3.10/dist-packages (from overcooked-ai==1.1.0) (1.23.5)\n",
            "Requirement already satisfied: scipy in /usr/local/lib/python3.10/dist-packages (from overcooked-ai==1.1.0) (1.10.1)\n",
            "Requirement already satisfied: tqdm in /usr/local/lib/python3.10/dist-packages (from overcooked-ai==1.1.0) (4.66.1)\n",
            "Requirement already satisfied: gym in /usr/local/lib/python3.10/dist-packages (from overcooked-ai==1.1.0) (0.25.2)\n",
            "Collecting pettingzoo (from overcooked-ai==1.1.0)\n",
            "  Downloading pettingzoo-1.23.1-py3-none-any.whl (826 kB)\n",
            "\u001b[2K     \u001b[90m━━━━━━━━━━━━━━━━━━━━━━━━━━━━━━━━━━━━━━\u001b[0m \u001b[32m826.7/826.7 kB\u001b[0m \u001b[31m30.7 MB/s\u001b[0m eta \u001b[36m0:00:00\u001b[0m\n",
            "\u001b[?25hRequirement already satisfied: ipython in /usr/local/lib/python3.10/dist-packages (from overcooked-ai==1.1.0) (7.34.0)\n",
            "Requirement already satisfied: pygame in /usr/local/lib/python3.10/dist-packages (from overcooked-ai==1.1.0) (2.5.1)\n",
            "Requirement already satisfied: ipywidgets in /usr/local/lib/python3.10/dist-packages (from overcooked-ai==1.1.0) (7.7.1)\n",
            "Requirement already satisfied: opencv-python in /usr/local/lib/python3.10/dist-packages (from overcooked-ai==1.1.0) (4.8.0.76)\n",
            "Requirement already satisfied: cloudpickle>=1.2.0 in /usr/local/lib/python3.10/dist-packages (from gym->overcooked-ai==1.1.0) (2.2.1)\n",
            "Requirement already satisfied: gym-notices>=0.0.4 in /usr/local/lib/python3.10/dist-packages (from gym->overcooked-ai==1.1.0) (0.0.8)\n",
            "Requirement already satisfied: setuptools>=18.5 in /usr/local/lib/python3.10/dist-packages (from ipython->overcooked-ai==1.1.0) (67.7.2)\n",
            "Collecting jedi>=0.16 (from ipython->overcooked-ai==1.1.0)\n",
            "  Downloading jedi-0.19.0-py2.py3-none-any.whl (1.6 MB)\n",
            "\u001b[2K     \u001b[90m━━━━━━━━━━━━━━━━━━━━━━━━━━━━━━━━━━━━━━━━\u001b[0m \u001b[32m1.6/1.6 MB\u001b[0m \u001b[31m54.0 MB/s\u001b[0m eta \u001b[36m0:00:00\u001b[0m\n",
            "\u001b[?25hRequirement already satisfied: decorator in /usr/local/lib/python3.10/dist-packages (from ipython->overcooked-ai==1.1.0) (4.4.2)\n",
            "Requirement already satisfied: pickleshare in /usr/local/lib/python3.10/dist-packages (from ipython->overcooked-ai==1.1.0) (0.7.5)\n",
            "Requirement already satisfied: traitlets>=4.2 in /usr/local/lib/python3.10/dist-packages (from ipython->overcooked-ai==1.1.0) (5.7.1)\n",
            "Requirement already satisfied: prompt-toolkit!=3.0.0,!=3.0.1,<3.1.0,>=2.0.0 in /usr/local/lib/python3.10/dist-packages (from ipython->overcooked-ai==1.1.0) (3.0.39)\n",
            "Requirement already satisfied: pygments in /usr/local/lib/python3.10/dist-packages (from ipython->overcooked-ai==1.1.0) (2.16.1)\n",
            "Requirement already satisfied: backcall in /usr/local/lib/python3.10/dist-packages (from ipython->overcooked-ai==1.1.0) (0.2.0)\n",
            "Requirement already satisfied: matplotlib-inline in /usr/local/lib/python3.10/dist-packages (from ipython->overcooked-ai==1.1.0) (0.1.6)\n",
            "Requirement already satisfied: pexpect>4.3 in /usr/local/lib/python3.10/dist-packages (from ipython->overcooked-ai==1.1.0) (4.8.0)\n",
            "Requirement already satisfied: ipykernel>=4.5.1 in /usr/local/lib/python3.10/dist-packages (from ipywidgets->overcooked-ai==1.1.0) (5.5.6)\n",
            "Requirement already satisfied: ipython-genutils~=0.2.0 in /usr/local/lib/python3.10/dist-packages (from ipywidgets->overcooked-ai==1.1.0) (0.2.0)\n",
            "Requirement already satisfied: widgetsnbextension~=3.6.0 in /usr/local/lib/python3.10/dist-packages (from ipywidgets->overcooked-ai==1.1.0) (3.6.5)\n",
            "Requirement already satisfied: jupyterlab-widgets>=1.0.0 in /usr/local/lib/python3.10/dist-packages (from ipywidgets->overcooked-ai==1.1.0) (3.0.8)\n",
            "Collecting gymnasium>=0.28.0 (from pettingzoo->overcooked-ai==1.1.0)\n",
            "  Downloading gymnasium-0.29.0-py3-none-any.whl (953 kB)\n",
            "\u001b[2K     \u001b[90m━━━━━━━━━━━━━━━━━━━━━━━━━━━━━━━━━━━━━━\u001b[0m \u001b[32m953.8/953.8 kB\u001b[0m \u001b[31m53.2 MB/s\u001b[0m eta \u001b[36m0:00:00\u001b[0m\n",
            "\u001b[?25hRequirement already satisfied: typing-extensions>=4.3.0 in /usr/local/lib/python3.10/dist-packages (from gymnasium>=0.28.0->pettingzoo->overcooked-ai==1.1.0) (4.7.1)\n",
            "Collecting farama-notifications>=0.0.1 (from gymnasium>=0.28.0->pettingzoo->overcooked-ai==1.1.0)\n",
            "  Downloading Farama_Notifications-0.0.4-py3-none-any.whl (2.5 kB)\n",
            "Requirement already satisfied: jupyter-client in /usr/local/lib/python3.10/dist-packages (from ipykernel>=4.5.1->ipywidgets->overcooked-ai==1.1.0) (6.1.12)\n",
            "Requirement already satisfied: tornado>=4.2 in /usr/local/lib/python3.10/dist-packages (from ipykernel>=4.5.1->ipywidgets->overcooked-ai==1.1.0) (6.3.2)\n",
            "Requirement already satisfied: parso<0.9.0,>=0.8.3 in /usr/local/lib/python3.10/dist-packages (from jedi>=0.16->ipython->overcooked-ai==1.1.0) (0.8.3)\n",
            "Requirement already satisfied: ptyprocess>=0.5 in /usr/local/lib/python3.10/dist-packages (from pexpect>4.3->ipython->overcooked-ai==1.1.0) (0.7.0)\n",
            "Requirement already satisfied: wcwidth in /usr/local/lib/python3.10/dist-packages (from prompt-toolkit!=3.0.0,!=3.0.1,<3.1.0,>=2.0.0->ipython->overcooked-ai==1.1.0) (0.2.6)\n",
            "Requirement already satisfied: notebook>=4.4.1 in /usr/local/lib/python3.10/dist-packages (from widgetsnbextension~=3.6.0->ipywidgets->overcooked-ai==1.1.0) (6.5.5)\n",
            "Requirement already satisfied: jinja2 in /usr/local/lib/python3.10/dist-packages (from notebook>=4.4.1->widgetsnbextension~=3.6.0->ipywidgets->overcooked-ai==1.1.0) (3.1.2)\n",
            "Requirement already satisfied: pyzmq<25,>=17 in /usr/local/lib/python3.10/dist-packages (from notebook>=4.4.1->widgetsnbextension~=3.6.0->ipywidgets->overcooked-ai==1.1.0) (23.2.1)\n",
            "Requirement already satisfied: argon2-cffi in /usr/local/lib/python3.10/dist-packages (from notebook>=4.4.1->widgetsnbextension~=3.6.0->ipywidgets->overcooked-ai==1.1.0) (23.1.0)\n",
            "Requirement already satisfied: jupyter-core>=4.6.1 in /usr/local/lib/python3.10/dist-packages (from notebook>=4.4.1->widgetsnbextension~=3.6.0->ipywidgets->overcooked-ai==1.1.0) (5.3.1)\n",
            "Requirement already satisfied: nbformat in /usr/local/lib/python3.10/dist-packages (from notebook>=4.4.1->widgetsnbextension~=3.6.0->ipywidgets->overcooked-ai==1.1.0) (5.9.2)\n",
            "Requirement already satisfied: nbconvert>=5 in /usr/local/lib/python3.10/dist-packages (from notebook>=4.4.1->widgetsnbextension~=3.6.0->ipywidgets->overcooked-ai==1.1.0) (6.5.4)\n",
            "Requirement already satisfied: nest-asyncio>=1.5 in /usr/local/lib/python3.10/dist-packages (from notebook>=4.4.1->widgetsnbextension~=3.6.0->ipywidgets->overcooked-ai==1.1.0) (1.5.7)\n",
            "Requirement already satisfied: Send2Trash>=1.8.0 in /usr/local/lib/python3.10/dist-packages (from notebook>=4.4.1->widgetsnbextension~=3.6.0->ipywidgets->overcooked-ai==1.1.0) (1.8.2)\n",
            "Requirement already satisfied: terminado>=0.8.3 in /usr/local/lib/python3.10/dist-packages (from notebook>=4.4.1->widgetsnbextension~=3.6.0->ipywidgets->overcooked-ai==1.1.0) (0.17.1)\n",
            "Requirement already satisfied: prometheus-client in /usr/local/lib/python3.10/dist-packages (from notebook>=4.4.1->widgetsnbextension~=3.6.0->ipywidgets->overcooked-ai==1.1.0) (0.17.1)\n",
            "Requirement already satisfied: nbclassic>=0.4.7 in /usr/local/lib/python3.10/dist-packages (from notebook>=4.4.1->widgetsnbextension~=3.6.0->ipywidgets->overcooked-ai==1.1.0) (1.0.0)\n",
            "Requirement already satisfied: python-dateutil>=2.1 in /usr/local/lib/python3.10/dist-packages (from jupyter-client->ipykernel>=4.5.1->ipywidgets->overcooked-ai==1.1.0) (2.8.2)\n",
            "Requirement already satisfied: platformdirs>=2.5 in /usr/local/lib/python3.10/dist-packages (from jupyter-core>=4.6.1->notebook>=4.4.1->widgetsnbextension~=3.6.0->ipywidgets->overcooked-ai==1.1.0) (3.10.0)\n",
            "Requirement already satisfied: jupyter-server>=1.8 in /usr/local/lib/python3.10/dist-packages (from nbclassic>=0.4.7->notebook>=4.4.1->widgetsnbextension~=3.6.0->ipywidgets->overcooked-ai==1.1.0) (1.24.0)\n",
            "Requirement already satisfied: notebook-shim>=0.2.3 in /usr/local/lib/python3.10/dist-packages (from nbclassic>=0.4.7->notebook>=4.4.1->widgetsnbextension~=3.6.0->ipywidgets->overcooked-ai==1.1.0) (0.2.3)\n",
            "Requirement already satisfied: lxml in /usr/local/lib/python3.10/dist-packages (from nbconvert>=5->notebook>=4.4.1->widgetsnbextension~=3.6.0->ipywidgets->overcooked-ai==1.1.0) (4.9.3)\n",
            "Requirement already satisfied: beautifulsoup4 in /usr/local/lib/python3.10/dist-packages (from nbconvert>=5->notebook>=4.4.1->widgetsnbextension~=3.6.0->ipywidgets->overcooked-ai==1.1.0) (4.11.2)\n",
            "Requirement already satisfied: bleach in /usr/local/lib/python3.10/dist-packages (from nbconvert>=5->notebook>=4.4.1->widgetsnbextension~=3.6.0->ipywidgets->overcooked-ai==1.1.0) (6.0.0)\n",
            "Requirement already satisfied: defusedxml in /usr/local/lib/python3.10/dist-packages (from nbconvert>=5->notebook>=4.4.1->widgetsnbextension~=3.6.0->ipywidgets->overcooked-ai==1.1.0) (0.7.1)\n",
            "Requirement already satisfied: entrypoints>=0.2.2 in /usr/local/lib/python3.10/dist-packages (from nbconvert>=5->notebook>=4.4.1->widgetsnbextension~=3.6.0->ipywidgets->overcooked-ai==1.1.0) (0.4)\n",
            "Requirement already satisfied: jupyterlab-pygments in /usr/local/lib/python3.10/dist-packages (from nbconvert>=5->notebook>=4.4.1->widgetsnbextension~=3.6.0->ipywidgets->overcooked-ai==1.1.0) (0.2.2)\n",
            "Requirement already satisfied: MarkupSafe>=2.0 in /usr/local/lib/python3.10/dist-packages (from nbconvert>=5->notebook>=4.4.1->widgetsnbextension~=3.6.0->ipywidgets->overcooked-ai==1.1.0) (2.1.3)\n",
            "Requirement already satisfied: mistune<2,>=0.8.1 in /usr/local/lib/python3.10/dist-packages (from nbconvert>=5->notebook>=4.4.1->widgetsnbextension~=3.6.0->ipywidgets->overcooked-ai==1.1.0) (0.8.4)\n",
            "Requirement already satisfied: nbclient>=0.5.0 in /usr/local/lib/python3.10/dist-packages (from nbconvert>=5->notebook>=4.4.1->widgetsnbextension~=3.6.0->ipywidgets->overcooked-ai==1.1.0) (0.8.0)\n",
            "Requirement already satisfied: packaging in /usr/local/lib/python3.10/dist-packages (from nbconvert>=5->notebook>=4.4.1->widgetsnbextension~=3.6.0->ipywidgets->overcooked-ai==1.1.0) (23.1)\n",
            "Requirement already satisfied: pandocfilters>=1.4.1 in /usr/local/lib/python3.10/dist-packages (from nbconvert>=5->notebook>=4.4.1->widgetsnbextension~=3.6.0->ipywidgets->overcooked-ai==1.1.0) (1.5.0)\n",
            "Requirement already satisfied: tinycss2 in /usr/local/lib/python3.10/dist-packages (from nbconvert>=5->notebook>=4.4.1->widgetsnbextension~=3.6.0->ipywidgets->overcooked-ai==1.1.0) (1.2.1)\n",
            "Requirement already satisfied: fastjsonschema in /usr/local/lib/python3.10/dist-packages (from nbformat->notebook>=4.4.1->widgetsnbextension~=3.6.0->ipywidgets->overcooked-ai==1.1.0) (2.18.0)\n",
            "Requirement already satisfied: jsonschema>=2.6 in /usr/local/lib/python3.10/dist-packages (from nbformat->notebook>=4.4.1->widgetsnbextension~=3.6.0->ipywidgets->overcooked-ai==1.1.0) (4.19.0)\n",
            "Requirement already satisfied: six>=1.5 in /usr/local/lib/python3.10/dist-packages (from python-dateutil>=2.1->jupyter-client->ipykernel>=4.5.1->ipywidgets->overcooked-ai==1.1.0) (1.16.0)\n",
            "Requirement already satisfied: argon2-cffi-bindings in /usr/local/lib/python3.10/dist-packages (from argon2-cffi->notebook>=4.4.1->widgetsnbextension~=3.6.0->ipywidgets->overcooked-ai==1.1.0) (21.2.0)\n",
            "Requirement already satisfied: attrs>=22.2.0 in /usr/local/lib/python3.10/dist-packages (from jsonschema>=2.6->nbformat->notebook>=4.4.1->widgetsnbextension~=3.6.0->ipywidgets->overcooked-ai==1.1.0) (23.1.0)\n",
            "Requirement already satisfied: jsonschema-specifications>=2023.03.6 in /usr/local/lib/python3.10/dist-packages (from jsonschema>=2.6->nbformat->notebook>=4.4.1->widgetsnbextension~=3.6.0->ipywidgets->overcooked-ai==1.1.0) (2023.7.1)\n",
            "Requirement already satisfied: referencing>=0.28.4 in /usr/local/lib/python3.10/dist-packages (from jsonschema>=2.6->nbformat->notebook>=4.4.1->widgetsnbextension~=3.6.0->ipywidgets->overcooked-ai==1.1.0) (0.30.2)\n",
            "Requirement already satisfied: rpds-py>=0.7.1 in /usr/local/lib/python3.10/dist-packages (from jsonschema>=2.6->nbformat->notebook>=4.4.1->widgetsnbextension~=3.6.0->ipywidgets->overcooked-ai==1.1.0) (0.9.2)\n",
            "Requirement already satisfied: anyio<4,>=3.1.0 in /usr/local/lib/python3.10/dist-packages (from jupyter-server>=1.8->nbclassic>=0.4.7->notebook>=4.4.1->widgetsnbextension~=3.6.0->ipywidgets->overcooked-ai==1.1.0) (3.7.1)\n",
            "Requirement already satisfied: websocket-client in /usr/local/lib/python3.10/dist-packages (from jupyter-server>=1.8->nbclassic>=0.4.7->notebook>=4.4.1->widgetsnbextension~=3.6.0->ipywidgets->overcooked-ai==1.1.0) (1.6.1)\n",
            "Requirement already satisfied: cffi>=1.0.1 in /usr/local/lib/python3.10/dist-packages (from argon2-cffi-bindings->argon2-cffi->notebook>=4.4.1->widgetsnbextension~=3.6.0->ipywidgets->overcooked-ai==1.1.0) (1.15.1)\n",
            "Requirement already satisfied: soupsieve>1.2 in /usr/local/lib/python3.10/dist-packages (from beautifulsoup4->nbconvert>=5->notebook>=4.4.1->widgetsnbextension~=3.6.0->ipywidgets->overcooked-ai==1.1.0) (2.4.1)\n",
            "Requirement already satisfied: webencodings in /usr/local/lib/python3.10/dist-packages (from bleach->nbconvert>=5->notebook>=4.4.1->widgetsnbextension~=3.6.0->ipywidgets->overcooked-ai==1.1.0) (0.5.1)\n",
            "Requirement already satisfied: idna>=2.8 in /usr/local/lib/python3.10/dist-packages (from anyio<4,>=3.1.0->jupyter-server>=1.8->nbclassic>=0.4.7->notebook>=4.4.1->widgetsnbextension~=3.6.0->ipywidgets->overcooked-ai==1.1.0) (3.4)\n",
            "Requirement already satisfied: sniffio>=1.1 in /usr/local/lib/python3.10/dist-packages (from anyio<4,>=3.1.0->jupyter-server>=1.8->nbclassic>=0.4.7->notebook>=4.4.1->widgetsnbextension~=3.6.0->ipywidgets->overcooked-ai==1.1.0) (1.3.0)\n",
            "Requirement already satisfied: exceptiongroup in /usr/local/lib/python3.10/dist-packages (from anyio<4,>=3.1.0->jupyter-server>=1.8->nbclassic>=0.4.7->notebook>=4.4.1->widgetsnbextension~=3.6.0->ipywidgets->overcooked-ai==1.1.0) (1.1.3)\n",
            "Requirement already satisfied: pycparser in /usr/local/lib/python3.10/dist-packages (from cffi>=1.0.1->argon2-cffi-bindings->argon2-cffi->notebook>=4.4.1->widgetsnbextension~=3.6.0->ipywidgets->overcooked-ai==1.1.0) (2.21)\n",
            "Building wheels for collected packages: overcooked-ai\n",
            "  Building wheel for overcooked-ai (setup.py) ... \u001b[?25l\u001b[?25hdone\n",
            "  Created wheel for overcooked-ai: filename=overcooked_ai-1.1.0-py3-none-any.whl size=10722385 sha256=5e7d1d634082fe4ce8edf7679928c434423270e3baa34ccb269790dff5ab2832\n",
            "  Stored in directory: /tmp/pip-ephem-wheel-cache-l6mnhpe8/wheels/70/0a/7e/1eec7737819d229798c2e79de5989bbf0c24e4bee337cdd2c6\n",
            "Successfully built overcooked-ai\n",
            "Installing collected packages: farama-notifications, jedi, gymnasium, dill, pettingzoo, overcooked-ai\n",
            "Successfully installed dill-0.3.7 farama-notifications-0.0.4 gymnasium-0.29.0 jedi-0.19.0 overcooked-ai-1.1.0 pettingzoo-1.23.1\n"
          ]
        }
      ]
    },
    {
      "cell_type": "code",
      "execution_count": 2,
      "metadata": {
        "id": "YzlYCUOmiT3P"
      },
      "outputs": [],
      "source": [
        "from overcooked_ai_py.agents.benchmarking import AgentEvaluator\n",
        "from overcooked_ai_py.agents.agent import AgentPair, FixedPlanAgent, GreedyHumanModel, RandomAgent, SampleAgent\n",
        "from overcooked_ai_py.visualization.state_visualizer import StateVisualizer"
      ]
    },
    {
      "cell_type": "code",
      "source": [
        "ae = AgentEvaluator.from_layout_name({\"layout_name\": \"cramped_room\"}, {\"horizon\": 100})\n",
        "trajs = ae.evaluate_human_model_pair()"
      ],
      "metadata": {
        "colab": {
          "base_uri": "https://localhost:8080/"
        },
        "id": "6Xlu54MkiXCR",
        "outputId": "e2a00de5-541c-48d9-b6aa-8d9b2fe614c0"
      },
      "execution_count": 3,
      "outputs": [
        {
          "output_type": "stream",
          "name": "stdout",
          "text": [
            "Computing MotionPlanner to be saved in /usr/local/lib/python3.10/dist-packages/overcooked_ai_py/data/planners/cramped_room_mp.pkl\n",
            "It took 0.03281807899475098 seconds to create mp\n"
          ]
        },
        {
          "output_type": "stream",
          "name": "stderr",
          "text": [
            "Avg rew: 40.00 (std: 0.00, se: 0.00); avg len: 100.00; : 100%|██████████| 1/1 [00:00<00:00, 17.88it/s]\n"
          ]
        }
      ]
    },
    {
      "cell_type": "code",
      "source": [
        "action_probs = [ [RandomAgent(all_actions=True).action(state)[1][\"action_probs\"]]*2 for state in trajs[\"ep_states\"][0]]\n",
        "StateVisualizer().display_rendered_trajectory(trajs, ipython_display=True)"
      ],
      "metadata": {
        "colab": {
          "base_uri": "https://localhost:8080/",
          "height": 449,
          "referenced_widgets": [
            "2b2204dcbaef4c15af7676428a53aed1",
            "ca57c8251a0f44a0a46ba837ae863060",
            "8f8613748f874af7a1da1fb26db6a5f0",
            "de4d5ac821954b52bf0965b02e8f26a0",
            "0f6f50327af343a9b8fe32d5c99a141d",
            "efe2883436f64241945f4cb5dd8ef11d",
            "5480d78b1d1f4480b9e85e74a67a096b"
          ]
        },
        "id": "3CWJ9mFTiX7O",
        "outputId": "4d530d9e-f1fe-476d-8e1f-c5e5e75d0057"
      },
      "execution_count": 4,
      "outputs": [
        {
          "output_type": "display_data",
          "data": {
            "text/plain": [
              "interactive(children=(IntSlider(value=0, description='timestep', max=99), Output()), _dom_classes=('widget-int…"
            ],
            "application/vnd.jupyter.widget-view+json": {
              "version_major": 2,
              "version_minor": 0,
              "model_id": "2b2204dcbaef4c15af7676428a53aed1"
            }
          },
          "metadata": {}
        }
      ]
    },
    {
      "cell_type": "code",
      "source": [],
      "metadata": {
        "id": "Z1RBlqADnTDw"
      },
      "execution_count": 4,
      "outputs": []
    }
  ]
}