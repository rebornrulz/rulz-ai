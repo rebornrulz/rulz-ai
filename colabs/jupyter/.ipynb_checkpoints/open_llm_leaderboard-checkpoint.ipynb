{
 "cells": [
  {
   "cell_type": "code",
   "execution_count": 1,
   "id": "5d17b274-8ed2-49c7-8667-3d0e31614109",
   "metadata": {},
   "outputs": [
    {
     "ename": "SyntaxError",
     "evalue": "invalid syntax (322184783.py, line 1)",
     "output_type": "error",
     "traceback": [
      "\u001b[1;36m  Cell \u001b[1;32mIn[1], line 1\u001b[1;36m\u001b[0m\n\u001b[1;33m    git lfs install\u001b[0m\n\u001b[1;37m        ^\u001b[0m\n\u001b[1;31mSyntaxError\u001b[0m\u001b[1;31m:\u001b[0m invalid syntax\n"
     ]
    }
   ],
   "source": [
    "git lfs install\n",
    "git clone https://huggingface.co/spaces/HuggingFaceH4/open_llm_leaderboard"
   ]
  },
  {
   "cell_type": "code",
   "execution_count": 2,
   "id": "c1c7ea9c-3f65-485d-8520-6c019b89be11",
   "metadata": {},
   "outputs": [],
   "source": [
    "GIT_LFS_SKIP_SMUDGE=1"
   ]
  },
  {
   "cell_type": "code",
   "execution_count": 3,
   "id": "221b8ef2-5eda-42a2-8190-b776da6576b2",
   "metadata": {},
   "outputs": [
    {
     "ename": "SyntaxError",
     "evalue": "invalid decimal literal (755558190.py, line 1)",
     "output_type": "error",
     "traceback": [
      "\u001b[1;36m  Cell \u001b[1;32mIn[3], line 1\u001b[1;36m\u001b[0m\n\u001b[1;33m    git clone https://huggingface.co/bigscience/bloom-560m\u001b[0m\n\u001b[1;37m                                                        ^\u001b[0m\n\u001b[1;31mSyntaxError\u001b[0m\u001b[1;31m:\u001b[0m invalid decimal literal\n"
     ]
    }
   ],
   "source": [
    "git clone https://huggingface.co/bigscience/bloom-560m"
   ]
  },
  {
   "cell_type": "code",
   "execution_count": null,
   "id": "1d00f597-4fcc-47e9-91da-d96c5d17b39c",
   "metadata": {},
   "outputs": [],
   "source": []
  }
 ],
 "metadata": {
  "kernelspec": {
   "display_name": "Python 3 (ipykernel)",
   "language": "python",
   "name": "python3"
  },
  "language_info": {
   "codemirror_mode": {
    "name": "ipython",
    "version": 3
   },
   "file_extension": ".py",
   "mimetype": "text/x-python",
   "name": "python",
   "nbconvert_exporter": "python",
   "pygments_lexer": "ipython3",
   "version": "3.10.12"
  }
 },
 "nbformat": 4,
 "nbformat_minor": 5
}
