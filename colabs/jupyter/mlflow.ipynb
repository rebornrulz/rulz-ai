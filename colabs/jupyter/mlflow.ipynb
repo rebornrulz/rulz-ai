{
 "cells": [
  {
   "cell_type": "code",
   "execution_count": null,
   "metadata": {},
   "outputs": [],
   "source": [
    "%pip3 install mlflow dagshub"
   ]
  },
  {
   "cell_type": "code",
   "execution_count": null,
   "metadata": {},
   "outputs": [],
   "source": [
    "import dagshub\n",
    "import mlflow\n",
    "\n",
    "dagshub.init(\"Sentiment-Analysis-Hugging-Face\", \"rebornrulz\", mlflow=True)\n",
    "mlflow.start_run()\n",
    "\n",
    "\n",
    "mlflow.log_param(\"parameter name \", \"value\")\n",
    "mlflow.log_metric(\"metric name\", 1)\n",
    "\n",
    "mlflow.end_run()"
   ]
  }
 ],
 "metadata": {
  "kernelspec": {
   "display_name": "base",
   "language": "python",
   "name": "python3"
  },
  "language_info": {
   "name": "python",
   "version": "3.10.12"
  },
  "orig_nbformat": 4
 },
 "nbformat": 4,
 "nbformat_minor": 2
}
