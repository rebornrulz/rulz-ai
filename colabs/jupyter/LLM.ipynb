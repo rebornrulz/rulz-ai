{
  "metadata": {
    "language_info": {
      "name": ""
    },
    "kernelspec": {
      "name": "python",
      "display_name": "Python (Pyodide)",
      "language": "python"
    }
  },
  "nbformat_minor": 4,
  "nbformat": 4,
  "cells": [
    {
      "cell_type": "code",
      "source": "!pip install rasa mert bert magenta llama t5\n!pip install googlesearch-python requests\n\nfrom setuptools import setup, find_packages\n\nsetup(\n    name='rulz_ai',\n    version='3.0.0',\n    author='Reborn Rulz',\n    author_email='r3b0rnrulz@email.com',\n    description='Rulz-AI is a Large Language Model trained in vast data.',\n    packages=find_packages(),\n    classifiers=[\n        'Development Status :: 3 - Alpha',\n        'Intended Audience :: Developers',\n        'License :: OSI Approved :: MIT License',\n        'Programming Language :: Python :: 3',\n        'Programming Language :: Python :: 3.7',\n        'Programming Language :: Python :: 3.8',\n        'Topic :: Scientific/Engineering :: Artificial Intelligence',\n        'Topic :: Software Development :: Libraries :: Python Modules',\n    ],\n    install_requires=[\n        'rasa',\n        'mert',\n        'bert',\n        'magenta',\n        'llama',\n        't5',\n        'googlesearch-python',\n        'requests',\n    ],\n)",
      "metadata": {
        "trusted": true
      },
      "execution_count": null,
      "outputs": []
    }
  ]
}