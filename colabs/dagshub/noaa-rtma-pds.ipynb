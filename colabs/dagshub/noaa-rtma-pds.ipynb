{
  "cells": [
    {
      "cell_type": "markdown",
      "metadata": {
        "colab_type": "text",
        "id": "view-in-github"
      },
      "source": [
        "<a href=\"https://colab.research.google.com/github/rebornrulz/rulz-ai/blob/master/colabs/dagshub/noaa-rtma-pds.ipynb\" target=\"_parent\"><img src=\"https://colab.research.google.com/assets/colab-badge.svg\" alt=\"Open In Colab\"/></a>"
      ]
    },
    {
      "cell_type": "markdown",
      "id": "fd2e0fe4",
      "metadata": {
        "id": "fd2e0fe4"
      },
      "source": [
        "## Run this to save the notebook to DagsHub 👇"
      ]
    },
    {
      "cell_type": "code",
      "execution_count": 1,
      "id": "2JvR9_vR4VyK",
      "metadata": {
        "colab": {
          "base_uri": "https://localhost:8080/"
        },
        "id": "2JvR9_vR4VyK",
        "outputId": "0d2e5e15-94fd-45a3-c96a-ce88b1f48de0"
      },
      "outputs": [
        {
          "name": "stdout",
          "output_type": "stream",
          "text": [
            "Defaulting to user installation because normal site-packages is not writeable\n",
            "Requirement already satisfied: dagshub in /Users/rulz-ai/Library/Python/3.9/lib/python/site-packages (0.3.8.post2)\n",
            "Requirement already satisfied: PyYAML>=5 in /Users/rulz-ai/Library/Python/3.9/lib/python/site-packages (from dagshub) (6.0.1)\n",
            "Requirement already satisfied: fusepy>=3 in /Users/rulz-ai/Library/Python/3.9/lib/python/site-packages (from dagshub) (3.0.1)\n",
            "Requirement already satisfied: appdirs>=1.4.4 in /Users/rulz-ai/Library/Python/3.9/lib/python/site-packages (from dagshub) (1.4.4)\n",
            "Requirement already satisfied: click>=8.0.4 in /Users/rulz-ai/Library/Python/3.9/lib/python/site-packages (from dagshub) (8.1.7)\n",
            "Requirement already satisfied: httpx~=0.23.0 in /Users/rulz-ai/Library/Python/3.9/lib/python/site-packages (from dagshub) (0.23.3)\n",
            "Requirement already satisfied: GitPython>=3.1.29 in /Users/rulz-ai/Library/Python/3.9/lib/python/site-packages (from dagshub) (3.1.40)\n",
            "Requirement already satisfied: rich~=13.1.0 in /Users/rulz-ai/Library/Python/3.9/lib/python/site-packages (from rich[jupyter]~=13.1.0->dagshub) (13.1.0)\n",
            "Requirement already satisfied: dacite~=1.6.0 in /Users/rulz-ai/Library/Python/3.9/lib/python/site-packages (from dagshub) (1.6.0)\n",
            "Requirement already satisfied: tenacity~=8.2.2 in /Users/rulz-ai/Library/Python/3.9/lib/python/site-packages (from dagshub) (8.2.3)\n",
            "Requirement already satisfied: gql[requests] in /Users/rulz-ai/Library/Python/3.9/lib/python/site-packages (from dagshub) (3.4.1)\n",
            "Requirement already satisfied: dataclasses-json in /Users/rulz-ai/Library/Python/3.9/lib/python/site-packages (from dagshub) (0.6.1)\n",
            "Requirement already satisfied: pandas in /Users/rulz-ai/Library/Python/3.9/lib/python/site-packages (from dagshub) (2.1.2)\n",
            "Requirement already satisfied: treelib~=1.6.4 in /Users/rulz-ai/Library/Python/3.9/lib/python/site-packages (from dagshub) (1.6.4)\n",
            "Requirement already satisfied: pathvalidate~=3.0.0 in /Users/rulz-ai/Library/Python/3.9/lib/python/site-packages (from dagshub) (3.0.0)\n",
            "Requirement already satisfied: python-dateutil in /Users/rulz-ai/Library/Python/3.9/lib/python/site-packages (from dagshub) (2.8.2)\n",
            "Requirement already satisfied: gitdb<5,>=4.0.1 in /Users/rulz-ai/Library/Python/3.9/lib/python/site-packages (from GitPython>=3.1.29->dagshub) (4.0.11)\n",
            "Requirement already satisfied: certifi in /Users/rulz-ai/Library/Python/3.9/lib/python/site-packages (from httpx~=0.23.0->dagshub) (2023.7.22)\n",
            "Requirement already satisfied: httpcore<0.17.0,>=0.15.0 in /Users/rulz-ai/Library/Python/3.9/lib/python/site-packages (from httpx~=0.23.0->dagshub) (0.16.3)\n",
            "Requirement already satisfied: rfc3986<2,>=1.3 in /Users/rulz-ai/Library/Python/3.9/lib/python/site-packages (from rfc3986[idna2008]<2,>=1.3->httpx~=0.23.0->dagshub) (1.5.0)\n",
            "Requirement already satisfied: sniffio in /Users/rulz-ai/Library/Python/3.9/lib/python/site-packages (from httpx~=0.23.0->dagshub) (1.3.0)\n",
            "Requirement already satisfied: commonmark<0.10.0,>=0.9.0 in /Users/rulz-ai/Library/Python/3.9/lib/python/site-packages (from rich~=13.1.0->rich[jupyter]~=13.1.0->dagshub) (0.9.1)\n",
            "Requirement already satisfied: pygments<3.0.0,>=2.6.0 in /Users/rulz-ai/Library/Python/3.9/lib/python/site-packages (from rich~=13.1.0->rich[jupyter]~=13.1.0->dagshub) (2.16.1)\n",
            "Requirement already satisfied: ipywidgets<8.0.0,>=7.5.1 in /Users/rulz-ai/Library/Python/3.9/lib/python/site-packages (from rich[jupyter]~=13.1.0->dagshub) (7.8.1)\n",
            "Requirement already satisfied: six in /Applications/Xcode.app/Contents/Developer/Library/Frameworks/Python3.framework/Versions/3.9/lib/python3.9/site-packages (from treelib~=1.6.4->dagshub) (1.15.0)\n",
            "Requirement already satisfied: marshmallow<4.0.0,>=3.18.0 in /Users/rulz-ai/Library/Python/3.9/lib/python/site-packages (from dataclasses-json->dagshub) (3.20.1)\n",
            "Requirement already satisfied: typing-inspect<1,>=0.4.0 in /Users/rulz-ai/Library/Python/3.9/lib/python/site-packages (from dataclasses-json->dagshub) (0.9.0)\n",
            "Requirement already satisfied: graphql-core<3.3,>=3.2 in /Users/rulz-ai/Library/Python/3.9/lib/python/site-packages (from gql[requests]->dagshub) (3.2.3)\n",
            "Requirement already satisfied: yarl<2.0,>=1.6 in /Users/rulz-ai/Library/Python/3.9/lib/python/site-packages (from gql[requests]->dagshub) (1.9.2)\n",
            "Requirement already satisfied: backoff<3.0,>=1.11.1 in /Users/rulz-ai/Library/Python/3.9/lib/python/site-packages (from gql[requests]->dagshub) (2.2.1)\n",
            "Requirement already satisfied: requests<3,>=2.26 in /Users/rulz-ai/Library/Python/3.9/lib/python/site-packages (from gql[requests]->dagshub) (2.31.0)\n",
            "Requirement already satisfied: requests-toolbelt<1,>=0.9.1 in /Users/rulz-ai/Library/Python/3.9/lib/python/site-packages (from gql[requests]->dagshub) (0.10.1)\n",
            "Requirement already satisfied: urllib3<2,>=1.26 in /Users/rulz-ai/Library/Python/3.9/lib/python/site-packages (from gql[requests]->dagshub) (1.26.18)\n",
            "Requirement already satisfied: numpy<2,>=1.22.4 in /Users/rulz-ai/Library/Python/3.9/lib/python/site-packages (from pandas->dagshub) (1.26.1)\n",
            "Requirement already satisfied: pytz>=2020.1 in /Users/rulz-ai/Library/Python/3.9/lib/python/site-packages (from pandas->dagshub) (2023.3.post1)\n",
            "Requirement already satisfied: tzdata>=2022.1 in /Users/rulz-ai/Library/Python/3.9/lib/python/site-packages (from pandas->dagshub) (2023.3)\n",
            "Requirement already satisfied: smmap<6,>=3.0.1 in /Users/rulz-ai/Library/Python/3.9/lib/python/site-packages (from gitdb<5,>=4.0.1->GitPython>=3.1.29->dagshub) (5.0.1)\n",
            "Requirement already satisfied: h11<0.15,>=0.13 in /Users/rulz-ai/Library/Python/3.9/lib/python/site-packages (from httpcore<0.17.0,>=0.15.0->httpx~=0.23.0->dagshub) (0.14.0)\n",
            "Requirement already satisfied: anyio<5.0,>=3.0 in /Users/rulz-ai/Library/Python/3.9/lib/python/site-packages (from httpcore<0.17.0,>=0.15.0->httpx~=0.23.0->dagshub) (4.0.0)\n",
            "Requirement already satisfied: comm>=0.1.3 in /Users/rulz-ai/Library/Python/3.9/lib/python/site-packages (from ipywidgets<8.0.0,>=7.5.1->rich[jupyter]~=13.1.0->dagshub) (0.1.4)\n",
            "Requirement already satisfied: ipython-genutils~=0.2.0 in /Users/rulz-ai/Library/Python/3.9/lib/python/site-packages (from ipywidgets<8.0.0,>=7.5.1->rich[jupyter]~=13.1.0->dagshub) (0.2.0)\n",
            "Requirement already satisfied: traitlets>=4.3.1 in /Users/rulz-ai/Library/Python/3.9/lib/python/site-packages (from ipywidgets<8.0.0,>=7.5.1->rich[jupyter]~=13.1.0->dagshub) (5.13.0)\n",
            "Requirement already satisfied: widgetsnbextension~=3.6.6 in /Users/rulz-ai/Library/Python/3.9/lib/python/site-packages (from ipywidgets<8.0.0,>=7.5.1->rich[jupyter]~=13.1.0->dagshub) (3.6.6)\n",
            "Requirement already satisfied: ipython>=4.0.0 in /Users/rulz-ai/Library/Python/3.9/lib/python/site-packages (from ipywidgets<8.0.0,>=7.5.1->rich[jupyter]~=13.1.0->dagshub) (8.17.2)\n",
            "Requirement already satisfied: jupyterlab-widgets<3,>=1.0.0 in /Users/rulz-ai/Library/Python/3.9/lib/python/site-packages (from ipywidgets<8.0.0,>=7.5.1->rich[jupyter]~=13.1.0->dagshub) (1.1.7)\n",
            "Requirement already satisfied: packaging>=17.0 in /Users/rulz-ai/Library/Python/3.9/lib/python/site-packages (from marshmallow<4.0.0,>=3.18.0->dataclasses-json->dagshub) (23.2)\n",
            "Requirement already satisfied: charset-normalizer<4,>=2 in /Users/rulz-ai/Library/Python/3.9/lib/python/site-packages (from requests<3,>=2.26->gql[requests]->dagshub) (3.3.2)\n",
            "Requirement already satisfied: idna<4,>=2.5 in /Users/rulz-ai/Library/Python/3.9/lib/python/site-packages (from requests<3,>=2.26->gql[requests]->dagshub) (3.4)\n",
            "Requirement already satisfied: mypy-extensions>=0.3.0 in /Users/rulz-ai/Library/Python/3.9/lib/python/site-packages (from typing-inspect<1,>=0.4.0->dataclasses-json->dagshub) (1.0.0)\n",
            "Requirement already satisfied: typing-extensions>=3.7.4 in /Users/rulz-ai/Library/Python/3.9/lib/python/site-packages (from typing-inspect<1,>=0.4.0->dataclasses-json->dagshub) (4.8.0)\n",
            "Requirement already satisfied: multidict>=4.0 in /Users/rulz-ai/Library/Python/3.9/lib/python/site-packages (from yarl<2.0,>=1.6->gql[requests]->dagshub) (6.0.4)\n",
            "Requirement already satisfied: exceptiongroup>=1.0.2 in /Users/rulz-ai/Library/Python/3.9/lib/python/site-packages (from anyio<5.0,>=3.0->httpcore<0.17.0,>=0.15.0->httpx~=0.23.0->dagshub) (1.1.3)\n",
            "Requirement already satisfied: decorator in /Users/rulz-ai/Library/Python/3.9/lib/python/site-packages (from ipython>=4.0.0->ipywidgets<8.0.0,>=7.5.1->rich[jupyter]~=13.1.0->dagshub) (5.1.1)\n",
            "Requirement already satisfied: jedi>=0.16 in /Users/rulz-ai/Library/Python/3.9/lib/python/site-packages (from ipython>=4.0.0->ipywidgets<8.0.0,>=7.5.1->rich[jupyter]~=13.1.0->dagshub) (0.19.1)\n",
            "Requirement already satisfied: matplotlib-inline in /Users/rulz-ai/Library/Python/3.9/lib/python/site-packages (from ipython>=4.0.0->ipywidgets<8.0.0,>=7.5.1->rich[jupyter]~=13.1.0->dagshub) (0.1.6)\n",
            "Requirement already satisfied: prompt-toolkit!=3.0.37,<3.1.0,>=3.0.30 in /Users/rulz-ai/Library/Python/3.9/lib/python/site-packages (from ipython>=4.0.0->ipywidgets<8.0.0,>=7.5.1->rich[jupyter]~=13.1.0->dagshub) (3.0.39)\n",
            "Requirement already satisfied: stack-data in /Users/rulz-ai/Library/Python/3.9/lib/python/site-packages (from ipython>=4.0.0->ipywidgets<8.0.0,>=7.5.1->rich[jupyter]~=13.1.0->dagshub) (0.6.3)\n",
            "Requirement already satisfied: pexpect>4.3 in /Users/rulz-ai/Library/Python/3.9/lib/python/site-packages (from ipython>=4.0.0->ipywidgets<8.0.0,>=7.5.1->rich[jupyter]~=13.1.0->dagshub) (4.8.0)\n",
            "Requirement already satisfied: appnope in /Users/rulz-ai/Library/Python/3.9/lib/python/site-packages (from ipython>=4.0.0->ipywidgets<8.0.0,>=7.5.1->rich[jupyter]~=13.1.0->dagshub) (0.1.3)\n",
            "Requirement already satisfied: notebook>=4.4.1 in /Users/rulz-ai/Library/Python/3.9/lib/python/site-packages (from widgetsnbextension~=3.6.6->ipywidgets<8.0.0,>=7.5.1->rich[jupyter]~=13.1.0->dagshub) (7.0.6)\n",
            "Requirement already satisfied: parso<0.9.0,>=0.8.3 in /Users/rulz-ai/Library/Python/3.9/lib/python/site-packages (from jedi>=0.16->ipython>=4.0.0->ipywidgets<8.0.0,>=7.5.1->rich[jupyter]~=13.1.0->dagshub) (0.8.3)\n",
            "Requirement already satisfied: jupyter-server<3,>=2.4.0 in /Users/rulz-ai/Library/Python/3.9/lib/python/site-packages (from notebook>=4.4.1->widgetsnbextension~=3.6.6->ipywidgets<8.0.0,>=7.5.1->rich[jupyter]~=13.1.0->dagshub) (2.9.1)\n",
            "Requirement already satisfied: jupyterlab-server<3,>=2.22.1 in /Users/rulz-ai/Library/Python/3.9/lib/python/site-packages (from notebook>=4.4.1->widgetsnbextension~=3.6.6->ipywidgets<8.0.0,>=7.5.1->rich[jupyter]~=13.1.0->dagshub) (2.25.0)\n",
            "Requirement already satisfied: jupyterlab<5,>=4.0.2 in /Users/rulz-ai/Library/Python/3.9/lib/python/site-packages (from notebook>=4.4.1->widgetsnbextension~=3.6.6->ipywidgets<8.0.0,>=7.5.1->rich[jupyter]~=13.1.0->dagshub) (4.0.8)\n",
            "Requirement already satisfied: notebook-shim<0.3,>=0.2 in /Users/rulz-ai/Library/Python/3.9/lib/python/site-packages (from notebook>=4.4.1->widgetsnbextension~=3.6.6->ipywidgets<8.0.0,>=7.5.1->rich[jupyter]~=13.1.0->dagshub) (0.2.3)\n",
            "Requirement already satisfied: tornado>=6.2.0 in /Users/rulz-ai/Library/Python/3.9/lib/python/site-packages (from notebook>=4.4.1->widgetsnbextension~=3.6.6->ipywidgets<8.0.0,>=7.5.1->rich[jupyter]~=13.1.0->dagshub) (6.3.3)\n",
            "Requirement already satisfied: ptyprocess>=0.5 in /Users/rulz-ai/Library/Python/3.9/lib/python/site-packages (from pexpect>4.3->ipython>=4.0.0->ipywidgets<8.0.0,>=7.5.1->rich[jupyter]~=13.1.0->dagshub) (0.7.0)\n",
            "Requirement already satisfied: wcwidth in /Users/rulz-ai/Library/Python/3.9/lib/python/site-packages (from prompt-toolkit!=3.0.37,<3.1.0,>=3.0.30->ipython>=4.0.0->ipywidgets<8.0.0,>=7.5.1->rich[jupyter]~=13.1.0->dagshub) (0.2.9)\n",
            "Requirement already satisfied: executing>=1.2.0 in /Users/rulz-ai/Library/Python/3.9/lib/python/site-packages (from stack-data->ipython>=4.0.0->ipywidgets<8.0.0,>=7.5.1->rich[jupyter]~=13.1.0->dagshub) (2.0.1)\n",
            "Requirement already satisfied: asttokens>=2.1.0 in /Users/rulz-ai/Library/Python/3.9/lib/python/site-packages (from stack-data->ipython>=4.0.0->ipywidgets<8.0.0,>=7.5.1->rich[jupyter]~=13.1.0->dagshub) (2.4.1)\n",
            "Requirement already satisfied: pure-eval in /Users/rulz-ai/Library/Python/3.9/lib/python/site-packages (from stack-data->ipython>=4.0.0->ipywidgets<8.0.0,>=7.5.1->rich[jupyter]~=13.1.0->dagshub) (0.2.2)\n",
            "Requirement already satisfied: argon2-cffi in /Users/rulz-ai/Library/Python/3.9/lib/python/site-packages (from jupyter-server<3,>=2.4.0->notebook>=4.4.1->widgetsnbextension~=3.6.6->ipywidgets<8.0.0,>=7.5.1->rich[jupyter]~=13.1.0->dagshub) (23.1.0)\n",
            "Requirement already satisfied: jinja2 in /Users/rulz-ai/Library/Python/3.9/lib/python/site-packages (from jupyter-server<3,>=2.4.0->notebook>=4.4.1->widgetsnbextension~=3.6.6->ipywidgets<8.0.0,>=7.5.1->rich[jupyter]~=13.1.0->dagshub) (3.1.2)\n",
            "Requirement already satisfied: jupyter-client>=7.4.4 in /Users/rulz-ai/Library/Python/3.9/lib/python/site-packages (from jupyter-server<3,>=2.4.0->notebook>=4.4.1->widgetsnbextension~=3.6.6->ipywidgets<8.0.0,>=7.5.1->rich[jupyter]~=13.1.0->dagshub) (8.5.0)\n",
            "Requirement already satisfied: jupyter-core!=5.0.*,>=4.12 in /Users/rulz-ai/Library/Python/3.9/lib/python/site-packages (from jupyter-server<3,>=2.4.0->notebook>=4.4.1->widgetsnbextension~=3.6.6->ipywidgets<8.0.0,>=7.5.1->rich[jupyter]~=13.1.0->dagshub) (5.5.0)\n",
            "Requirement already satisfied: jupyter-events>=0.6.0 in /Users/rulz-ai/Library/Python/3.9/lib/python/site-packages (from jupyter-server<3,>=2.4.0->notebook>=4.4.1->widgetsnbextension~=3.6.6->ipywidgets<8.0.0,>=7.5.1->rich[jupyter]~=13.1.0->dagshub) (0.8.0)\n",
            "Requirement already satisfied: jupyter-server-terminals in /Users/rulz-ai/Library/Python/3.9/lib/python/site-packages (from jupyter-server<3,>=2.4.0->notebook>=4.4.1->widgetsnbextension~=3.6.6->ipywidgets<8.0.0,>=7.5.1->rich[jupyter]~=13.1.0->dagshub) (0.4.4)\n",
            "Requirement already satisfied: nbconvert>=6.4.4 in /Users/rulz-ai/Library/Python/3.9/lib/python/site-packages (from jupyter-server<3,>=2.4.0->notebook>=4.4.1->widgetsnbextension~=3.6.6->ipywidgets<8.0.0,>=7.5.1->rich[jupyter]~=13.1.0->dagshub) (7.10.0)\n",
            "Requirement already satisfied: nbformat>=5.3.0 in /Users/rulz-ai/Library/Python/3.9/lib/python/site-packages (from jupyter-server<3,>=2.4.0->notebook>=4.4.1->widgetsnbextension~=3.6.6->ipywidgets<8.0.0,>=7.5.1->rich[jupyter]~=13.1.0->dagshub) (5.9.2)\n",
            "Requirement already satisfied: overrides in /Users/rulz-ai/Library/Python/3.9/lib/python/site-packages (from jupyter-server<3,>=2.4.0->notebook>=4.4.1->widgetsnbextension~=3.6.6->ipywidgets<8.0.0,>=7.5.1->rich[jupyter]~=13.1.0->dagshub) (7.4.0)\n",
            "Requirement already satisfied: prometheus-client in /Users/rulz-ai/Library/Python/3.9/lib/python/site-packages (from jupyter-server<3,>=2.4.0->notebook>=4.4.1->widgetsnbextension~=3.6.6->ipywidgets<8.0.0,>=7.5.1->rich[jupyter]~=13.1.0->dagshub) (0.18.0)\n",
            "Requirement already satisfied: pyzmq>=24 in /Users/rulz-ai/Library/Python/3.9/lib/python/site-packages (from jupyter-server<3,>=2.4.0->notebook>=4.4.1->widgetsnbextension~=3.6.6->ipywidgets<8.0.0,>=7.5.1->rich[jupyter]~=13.1.0->dagshub) (25.1.1)\n",
            "Requirement already satisfied: send2trash>=1.8.2 in /Users/rulz-ai/Library/Python/3.9/lib/python/site-packages (from jupyter-server<3,>=2.4.0->notebook>=4.4.1->widgetsnbextension~=3.6.6->ipywidgets<8.0.0,>=7.5.1->rich[jupyter]~=13.1.0->dagshub) (1.8.2)\n",
            "Requirement already satisfied: terminado>=0.8.3 in /Users/rulz-ai/Library/Python/3.9/lib/python/site-packages (from jupyter-server<3,>=2.4.0->notebook>=4.4.1->widgetsnbextension~=3.6.6->ipywidgets<8.0.0,>=7.5.1->rich[jupyter]~=13.1.0->dagshub) (0.17.1)\n",
            "Requirement already satisfied: websocket-client in /Users/rulz-ai/Library/Python/3.9/lib/python/site-packages (from jupyter-server<3,>=2.4.0->notebook>=4.4.1->widgetsnbextension~=3.6.6->ipywidgets<8.0.0,>=7.5.1->rich[jupyter]~=13.1.0->dagshub) (1.6.4)\n",
            "Requirement already satisfied: async-lru>=1.0.0 in /Users/rulz-ai/Library/Python/3.9/lib/python/site-packages (from jupyterlab<5,>=4.0.2->notebook>=4.4.1->widgetsnbextension~=3.6.6->ipywidgets<8.0.0,>=7.5.1->rich[jupyter]~=13.1.0->dagshub) (2.0.4)\n",
            "Requirement already satisfied: importlib-metadata>=4.8.3 in /Users/rulz-ai/Library/Python/3.9/lib/python/site-packages (from jupyterlab<5,>=4.0.2->notebook>=4.4.1->widgetsnbextension~=3.6.6->ipywidgets<8.0.0,>=7.5.1->rich[jupyter]~=13.1.0->dagshub) (6.8.0)\n",
            "Requirement already satisfied: ipykernel in /Users/rulz-ai/Library/Python/3.9/lib/python/site-packages (from jupyterlab<5,>=4.0.2->notebook>=4.4.1->widgetsnbextension~=3.6.6->ipywidgets<8.0.0,>=7.5.1->rich[jupyter]~=13.1.0->dagshub) (6.26.0)\n",
            "Requirement already satisfied: jupyter-lsp>=2.0.0 in /Users/rulz-ai/Library/Python/3.9/lib/python/site-packages (from jupyterlab<5,>=4.0.2->notebook>=4.4.1->widgetsnbextension~=3.6.6->ipywidgets<8.0.0,>=7.5.1->rich[jupyter]~=13.1.0->dagshub) (2.2.0)\n",
            "Requirement already satisfied: tomli in /Users/rulz-ai/Library/Python/3.9/lib/python/site-packages (from jupyterlab<5,>=4.0.2->notebook>=4.4.1->widgetsnbextension~=3.6.6->ipywidgets<8.0.0,>=7.5.1->rich[jupyter]~=13.1.0->dagshub) (2.0.1)\n",
            "Requirement already satisfied: babel>=2.10 in /Users/rulz-ai/Library/Python/3.9/lib/python/site-packages (from jupyterlab-server<3,>=2.22.1->notebook>=4.4.1->widgetsnbextension~=3.6.6->ipywidgets<8.0.0,>=7.5.1->rich[jupyter]~=13.1.0->dagshub) (2.13.1)\n",
            "Requirement already satisfied: json5>=0.9.0 in /Users/rulz-ai/Library/Python/3.9/lib/python/site-packages (from jupyterlab-server<3,>=2.22.1->notebook>=4.4.1->widgetsnbextension~=3.6.6->ipywidgets<8.0.0,>=7.5.1->rich[jupyter]~=13.1.0->dagshub) (0.9.14)\n",
            "Requirement already satisfied: jsonschema>=4.18.0 in /Users/rulz-ai/Library/Python/3.9/lib/python/site-packages (from jupyterlab-server<3,>=2.22.1->notebook>=4.4.1->widgetsnbextension~=3.6.6->ipywidgets<8.0.0,>=7.5.1->rich[jupyter]~=13.1.0->dagshub) (4.19.2)\n",
            "Requirement already satisfied: zipp>=0.5 in /Users/rulz-ai/Library/Python/3.9/lib/python/site-packages (from importlib-metadata>=4.8.3->jupyterlab<5,>=4.0.2->notebook>=4.4.1->widgetsnbextension~=3.6.6->ipywidgets<8.0.0,>=7.5.1->rich[jupyter]~=13.1.0->dagshub) (3.17.0)\n",
            "Requirement already satisfied: MarkupSafe>=2.0 in /Users/rulz-ai/Library/Python/3.9/lib/python/site-packages (from jinja2->jupyter-server<3,>=2.4.0->notebook>=4.4.1->widgetsnbextension~=3.6.6->ipywidgets<8.0.0,>=7.5.1->rich[jupyter]~=13.1.0->dagshub) (2.1.3)\n",
            "Requirement already satisfied: attrs>=22.2.0 in /Users/rulz-ai/Library/Python/3.9/lib/python/site-packages (from jsonschema>=4.18.0->jupyterlab-server<3,>=2.22.1->notebook>=4.4.1->widgetsnbextension~=3.6.6->ipywidgets<8.0.0,>=7.5.1->rich[jupyter]~=13.1.0->dagshub) (23.1.0)\n",
            "Requirement already satisfied: jsonschema-specifications>=2023.03.6 in /Users/rulz-ai/Library/Python/3.9/lib/python/site-packages (from jsonschema>=4.18.0->jupyterlab-server<3,>=2.22.1->notebook>=4.4.1->widgetsnbextension~=3.6.6->ipywidgets<8.0.0,>=7.5.1->rich[jupyter]~=13.1.0->dagshub) (2023.7.1)\n",
            "Requirement already satisfied: referencing>=0.28.4 in /Users/rulz-ai/Library/Python/3.9/lib/python/site-packages (from jsonschema>=4.18.0->jupyterlab-server<3,>=2.22.1->notebook>=4.4.1->widgetsnbextension~=3.6.6->ipywidgets<8.0.0,>=7.5.1->rich[jupyter]~=13.1.0->dagshub) (0.30.2)\n",
            "Requirement already satisfied: rpds-py>=0.7.1 in /Users/rulz-ai/Library/Python/3.9/lib/python/site-packages (from jsonschema>=4.18.0->jupyterlab-server<3,>=2.22.1->notebook>=4.4.1->widgetsnbextension~=3.6.6->ipywidgets<8.0.0,>=7.5.1->rich[jupyter]~=13.1.0->dagshub) (0.12.0)\n",
            "Requirement already satisfied: platformdirs>=2.5 in /Users/rulz-ai/Library/Python/3.9/lib/python/site-packages (from jupyter-core!=5.0.*,>=4.12->jupyter-server<3,>=2.4.0->notebook>=4.4.1->widgetsnbextension~=3.6.6->ipywidgets<8.0.0,>=7.5.1->rich[jupyter]~=13.1.0->dagshub) (3.11.0)\n",
            "Requirement already satisfied: python-json-logger>=2.0.4 in /Users/rulz-ai/Library/Python/3.9/lib/python/site-packages (from jupyter-events>=0.6.0->jupyter-server<3,>=2.4.0->notebook>=4.4.1->widgetsnbextension~=3.6.6->ipywidgets<8.0.0,>=7.5.1->rich[jupyter]~=13.1.0->dagshub) (2.0.7)\n",
            "Requirement already satisfied: rfc3339-validator in /Users/rulz-ai/Library/Python/3.9/lib/python/site-packages (from jupyter-events>=0.6.0->jupyter-server<3,>=2.4.0->notebook>=4.4.1->widgetsnbextension~=3.6.6->ipywidgets<8.0.0,>=7.5.1->rich[jupyter]~=13.1.0->dagshub) (0.1.4)\n",
            "Requirement already satisfied: rfc3986-validator>=0.1.1 in /Users/rulz-ai/Library/Python/3.9/lib/python/site-packages (from jupyter-events>=0.6.0->jupyter-server<3,>=2.4.0->notebook>=4.4.1->widgetsnbextension~=3.6.6->ipywidgets<8.0.0,>=7.5.1->rich[jupyter]~=13.1.0->dagshub) (0.1.1)\n",
            "Requirement already satisfied: beautifulsoup4 in /Users/rulz-ai/Library/Python/3.9/lib/python/site-packages (from nbconvert>=6.4.4->jupyter-server<3,>=2.4.0->notebook>=4.4.1->widgetsnbextension~=3.6.6->ipywidgets<8.0.0,>=7.5.1->rich[jupyter]~=13.1.0->dagshub) (4.12.2)\n",
            "Requirement already satisfied: bleach!=5.0.0 in /Users/rulz-ai/Library/Python/3.9/lib/python/site-packages (from nbconvert>=6.4.4->jupyter-server<3,>=2.4.0->notebook>=4.4.1->widgetsnbextension~=3.6.6->ipywidgets<8.0.0,>=7.5.1->rich[jupyter]~=13.1.0->dagshub) (6.1.0)\n",
            "Requirement already satisfied: defusedxml in /Users/rulz-ai/Library/Python/3.9/lib/python/site-packages (from nbconvert>=6.4.4->jupyter-server<3,>=2.4.0->notebook>=4.4.1->widgetsnbextension~=3.6.6->ipywidgets<8.0.0,>=7.5.1->rich[jupyter]~=13.1.0->dagshub) (0.7.1)\n",
            "Requirement already satisfied: jupyterlab-pygments in /Users/rulz-ai/Library/Python/3.9/lib/python/site-packages (from nbconvert>=6.4.4->jupyter-server<3,>=2.4.0->notebook>=4.4.1->widgetsnbextension~=3.6.6->ipywidgets<8.0.0,>=7.5.1->rich[jupyter]~=13.1.0->dagshub) (0.2.2)\n",
            "Requirement already satisfied: mistune<4,>=2.0.3 in /Users/rulz-ai/Library/Python/3.9/lib/python/site-packages (from nbconvert>=6.4.4->jupyter-server<3,>=2.4.0->notebook>=4.4.1->widgetsnbextension~=3.6.6->ipywidgets<8.0.0,>=7.5.1->rich[jupyter]~=13.1.0->dagshub) (3.0.2)\n",
            "Requirement already satisfied: nbclient>=0.5.0 in /Users/rulz-ai/Library/Python/3.9/lib/python/site-packages (from nbconvert>=6.4.4->jupyter-server<3,>=2.4.0->notebook>=4.4.1->widgetsnbextension~=3.6.6->ipywidgets<8.0.0,>=7.5.1->rich[jupyter]~=13.1.0->dagshub) (0.8.0)\n",
            "Requirement already satisfied: pandocfilters>=1.4.1 in /Users/rulz-ai/Library/Python/3.9/lib/python/site-packages (from nbconvert>=6.4.4->jupyter-server<3,>=2.4.0->notebook>=4.4.1->widgetsnbextension~=3.6.6->ipywidgets<8.0.0,>=7.5.1->rich[jupyter]~=13.1.0->dagshub) (1.5.0)\n",
            "Requirement already satisfied: tinycss2 in /Users/rulz-ai/Library/Python/3.9/lib/python/site-packages (from nbconvert>=6.4.4->jupyter-server<3,>=2.4.0->notebook>=4.4.1->widgetsnbextension~=3.6.6->ipywidgets<8.0.0,>=7.5.1->rich[jupyter]~=13.1.0->dagshub) (1.2.1)\n",
            "Requirement already satisfied: fastjsonschema in /Users/rulz-ai/Library/Python/3.9/lib/python/site-packages (from nbformat>=5.3.0->jupyter-server<3,>=2.4.0->notebook>=4.4.1->widgetsnbextension~=3.6.6->ipywidgets<8.0.0,>=7.5.1->rich[jupyter]~=13.1.0->dagshub) (2.18.1)\n",
            "Requirement already satisfied: argon2-cffi-bindings in /Users/rulz-ai/Library/Python/3.9/lib/python/site-packages (from argon2-cffi->jupyter-server<3,>=2.4.0->notebook>=4.4.1->widgetsnbextension~=3.6.6->ipywidgets<8.0.0,>=7.5.1->rich[jupyter]~=13.1.0->dagshub) (21.2.0)\n",
            "Requirement already satisfied: debugpy>=1.6.5 in /Users/rulz-ai/Library/Python/3.9/lib/python/site-packages (from ipykernel->jupyterlab<5,>=4.0.2->notebook>=4.4.1->widgetsnbextension~=3.6.6->ipywidgets<8.0.0,>=7.5.1->rich[jupyter]~=13.1.0->dagshub) (1.8.0)\n",
            "Requirement already satisfied: nest-asyncio in /Users/rulz-ai/Library/Python/3.9/lib/python/site-packages (from ipykernel->jupyterlab<5,>=4.0.2->notebook>=4.4.1->widgetsnbextension~=3.6.6->ipywidgets<8.0.0,>=7.5.1->rich[jupyter]~=13.1.0->dagshub) (1.5.8)\n",
            "Requirement already satisfied: psutil in /Users/rulz-ai/Library/Python/3.9/lib/python/site-packages (from ipykernel->jupyterlab<5,>=4.0.2->notebook>=4.4.1->widgetsnbextension~=3.6.6->ipywidgets<8.0.0,>=7.5.1->rich[jupyter]~=13.1.0->dagshub) (5.9.6)\n",
            "Requirement already satisfied: webencodings in /Users/rulz-ai/Library/Python/3.9/lib/python/site-packages (from bleach!=5.0.0->nbconvert>=6.4.4->jupyter-server<3,>=2.4.0->notebook>=4.4.1->widgetsnbextension~=3.6.6->ipywidgets<8.0.0,>=7.5.1->rich[jupyter]~=13.1.0->dagshub) (0.5.1)\n",
            "Requirement already satisfied: fqdn in /Users/rulz-ai/Library/Python/3.9/lib/python/site-packages (from jsonschema[format-nongpl]>=4.18.0->jupyter-events>=0.6.0->jupyter-server<3,>=2.4.0->notebook>=4.4.1->widgetsnbextension~=3.6.6->ipywidgets<8.0.0,>=7.5.1->rich[jupyter]~=13.1.0->dagshub) (1.5.1)\n",
            "Requirement already satisfied: isoduration in /Users/rulz-ai/Library/Python/3.9/lib/python/site-packages (from jsonschema[format-nongpl]>=4.18.0->jupyter-events>=0.6.0->jupyter-server<3,>=2.4.0->notebook>=4.4.1->widgetsnbextension~=3.6.6->ipywidgets<8.0.0,>=7.5.1->rich[jupyter]~=13.1.0->dagshub) (20.11.0)\n",
            "Requirement already satisfied: jsonpointer>1.13 in /Users/rulz-ai/Library/Python/3.9/lib/python/site-packages (from jsonschema[format-nongpl]>=4.18.0->jupyter-events>=0.6.0->jupyter-server<3,>=2.4.0->notebook>=4.4.1->widgetsnbextension~=3.6.6->ipywidgets<8.0.0,>=7.5.1->rich[jupyter]~=13.1.0->dagshub) (2.4)\n",
            "Requirement already satisfied: uri-template in /Users/rulz-ai/Library/Python/3.9/lib/python/site-packages (from jsonschema[format-nongpl]>=4.18.0->jupyter-events>=0.6.0->jupyter-server<3,>=2.4.0->notebook>=4.4.1->widgetsnbextension~=3.6.6->ipywidgets<8.0.0,>=7.5.1->rich[jupyter]~=13.1.0->dagshub) (1.3.0)\n",
            "Requirement already satisfied: webcolors>=1.11 in /Users/rulz-ai/Library/Python/3.9/lib/python/site-packages (from jsonschema[format-nongpl]>=4.18.0->jupyter-events>=0.6.0->jupyter-server<3,>=2.4.0->notebook>=4.4.1->widgetsnbextension~=3.6.6->ipywidgets<8.0.0,>=7.5.1->rich[jupyter]~=13.1.0->dagshub) (1.13)\n",
            "Requirement already satisfied: cffi>=1.0.1 in /Users/rulz-ai/Library/Python/3.9/lib/python/site-packages (from argon2-cffi-bindings->argon2-cffi->jupyter-server<3,>=2.4.0->notebook>=4.4.1->widgetsnbextension~=3.6.6->ipywidgets<8.0.0,>=7.5.1->rich[jupyter]~=13.1.0->dagshub) (1.16.0)\n",
            "Requirement already satisfied: soupsieve>1.2 in /Users/rulz-ai/Library/Python/3.9/lib/python/site-packages (from beautifulsoup4->nbconvert>=6.4.4->jupyter-server<3,>=2.4.0->notebook>=4.4.1->widgetsnbextension~=3.6.6->ipywidgets<8.0.0,>=7.5.1->rich[jupyter]~=13.1.0->dagshub) (2.5)\n",
            "Requirement already satisfied: pycparser in /Users/rulz-ai/Library/Python/3.9/lib/python/site-packages (from cffi>=1.0.1->argon2-cffi-bindings->argon2-cffi->jupyter-server<3,>=2.4.0->notebook>=4.4.1->widgetsnbextension~=3.6.6->ipywidgets<8.0.0,>=7.5.1->rich[jupyter]~=13.1.0->dagshub) (2.21)\n",
            "Requirement already satisfied: arrow>=0.15.0 in /Users/rulz-ai/Library/Python/3.9/lib/python/site-packages (from isoduration->jsonschema[format-nongpl]>=4.18.0->jupyter-events>=0.6.0->jupyter-server<3,>=2.4.0->notebook>=4.4.1->widgetsnbextension~=3.6.6->ipywidgets<8.0.0,>=7.5.1->rich[jupyter]~=13.1.0->dagshub) (1.3.0)\n",
            "Requirement already satisfied: types-python-dateutil>=2.8.10 in /Users/rulz-ai/Library/Python/3.9/lib/python/site-packages (from arrow>=0.15.0->isoduration->jsonschema[format-nongpl]>=4.18.0->jupyter-events>=0.6.0->jupyter-server<3,>=2.4.0->notebook>=4.4.1->widgetsnbextension~=3.6.6->ipywidgets<8.0.0,>=7.5.1->rich[jupyter]~=13.1.0->dagshub) (2.8.19.14)\n"
          ]
        }
      ],
      "source": [
        "!pip install dagshub"
      ]
    },
    {
      "cell_type": "code",
      "execution_count": 3,
      "id": "f7fd65e3",
      "metadata": {
        "colab": {
          "base_uri": "https://localhost:8080/",
          "height": 1000,
          "referenced_widgets": [
            "1285025a3efd4d3fb22299635751ec4c",
            "ce409096540741498f7553046663bbff"
          ]
        },
        "id": "f7fd65e3",
        "outputId": "3209847d-48a8-40bb-b35e-bacb9ab174a2"
      },
      "outputs": [
        {
          "ename": "FilesystemAlreadyMountedError",
          "evalue": "There is already a filesystem mounted at path /Users/rulz-ai/Rulz-AI/colabs/dagshub (DagsHub-Datasets/noaa-rtma-dataset revision c660098489d2cafe5354ec08fb290fab82989849)\ndel() the filesystem object in use if you want to switch the mounted filesystem",
          "output_type": "error",
          "traceback": [
            "\u001b[0;31m---------------------------------------------------------------------------\u001b[0m",
            "\u001b[0;31mFilesystemAlreadyMountedError\u001b[0m             Traceback (most recent call last)",
            "\u001b[1;32m/Users/rulz-ai/Rulz-AI/colabs/dagshub/noaa-rtma-pds.ipynb Cell 4\u001b[0m line \u001b[0;36m3\n\u001b[1;32m      <a href='vscode-notebook-cell:/Users/rulz-ai/Rulz-AI/colabs/dagshub/noaa-rtma-pds.ipynb#W3sZmlsZQ%3D%3D?line=0'>1</a>\u001b[0m \u001b[39mfrom\u001b[39;00m \u001b[39mdagshub\u001b[39;00m\u001b[39m.\u001b[39;00m\u001b[39mstreaming\u001b[39;00m \u001b[39mimport\u001b[39;00m DagsHubFilesystem\n\u001b[0;32m----> <a href='vscode-notebook-cell:/Users/rulz-ai/Rulz-AI/colabs/dagshub/noaa-rtma-pds.ipynb#W3sZmlsZQ%3D%3D?line=2'>3</a>\u001b[0m fs \u001b[39m=\u001b[39m DagsHubFilesystem(\u001b[39m\"\u001b[39;49m\u001b[39m.\u001b[39;49m\u001b[39m\"\u001b[39;49m, repo_url\u001b[39m=\u001b[39;49m\u001b[39m\"\u001b[39;49m\u001b[39mhttps://dagshub.com/DagsHub-Datasets/noaa-rtma-dataset\u001b[39;49m\u001b[39m\"\u001b[39;49m)\n\u001b[1;32m      <a href='vscode-notebook-cell:/Users/rulz-ai/Rulz-AI/colabs/dagshub/noaa-rtma-pds.ipynb#W3sZmlsZQ%3D%3D?line=4'>5</a>\u001b[0m fs\u001b[39m.\u001b[39mlistdir(\u001b[39m\"\u001b[39m\u001b[39ms3://noaa-rtma-pds\u001b[39m\u001b[39m\"\u001b[39m)\n",
            "File \u001b[0;32m~/Library/Python/3.9/lib/python/site-packages/dagshub/streaming/filesystem.py:147\u001b[0m, in \u001b[0;36mDagsHubFilesystem.__init__\u001b[0;34m(***failed resolving arguments***)\u001b[0m\n\u001b[1;32m    143\u001b[0m \u001b[39mself\u001b[39m\u001b[39m.\u001b[39m_listdir_cache: Dict[\u001b[39mstr\u001b[39m, Optional[Tuple[List[ContentAPIEntry], \u001b[39mbool\u001b[39m]]] \u001b[39m=\u001b[39m {}\n\u001b[1;32m    145\u001b[0m \u001b[39mself\u001b[39m\u001b[39m.\u001b[39m_api \u001b[39m=\u001b[39m \u001b[39mself\u001b[39m\u001b[39m.\u001b[39m_generate_repo_api(\u001b[39mself\u001b[39m\u001b[39m.\u001b[39mparsed_repo_url)\n\u001b[0;32m--> 147\u001b[0m \u001b[39mself\u001b[39;49m\u001b[39m.\u001b[39;49mcheck_project_root_use()\n\u001b[1;32m    149\u001b[0m \u001b[39m# Check that the repo is accessible by accessing the content root\u001b[39;00m\n\u001b[1;32m    150\u001b[0m response \u001b[39m=\u001b[39m \u001b[39mself\u001b[39m\u001b[39m.\u001b[39m_api_listdir(DagshubPath(\u001b[39mself\u001b[39m, \u001b[39mself\u001b[39m\u001b[39m.\u001b[39mproject_root, Path(), Path()))\n",
            "File \u001b[0;32m~/Library/Python/3.9/lib/python/site-packages/dagshub/streaming/filesystem.py:229\u001b[0m, in \u001b[0;36mDagsHubFilesystem.check_project_root_use\u001b[0;34m(self)\u001b[0m\n\u001b[1;32m    227\u001b[0m \u001b[39mfor\u001b[39;00m p, f \u001b[39min\u001b[39;00m DagsHubFilesystem\u001b[39m.\u001b[39malready_mounted_filesystems\u001b[39m.\u001b[39mitems():\n\u001b[1;32m    228\u001b[0m     \u001b[39mif\u001b[39;00m is_subpath(p, \u001b[39mself\u001b[39m\u001b[39m.\u001b[39mproject_root):\n\u001b[0;32m--> 229\u001b[0m         \u001b[39mraise\u001b[39;00m FilesystemAlreadyMountedError(\u001b[39mself\u001b[39m\u001b[39m.\u001b[39mproject_root, f\u001b[39m.\u001b[39mparsed_repo_url\u001b[39m.\u001b[39mpath[\u001b[39m1\u001b[39m:], f\u001b[39m.\u001b[39m_current_revision)\n\u001b[1;32m    231\u001b[0m DagsHubFilesystem\u001b[39m.\u001b[39malready_mounted_filesystems[\u001b[39mself\u001b[39m\u001b[39m.\u001b[39mproject_root] \u001b[39m=\u001b[39m \u001b[39mself\u001b[39m\n",
            "\u001b[0;31mFilesystemAlreadyMountedError\u001b[0m: There is already a filesystem mounted at path /Users/rulz-ai/Rulz-AI/colabs/dagshub (DagsHub-Datasets/noaa-rtma-dataset revision c660098489d2cafe5354ec08fb290fab82989849)\ndel() the filesystem object in use if you want to switch the mounted filesystem"
          ]
        }
      ],
      "source": [
        "from dagshub.streaming import DagsHubFilesystem\n",
        "\n",
        "fs = DagsHubFilesystem(\".\", repo_url=\"https://dagshub.com/DagsHub-Datasets/noaa-rtma-dataset\")\n",
        "\n",
        "fs.listdir(\"s3://noaa-rtma-pds\")"
      ]
    }
  ],
  "metadata": {
    "colab": {
      "include_colab_link": true,
      "provenance": [],
      "toc_visible": true
    },
    "kernelspec": {
      "display_name": "Python 3 (ipykernel)",
      "language": "python",
      "name": "python3"
    },
    "language_info": {
      "codemirror_mode": {
        "name": "ipython",
        "version": 3
      },
      "file_extension": ".py",
      "mimetype": "text/x-python",
      "name": "python",
      "nbconvert_exporter": "python",
      "pygments_lexer": "ipython3",
      "version": "3.9.6"
    },
    "widgets": {
      "application/vnd.jupyter.widget-state+json": {
        "1285025a3efd4d3fb22299635751ec4c": {
          "model_module": "@jupyter-widgets/output",
          "model_module_version": "1.0.0",
          "model_name": "OutputModel",
          "state": {
            "_dom_classes": [],
            "_model_module": "@jupyter-widgets/output",
            "_model_module_version": "1.0.0",
            "_model_name": "OutputModel",
            "_view_count": null,
            "_view_module": "@jupyter-widgets/output",
            "_view_module_version": "1.0.0",
            "_view_name": "OutputView",
            "layout": "IPY_MODEL_ce409096540741498f7553046663bbff",
            "msg_id": "",
            "outputs": [
              {
                "data": {
                  "text/html": "<pre style=\"white-space:pre;overflow-x:auto;line-height:normal;font-family:Menlo,'DejaVu Sans Mono',consolas,'Courier New',monospace\"><span style=\"color: #008000; text-decoration-color: #008000\">⠦</span> Waiting for authorization\n</pre>\n",
                  "text/plain": "\u001b[32m⠦\u001b[0m Waiting for authorization\n"
                },
                "metadata": {},
                "output_type": "display_data"
              }
            ]
          }
        },
        "ce409096540741498f7553046663bbff": {
          "model_module": "@jupyter-widgets/base",
          "model_module_version": "1.2.0",
          "model_name": "LayoutModel",
          "state": {
            "_model_module": "@jupyter-widgets/base",
            "_model_module_version": "1.2.0",
            "_model_name": "LayoutModel",
            "_view_count": null,
            "_view_module": "@jupyter-widgets/base",
            "_view_module_version": "1.2.0",
            "_view_name": "LayoutView",
            "align_content": null,
            "align_items": null,
            "align_self": null,
            "border": null,
            "bottom": null,
            "display": null,
            "flex": null,
            "flex_flow": null,
            "grid_area": null,
            "grid_auto_columns": null,
            "grid_auto_flow": null,
            "grid_auto_rows": null,
            "grid_column": null,
            "grid_gap": null,
            "grid_row": null,
            "grid_template_areas": null,
            "grid_template_columns": null,
            "grid_template_rows": null,
            "height": null,
            "justify_content": null,
            "justify_items": null,
            "left": null,
            "margin": null,
            "max_height": null,
            "max_width": null,
            "min_height": null,
            "min_width": null,
            "object_fit": null,
            "object_position": null,
            "order": null,
            "overflow": null,
            "overflow_x": null,
            "overflow_y": null,
            "padding": null,
            "right": null,
            "top": null,
            "visibility": null,
            "width": null
          }
        }
      }
    }
  },
  "nbformat": 4,
  "nbformat_minor": 5
}
