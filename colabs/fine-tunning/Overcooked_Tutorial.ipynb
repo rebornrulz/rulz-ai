{
  "cells": [
    {
      "cell_type": "code",
      "execution_count": 1,
      "metadata": {
        "colab": {
          "base_uri": "https://localhost:8080/"
        },
        "id": "wdzm6m4Am-xh",
        "outputId": "02c4c2f5-8f40-4590-8184-874e9e7b9845"
      },
      "outputs": [
        {
          "name": "stdout",
          "output_type": "stream",
          "text": [
            "Defaulting to user installation because normal site-packages is not writeable\n",
            "Collecting git+https://github.com/HumanCompatibleAI/overcooked_ai.git\n",
            "  Cloning https://github.com/HumanCompatibleAI/overcooked_ai.git to /private/var/folders/g_/ss0l7q8x63g4pp1pxbf33t3h0000gn/T/pip-req-build-n7_n6__8\n",
            "  Running command git clone --filter=blob:none --quiet https://github.com/HumanCompatibleAI/overcooked_ai.git /private/var/folders/g_/ss0l7q8x63g4pp1pxbf33t3h0000gn/T/pip-req-build-n7_n6__8\n",
            "  Resolved https://github.com/HumanCompatibleAI/overcooked_ai.git to commit b7dfc012e3291d0835e270688fbbb71d75b8b795\n",
            "  Preparing metadata (setup.py) ... \u001b[?25ldone\n",
            "\u001b[?25hCollecting dill (from overcooked-ai==1.1.0)\n",
            "  Using cached dill-0.3.7-py3-none-any.whl.metadata (9.9 kB)\n",
            "Requirement already satisfied: numpy in /Users/rulz-ai/Library/Python/3.9/lib/python/site-packages (from overcooked-ai==1.1.0) (1.26.1)\n",
            "Requirement already satisfied: scipy in /Users/rulz-ai/Library/Python/3.9/lib/python/site-packages (from overcooked-ai==1.1.0) (1.11.3)\n",
            "Requirement already satisfied: tqdm in /Users/rulz-ai/Library/Python/3.9/lib/python/site-packages (from overcooked-ai==1.1.0) (4.66.1)\n",
            "Collecting gym (from overcooked-ai==1.1.0)\n",
            "  Downloading gym-0.26.2.tar.gz (721 kB)\n",
            "\u001b[2K     \u001b[90m━━━━━━━━━━━━━━━━━━━━━━━━━━━━━━━━━━━━━━━\u001b[0m \u001b[32m721.7/721.7 kB\u001b[0m \u001b[31m3.7 MB/s\u001b[0m eta \u001b[36m0:00:00\u001b[0ma \u001b[36m0:00:01\u001b[0m\n",
            "\u001b[?25h  Installing build dependencies ... \u001b[?25ldone\n",
            "\u001b[?25h  Getting requirements to build wheel ... \u001b[?25ldone\n",
            "\u001b[?25h  Preparing metadata (pyproject.toml) ... \u001b[?25ldone\n",
            "\u001b[?25hCollecting pettingzoo (from overcooked-ai==1.1.0)\n",
            "  Downloading pettingzoo-1.24.1-py3-none-any.whl.metadata (8.2 kB)\n",
            "Requirement already satisfied: ipython in /Users/rulz-ai/Library/Python/3.9/lib/python/site-packages (from overcooked-ai==1.1.0) (8.17.2)\n",
            "Collecting pygame (from overcooked-ai==1.1.0)\n",
            "  Downloading pygame-2.5.2-cp39-cp39-macosx_11_0_arm64.whl.metadata (13 kB)\n",
            "Requirement already satisfied: ipywidgets in /Users/rulz-ai/Library/Python/3.9/lib/python/site-packages (from overcooked-ai==1.1.0) (7.8.1)\n",
            "Collecting opencv-python (from overcooked-ai==1.1.0)\n",
            "  Downloading opencv_python-4.8.1.78-cp37-abi3-macosx_11_0_arm64.whl.metadata (19 kB)\n",
            "Requirement already satisfied: cloudpickle>=1.2.0 in /Users/rulz-ai/Library/Python/3.9/lib/python/site-packages (from gym->overcooked-ai==1.1.0) (2.2.1)\n",
            "Collecting gym-notices>=0.0.4 (from gym->overcooked-ai==1.1.0)\n",
            "  Downloading gym_notices-0.0.8-py3-none-any.whl (3.0 kB)\n",
            "Requirement already satisfied: importlib-metadata>=4.8.0 in /Users/rulz-ai/Library/Python/3.9/lib/python/site-packages (from gym->overcooked-ai==1.1.0) (6.8.0)\n",
            "Requirement already satisfied: decorator in /Users/rulz-ai/Library/Python/3.9/lib/python/site-packages (from ipython->overcooked-ai==1.1.0) (5.1.1)\n",
            "Requirement already satisfied: jedi>=0.16 in /Users/rulz-ai/Library/Python/3.9/lib/python/site-packages (from ipython->overcooked-ai==1.1.0) (0.19.1)\n",
            "Requirement already satisfied: matplotlib-inline in /Users/rulz-ai/Library/Python/3.9/lib/python/site-packages (from ipython->overcooked-ai==1.1.0) (0.1.6)\n",
            "Requirement already satisfied: prompt-toolkit!=3.0.37,<3.1.0,>=3.0.30 in /Users/rulz-ai/Library/Python/3.9/lib/python/site-packages (from ipython->overcooked-ai==1.1.0) (3.0.39)\n",
            "Requirement already satisfied: pygments>=2.4.0 in /Users/rulz-ai/Library/Python/3.9/lib/python/site-packages (from ipython->overcooked-ai==1.1.0) (2.16.1)\n",
            "Requirement already satisfied: stack-data in /Users/rulz-ai/Library/Python/3.9/lib/python/site-packages (from ipython->overcooked-ai==1.1.0) (0.6.3)\n",
            "Requirement already satisfied: traitlets>=5 in /Users/rulz-ai/Library/Python/3.9/lib/python/site-packages (from ipython->overcooked-ai==1.1.0) (5.13.0)\n",
            "Requirement already satisfied: typing-extensions in /Users/rulz-ai/Library/Python/3.9/lib/python/site-packages (from ipython->overcooked-ai==1.1.0) (4.8.0)\n",
            "Requirement already satisfied: exceptiongroup in /Users/rulz-ai/Library/Python/3.9/lib/python/site-packages (from ipython->overcooked-ai==1.1.0) (1.1.3)\n",
            "Requirement already satisfied: pexpect>4.3 in /Users/rulz-ai/Library/Python/3.9/lib/python/site-packages (from ipython->overcooked-ai==1.1.0) (4.8.0)\n",
            "Requirement already satisfied: appnope in /Users/rulz-ai/Library/Python/3.9/lib/python/site-packages (from ipython->overcooked-ai==1.1.0) (0.1.3)\n",
            "Requirement already satisfied: comm>=0.1.3 in /Users/rulz-ai/Library/Python/3.9/lib/python/site-packages (from ipywidgets->overcooked-ai==1.1.0) (0.1.4)\n",
            "Requirement already satisfied: ipython-genutils~=0.2.0 in /Users/rulz-ai/Library/Python/3.9/lib/python/site-packages (from ipywidgets->overcooked-ai==1.1.0) (0.2.0)\n",
            "Requirement already satisfied: widgetsnbextension~=3.6.6 in /Users/rulz-ai/Library/Python/3.9/lib/python/site-packages (from ipywidgets->overcooked-ai==1.1.0) (3.6.6)\n",
            "Requirement already satisfied: jupyterlab-widgets<3,>=1.0.0 in /Users/rulz-ai/Library/Python/3.9/lib/python/site-packages (from ipywidgets->overcooked-ai==1.1.0) (1.1.7)\n",
            "Collecting gymnasium>=0.28.0 (from pettingzoo->overcooked-ai==1.1.0)\n",
            "  Downloading gymnasium-0.29.1-py3-none-any.whl.metadata (10 kB)\n",
            "Collecting farama-notifications>=0.0.1 (from gymnasium>=0.28.0->pettingzoo->overcooked-ai==1.1.0)\n",
            "  Downloading Farama_Notifications-0.0.4-py3-none-any.whl (2.5 kB)\n",
            "Requirement already satisfied: zipp>=0.5 in /Users/rulz-ai/Library/Python/3.9/lib/python/site-packages (from importlib-metadata>=4.8.0->gym->overcooked-ai==1.1.0) (3.17.0)\n",
            "Requirement already satisfied: parso<0.9.0,>=0.8.3 in /Users/rulz-ai/Library/Python/3.9/lib/python/site-packages (from jedi>=0.16->ipython->overcooked-ai==1.1.0) (0.8.3)\n",
            "Requirement already satisfied: ptyprocess>=0.5 in /Users/rulz-ai/Library/Python/3.9/lib/python/site-packages (from pexpect>4.3->ipython->overcooked-ai==1.1.0) (0.7.0)\n",
            "Requirement already satisfied: wcwidth in /Users/rulz-ai/Library/Python/3.9/lib/python/site-packages (from prompt-toolkit!=3.0.37,<3.1.0,>=3.0.30->ipython->overcooked-ai==1.1.0) (0.2.9)\n",
            "Requirement already satisfied: notebook>=4.4.1 in /Users/rulz-ai/Library/Python/3.9/lib/python/site-packages (from widgetsnbextension~=3.6.6->ipywidgets->overcooked-ai==1.1.0) (7.0.6)\n",
            "Requirement already satisfied: executing>=1.2.0 in /Users/rulz-ai/Library/Python/3.9/lib/python/site-packages (from stack-data->ipython->overcooked-ai==1.1.0) (2.0.1)\n",
            "Requirement already satisfied: asttokens>=2.1.0 in /Users/rulz-ai/Library/Python/3.9/lib/python/site-packages (from stack-data->ipython->overcooked-ai==1.1.0) (2.4.1)\n",
            "Requirement already satisfied: pure-eval in /Users/rulz-ai/Library/Python/3.9/lib/python/site-packages (from stack-data->ipython->overcooked-ai==1.1.0) (0.2.2)\n",
            "Requirement already satisfied: six>=1.12.0 in /Applications/Xcode.app/Contents/Developer/Library/Frameworks/Python3.framework/Versions/3.9/lib/python3.9/site-packages (from asttokens>=2.1.0->stack-data->ipython->overcooked-ai==1.1.0) (1.15.0)\n",
            "Requirement already satisfied: jupyter-server<3,>=2.4.0 in /Users/rulz-ai/Library/Python/3.9/lib/python/site-packages (from notebook>=4.4.1->widgetsnbextension~=3.6.6->ipywidgets->overcooked-ai==1.1.0) (2.9.1)\n",
            "Requirement already satisfied: jupyterlab-server<3,>=2.22.1 in /Users/rulz-ai/Library/Python/3.9/lib/python/site-packages (from notebook>=4.4.1->widgetsnbextension~=3.6.6->ipywidgets->overcooked-ai==1.1.0) (2.25.0)\n",
            "Requirement already satisfied: jupyterlab<5,>=4.0.2 in /Users/rulz-ai/Library/Python/3.9/lib/python/site-packages (from notebook>=4.4.1->widgetsnbextension~=3.6.6->ipywidgets->overcooked-ai==1.1.0) (4.0.8)\n",
            "Requirement already satisfied: notebook-shim<0.3,>=0.2 in /Users/rulz-ai/Library/Python/3.9/lib/python/site-packages (from notebook>=4.4.1->widgetsnbextension~=3.6.6->ipywidgets->overcooked-ai==1.1.0) (0.2.3)\n",
            "Requirement already satisfied: tornado>=6.2.0 in /Users/rulz-ai/Library/Python/3.9/lib/python/site-packages (from notebook>=4.4.1->widgetsnbextension~=3.6.6->ipywidgets->overcooked-ai==1.1.0) (6.3.3)\n",
            "Requirement already satisfied: anyio>=3.1.0 in /Users/rulz-ai/Library/Python/3.9/lib/python/site-packages (from jupyter-server<3,>=2.4.0->notebook>=4.4.1->widgetsnbextension~=3.6.6->ipywidgets->overcooked-ai==1.1.0) (4.0.0)\n",
            "Requirement already satisfied: argon2-cffi in /Users/rulz-ai/Library/Python/3.9/lib/python/site-packages (from jupyter-server<3,>=2.4.0->notebook>=4.4.1->widgetsnbextension~=3.6.6->ipywidgets->overcooked-ai==1.1.0) (23.1.0)\n",
            "Requirement already satisfied: jinja2 in /Users/rulz-ai/Library/Python/3.9/lib/python/site-packages (from jupyter-server<3,>=2.4.0->notebook>=4.4.1->widgetsnbextension~=3.6.6->ipywidgets->overcooked-ai==1.1.0) (3.1.2)\n",
            "Requirement already satisfied: jupyter-client>=7.4.4 in /Users/rulz-ai/Library/Python/3.9/lib/python/site-packages (from jupyter-server<3,>=2.4.0->notebook>=4.4.1->widgetsnbextension~=3.6.6->ipywidgets->overcooked-ai==1.1.0) (8.5.0)\n",
            "Requirement already satisfied: jupyter-core!=5.0.*,>=4.12 in /Users/rulz-ai/Library/Python/3.9/lib/python/site-packages (from jupyter-server<3,>=2.4.0->notebook>=4.4.1->widgetsnbextension~=3.6.6->ipywidgets->overcooked-ai==1.1.0) (5.5.0)\n",
            "Requirement already satisfied: jupyter-events>=0.6.0 in /Users/rulz-ai/Library/Python/3.9/lib/python/site-packages (from jupyter-server<3,>=2.4.0->notebook>=4.4.1->widgetsnbextension~=3.6.6->ipywidgets->overcooked-ai==1.1.0) (0.8.0)\n",
            "Requirement already satisfied: jupyter-server-terminals in /Users/rulz-ai/Library/Python/3.9/lib/python/site-packages (from jupyter-server<3,>=2.4.0->notebook>=4.4.1->widgetsnbextension~=3.6.6->ipywidgets->overcooked-ai==1.1.0) (0.4.4)\n",
            "Requirement already satisfied: nbconvert>=6.4.4 in /Users/rulz-ai/Library/Python/3.9/lib/python/site-packages (from jupyter-server<3,>=2.4.0->notebook>=4.4.1->widgetsnbextension~=3.6.6->ipywidgets->overcooked-ai==1.1.0) (7.10.0)\n",
            "Requirement already satisfied: nbformat>=5.3.0 in /Users/rulz-ai/Library/Python/3.9/lib/python/site-packages (from jupyter-server<3,>=2.4.0->notebook>=4.4.1->widgetsnbextension~=3.6.6->ipywidgets->overcooked-ai==1.1.0) (5.9.2)\n",
            "Requirement already satisfied: overrides in /Users/rulz-ai/Library/Python/3.9/lib/python/site-packages (from jupyter-server<3,>=2.4.0->notebook>=4.4.1->widgetsnbextension~=3.6.6->ipywidgets->overcooked-ai==1.1.0) (7.4.0)\n",
            "Requirement already satisfied: packaging in /Users/rulz-ai/Library/Python/3.9/lib/python/site-packages (from jupyter-server<3,>=2.4.0->notebook>=4.4.1->widgetsnbextension~=3.6.6->ipywidgets->overcooked-ai==1.1.0) (23.2)\n",
            "Requirement already satisfied: prometheus-client in /Users/rulz-ai/Library/Python/3.9/lib/python/site-packages (from jupyter-server<3,>=2.4.0->notebook>=4.4.1->widgetsnbextension~=3.6.6->ipywidgets->overcooked-ai==1.1.0) (0.18.0)\n",
            "Requirement already satisfied: pyzmq>=24 in /Users/rulz-ai/Library/Python/3.9/lib/python/site-packages (from jupyter-server<3,>=2.4.0->notebook>=4.4.1->widgetsnbextension~=3.6.6->ipywidgets->overcooked-ai==1.1.0) (25.1.1)\n",
            "Requirement already satisfied: send2trash>=1.8.2 in /Users/rulz-ai/Library/Python/3.9/lib/python/site-packages (from jupyter-server<3,>=2.4.0->notebook>=4.4.1->widgetsnbextension~=3.6.6->ipywidgets->overcooked-ai==1.1.0) (1.8.2)\n",
            "Requirement already satisfied: terminado>=0.8.3 in /Users/rulz-ai/Library/Python/3.9/lib/python/site-packages (from jupyter-server<3,>=2.4.0->notebook>=4.4.1->widgetsnbextension~=3.6.6->ipywidgets->overcooked-ai==1.1.0) (0.17.1)\n",
            "Requirement already satisfied: websocket-client in /Users/rulz-ai/Library/Python/3.9/lib/python/site-packages (from jupyter-server<3,>=2.4.0->notebook>=4.4.1->widgetsnbextension~=3.6.6->ipywidgets->overcooked-ai==1.1.0) (1.6.4)\n",
            "Requirement already satisfied: async-lru>=1.0.0 in /Users/rulz-ai/Library/Python/3.9/lib/python/site-packages (from jupyterlab<5,>=4.0.2->notebook>=4.4.1->widgetsnbextension~=3.6.6->ipywidgets->overcooked-ai==1.1.0) (2.0.4)\n",
            "Requirement already satisfied: ipykernel in /Users/rulz-ai/Library/Python/3.9/lib/python/site-packages (from jupyterlab<5,>=4.0.2->notebook>=4.4.1->widgetsnbextension~=3.6.6->ipywidgets->overcooked-ai==1.1.0) (6.26.0)\n",
            "Requirement already satisfied: jupyter-lsp>=2.0.0 in /Users/rulz-ai/Library/Python/3.9/lib/python/site-packages (from jupyterlab<5,>=4.0.2->notebook>=4.4.1->widgetsnbextension~=3.6.6->ipywidgets->overcooked-ai==1.1.0) (2.2.0)\n",
            "Requirement already satisfied: tomli in /Users/rulz-ai/Library/Python/3.9/lib/python/site-packages (from jupyterlab<5,>=4.0.2->notebook>=4.4.1->widgetsnbextension~=3.6.6->ipywidgets->overcooked-ai==1.1.0) (2.0.1)\n",
            "Requirement already satisfied: babel>=2.10 in /Users/rulz-ai/Library/Python/3.9/lib/python/site-packages (from jupyterlab-server<3,>=2.22.1->notebook>=4.4.1->widgetsnbextension~=3.6.6->ipywidgets->overcooked-ai==1.1.0) (2.13.1)\n",
            "Requirement already satisfied: json5>=0.9.0 in /Users/rulz-ai/Library/Python/3.9/lib/python/site-packages (from jupyterlab-server<3,>=2.22.1->notebook>=4.4.1->widgetsnbextension~=3.6.6->ipywidgets->overcooked-ai==1.1.0) (0.9.14)\n",
            "Requirement already satisfied: jsonschema>=4.18.0 in /Users/rulz-ai/Library/Python/3.9/lib/python/site-packages (from jupyterlab-server<3,>=2.22.1->notebook>=4.4.1->widgetsnbextension~=3.6.6->ipywidgets->overcooked-ai==1.1.0) (4.19.2)\n",
            "Requirement already satisfied: requests>=2.31 in /Users/rulz-ai/Library/Python/3.9/lib/python/site-packages (from jupyterlab-server<3,>=2.22.1->notebook>=4.4.1->widgetsnbextension~=3.6.6->ipywidgets->overcooked-ai==1.1.0) (2.31.0)\n",
            "Requirement already satisfied: idna>=2.8 in /Users/rulz-ai/Library/Python/3.9/lib/python/site-packages (from anyio>=3.1.0->jupyter-server<3,>=2.4.0->notebook>=4.4.1->widgetsnbextension~=3.6.6->ipywidgets->overcooked-ai==1.1.0) (3.4)\n",
            "Requirement already satisfied: sniffio>=1.1 in /Users/rulz-ai/Library/Python/3.9/lib/python/site-packages (from anyio>=3.1.0->jupyter-server<3,>=2.4.0->notebook>=4.4.1->widgetsnbextension~=3.6.6->ipywidgets->overcooked-ai==1.1.0) (1.3.0)\n",
            "Requirement already satisfied: MarkupSafe>=2.0 in /Users/rulz-ai/Library/Python/3.9/lib/python/site-packages (from jinja2->jupyter-server<3,>=2.4.0->notebook>=4.4.1->widgetsnbextension~=3.6.6->ipywidgets->overcooked-ai==1.1.0) (2.1.3)\n",
            "Requirement already satisfied: attrs>=22.2.0 in /Users/rulz-ai/Library/Python/3.9/lib/python/site-packages (from jsonschema>=4.18.0->jupyterlab-server<3,>=2.22.1->notebook>=4.4.1->widgetsnbextension~=3.6.6->ipywidgets->overcooked-ai==1.1.0) (23.1.0)\n",
            "Requirement already satisfied: jsonschema-specifications>=2023.03.6 in /Users/rulz-ai/Library/Python/3.9/lib/python/site-packages (from jsonschema>=4.18.0->jupyterlab-server<3,>=2.22.1->notebook>=4.4.1->widgetsnbextension~=3.6.6->ipywidgets->overcooked-ai==1.1.0) (2023.7.1)\n",
            "Requirement already satisfied: referencing>=0.28.4 in /Users/rulz-ai/Library/Python/3.9/lib/python/site-packages (from jsonschema>=4.18.0->jupyterlab-server<3,>=2.22.1->notebook>=4.4.1->widgetsnbextension~=3.6.6->ipywidgets->overcooked-ai==1.1.0) (0.30.2)\n",
            "Requirement already satisfied: rpds-py>=0.7.1 in /Users/rulz-ai/Library/Python/3.9/lib/python/site-packages (from jsonschema>=4.18.0->jupyterlab-server<3,>=2.22.1->notebook>=4.4.1->widgetsnbextension~=3.6.6->ipywidgets->overcooked-ai==1.1.0) (0.12.0)\n",
            "Requirement already satisfied: python-dateutil>=2.8.2 in /Users/rulz-ai/Library/Python/3.9/lib/python/site-packages (from jupyter-client>=7.4.4->jupyter-server<3,>=2.4.0->notebook>=4.4.1->widgetsnbextension~=3.6.6->ipywidgets->overcooked-ai==1.1.0) (2.8.2)\n",
            "Requirement already satisfied: platformdirs>=2.5 in /Users/rulz-ai/Library/Python/3.9/lib/python/site-packages (from jupyter-core!=5.0.*,>=4.12->jupyter-server<3,>=2.4.0->notebook>=4.4.1->widgetsnbextension~=3.6.6->ipywidgets->overcooked-ai==1.1.0) (3.11.0)\n",
            "Requirement already satisfied: python-json-logger>=2.0.4 in /Users/rulz-ai/Library/Python/3.9/lib/python/site-packages (from jupyter-events>=0.6.0->jupyter-server<3,>=2.4.0->notebook>=4.4.1->widgetsnbextension~=3.6.6->ipywidgets->overcooked-ai==1.1.0) (2.0.7)\n",
            "Requirement already satisfied: pyyaml>=5.3 in /Users/rulz-ai/Library/Python/3.9/lib/python/site-packages (from jupyter-events>=0.6.0->jupyter-server<3,>=2.4.0->notebook>=4.4.1->widgetsnbextension~=3.6.6->ipywidgets->overcooked-ai==1.1.0) (6.0.1)\n",
            "Requirement already satisfied: rfc3339-validator in /Users/rulz-ai/Library/Python/3.9/lib/python/site-packages (from jupyter-events>=0.6.0->jupyter-server<3,>=2.4.0->notebook>=4.4.1->widgetsnbextension~=3.6.6->ipywidgets->overcooked-ai==1.1.0) (0.1.4)\n",
            "Requirement already satisfied: rfc3986-validator>=0.1.1 in /Users/rulz-ai/Library/Python/3.9/lib/python/site-packages (from jupyter-events>=0.6.0->jupyter-server<3,>=2.4.0->notebook>=4.4.1->widgetsnbextension~=3.6.6->ipywidgets->overcooked-ai==1.1.0) (0.1.1)\n",
            "Requirement already satisfied: beautifulsoup4 in /Users/rulz-ai/Library/Python/3.9/lib/python/site-packages (from nbconvert>=6.4.4->jupyter-server<3,>=2.4.0->notebook>=4.4.1->widgetsnbextension~=3.6.6->ipywidgets->overcooked-ai==1.1.0) (4.12.2)\n",
            "Requirement already satisfied: bleach!=5.0.0 in /Users/rulz-ai/Library/Python/3.9/lib/python/site-packages (from nbconvert>=6.4.4->jupyter-server<3,>=2.4.0->notebook>=4.4.1->widgetsnbextension~=3.6.6->ipywidgets->overcooked-ai==1.1.0) (6.1.0)\n",
            "Requirement already satisfied: defusedxml in /Users/rulz-ai/Library/Python/3.9/lib/python/site-packages (from nbconvert>=6.4.4->jupyter-server<3,>=2.4.0->notebook>=4.4.1->widgetsnbextension~=3.6.6->ipywidgets->overcooked-ai==1.1.0) (0.7.1)\n",
            "Requirement already satisfied: jupyterlab-pygments in /Users/rulz-ai/Library/Python/3.9/lib/python/site-packages (from nbconvert>=6.4.4->jupyter-server<3,>=2.4.0->notebook>=4.4.1->widgetsnbextension~=3.6.6->ipywidgets->overcooked-ai==1.1.0) (0.2.2)\n",
            "Requirement already satisfied: mistune<4,>=2.0.3 in /Users/rulz-ai/Library/Python/3.9/lib/python/site-packages (from nbconvert>=6.4.4->jupyter-server<3,>=2.4.0->notebook>=4.4.1->widgetsnbextension~=3.6.6->ipywidgets->overcooked-ai==1.1.0) (3.0.2)\n",
            "Requirement already satisfied: nbclient>=0.5.0 in /Users/rulz-ai/Library/Python/3.9/lib/python/site-packages (from nbconvert>=6.4.4->jupyter-server<3,>=2.4.0->notebook>=4.4.1->widgetsnbextension~=3.6.6->ipywidgets->overcooked-ai==1.1.0) (0.8.0)\n",
            "Requirement already satisfied: pandocfilters>=1.4.1 in /Users/rulz-ai/Library/Python/3.9/lib/python/site-packages (from nbconvert>=6.4.4->jupyter-server<3,>=2.4.0->notebook>=4.4.1->widgetsnbextension~=3.6.6->ipywidgets->overcooked-ai==1.1.0) (1.5.0)\n",
            "Requirement already satisfied: tinycss2 in /Users/rulz-ai/Library/Python/3.9/lib/python/site-packages (from nbconvert>=6.4.4->jupyter-server<3,>=2.4.0->notebook>=4.4.1->widgetsnbextension~=3.6.6->ipywidgets->overcooked-ai==1.1.0) (1.2.1)\n",
            "Requirement already satisfied: fastjsonschema in /Users/rulz-ai/Library/Python/3.9/lib/python/site-packages (from nbformat>=5.3.0->jupyter-server<3,>=2.4.0->notebook>=4.4.1->widgetsnbextension~=3.6.6->ipywidgets->overcooked-ai==1.1.0) (2.18.1)\n",
            "Requirement already satisfied: charset-normalizer<4,>=2 in /Users/rulz-ai/Library/Python/3.9/lib/python/site-packages (from requests>=2.31->jupyterlab-server<3,>=2.22.1->notebook>=4.4.1->widgetsnbextension~=3.6.6->ipywidgets->overcooked-ai==1.1.0) (3.3.2)\n",
            "Requirement already satisfied: urllib3<3,>=1.21.1 in /Users/rulz-ai/Library/Python/3.9/lib/python/site-packages (from requests>=2.31->jupyterlab-server<3,>=2.22.1->notebook>=4.4.1->widgetsnbextension~=3.6.6->ipywidgets->overcooked-ai==1.1.0) (1.26.18)\n",
            "Requirement already satisfied: certifi>=2017.4.17 in /Users/rulz-ai/Library/Python/3.9/lib/python/site-packages (from requests>=2.31->jupyterlab-server<3,>=2.22.1->notebook>=4.4.1->widgetsnbextension~=3.6.6->ipywidgets->overcooked-ai==1.1.0) (2023.7.22)\n",
            "Requirement already satisfied: argon2-cffi-bindings in /Users/rulz-ai/Library/Python/3.9/lib/python/site-packages (from argon2-cffi->jupyter-server<3,>=2.4.0->notebook>=4.4.1->widgetsnbextension~=3.6.6->ipywidgets->overcooked-ai==1.1.0) (21.2.0)\n",
            "Requirement already satisfied: debugpy>=1.6.5 in /Users/rulz-ai/Library/Python/3.9/lib/python/site-packages (from ipykernel->jupyterlab<5,>=4.0.2->notebook>=4.4.1->widgetsnbextension~=3.6.6->ipywidgets->overcooked-ai==1.1.0) (1.8.0)\n",
            "Requirement already satisfied: nest-asyncio in /Users/rulz-ai/Library/Python/3.9/lib/python/site-packages (from ipykernel->jupyterlab<5,>=4.0.2->notebook>=4.4.1->widgetsnbextension~=3.6.6->ipywidgets->overcooked-ai==1.1.0) (1.5.8)\n",
            "Requirement already satisfied: psutil in /Users/rulz-ai/Library/Python/3.9/lib/python/site-packages (from ipykernel->jupyterlab<5,>=4.0.2->notebook>=4.4.1->widgetsnbextension~=3.6.6->ipywidgets->overcooked-ai==1.1.0) (5.9.6)\n",
            "Requirement already satisfied: webencodings in /Users/rulz-ai/Library/Python/3.9/lib/python/site-packages (from bleach!=5.0.0->nbconvert>=6.4.4->jupyter-server<3,>=2.4.0->notebook>=4.4.1->widgetsnbextension~=3.6.6->ipywidgets->overcooked-ai==1.1.0) (0.5.1)\n",
            "Requirement already satisfied: fqdn in /Users/rulz-ai/Library/Python/3.9/lib/python/site-packages (from jsonschema[format-nongpl]>=4.18.0->jupyter-events>=0.6.0->jupyter-server<3,>=2.4.0->notebook>=4.4.1->widgetsnbextension~=3.6.6->ipywidgets->overcooked-ai==1.1.0) (1.5.1)\n",
            "Requirement already satisfied: isoduration in /Users/rulz-ai/Library/Python/3.9/lib/python/site-packages (from jsonschema[format-nongpl]>=4.18.0->jupyter-events>=0.6.0->jupyter-server<3,>=2.4.0->notebook>=4.4.1->widgetsnbextension~=3.6.6->ipywidgets->overcooked-ai==1.1.0) (20.11.0)\n",
            "Requirement already satisfied: jsonpointer>1.13 in /Users/rulz-ai/Library/Python/3.9/lib/python/site-packages (from jsonschema[format-nongpl]>=4.18.0->jupyter-events>=0.6.0->jupyter-server<3,>=2.4.0->notebook>=4.4.1->widgetsnbextension~=3.6.6->ipywidgets->overcooked-ai==1.1.0) (2.4)\n",
            "Requirement already satisfied: uri-template in /Users/rulz-ai/Library/Python/3.9/lib/python/site-packages (from jsonschema[format-nongpl]>=4.18.0->jupyter-events>=0.6.0->jupyter-server<3,>=2.4.0->notebook>=4.4.1->widgetsnbextension~=3.6.6->ipywidgets->overcooked-ai==1.1.0) (1.3.0)\n",
            "Requirement already satisfied: webcolors>=1.11 in /Users/rulz-ai/Library/Python/3.9/lib/python/site-packages (from jsonschema[format-nongpl]>=4.18.0->jupyter-events>=0.6.0->jupyter-server<3,>=2.4.0->notebook>=4.4.1->widgetsnbextension~=3.6.6->ipywidgets->overcooked-ai==1.1.0) (1.13)\n",
            "Requirement already satisfied: cffi>=1.0.1 in /Users/rulz-ai/Library/Python/3.9/lib/python/site-packages (from argon2-cffi-bindings->argon2-cffi->jupyter-server<3,>=2.4.0->notebook>=4.4.1->widgetsnbextension~=3.6.6->ipywidgets->overcooked-ai==1.1.0) (1.16.0)\n",
            "Requirement already satisfied: soupsieve>1.2 in /Users/rulz-ai/Library/Python/3.9/lib/python/site-packages (from beautifulsoup4->nbconvert>=6.4.4->jupyter-server<3,>=2.4.0->notebook>=4.4.1->widgetsnbextension~=3.6.6->ipywidgets->overcooked-ai==1.1.0) (2.5)\n",
            "Requirement already satisfied: pycparser in /Users/rulz-ai/Library/Python/3.9/lib/python/site-packages (from cffi>=1.0.1->argon2-cffi-bindings->argon2-cffi->jupyter-server<3,>=2.4.0->notebook>=4.4.1->widgetsnbextension~=3.6.6->ipywidgets->overcooked-ai==1.1.0) (2.21)\n",
            "Requirement already satisfied: arrow>=0.15.0 in /Users/rulz-ai/Library/Python/3.9/lib/python/site-packages (from isoduration->jsonschema[format-nongpl]>=4.18.0->jupyter-events>=0.6.0->jupyter-server<3,>=2.4.0->notebook>=4.4.1->widgetsnbextension~=3.6.6->ipywidgets->overcooked-ai==1.1.0) (1.3.0)\n",
            "Requirement already satisfied: types-python-dateutil>=2.8.10 in /Users/rulz-ai/Library/Python/3.9/lib/python/site-packages (from arrow>=0.15.0->isoduration->jsonschema[format-nongpl]>=4.18.0->jupyter-events>=0.6.0->jupyter-server<3,>=2.4.0->notebook>=4.4.1->widgetsnbextension~=3.6.6->ipywidgets->overcooked-ai==1.1.0) (2.8.19.14)\n",
            "Downloading dill-0.3.7-py3-none-any.whl (115 kB)\n",
            "\u001b[2K   \u001b[90m━━━━━━━━━━━━━━━━━━━━━━━━━━━━━━━━━━━━━━━━\u001b[0m \u001b[32m115.3/115.3 kB\u001b[0m \u001b[31m6.4 MB/s\u001b[0m eta \u001b[36m0:00:00\u001b[0m\n",
            "\u001b[?25hDownloading opencv_python-4.8.1.78-cp37-abi3-macosx_11_0_arm64.whl (33.1 MB)\n",
            "\u001b[2K   \u001b[90m━━━━━━━━━━━━━━━━━━━━━━━━━━━━━━━━━━━━━━━━\u001b[0m \u001b[32m33.1/33.1 MB\u001b[0m \u001b[31m59.5 MB/s\u001b[0m eta \u001b[36m0:00:00\u001b[0m00:01\u001b[0m00:01\u001b[0m\n",
            "\u001b[?25hDownloading pettingzoo-1.24.1-py3-none-any.whl (840 kB)\n",
            "\u001b[2K   \u001b[90m━━━━━━━━━━━━━━━━━━━━━━━━━━━━━━━━━━━━━━━━\u001b[0m \u001b[32m840.8/840.8 kB\u001b[0m \u001b[31m37.8 MB/s\u001b[0m eta \u001b[36m0:00:00\u001b[0m\n",
            "\u001b[?25hDownloading pygame-2.5.2-cp39-cp39-macosx_11_0_arm64.whl (12.2 MB)\n",
            "\u001b[2K   \u001b[90m━━━━━━━━━━━━━━━━━━━━━━━━━━━━━━━━━━━━━━━━\u001b[0m \u001b[32m12.2/12.2 MB\u001b[0m \u001b[31m62.5 MB/s\u001b[0m eta \u001b[36m0:00:00\u001b[0ma \u001b[36m0:00:01\u001b[0m\n",
            "\u001b[?25hDownloading gymnasium-0.29.1-py3-none-any.whl (953 kB)\n",
            "\u001b[2K   \u001b[90m━━━━━━━━━━━━━━━━━━━━━━━━━━━━━━━━━━━━━━━━\u001b[0m \u001b[32m953.9/953.9 kB\u001b[0m \u001b[31m43.2 MB/s\u001b[0m eta \u001b[36m0:00:00\u001b[0m\n",
            "\u001b[?25hBuilding wheels for collected packages: overcooked-ai, gym\n",
            "  Building wheel for overcooked-ai (setup.py) ... \u001b[?25ldone\n",
            "\u001b[?25h  Created wheel for overcooked-ai: filename=overcooked_ai-1.1.0-py3-none-any.whl size=1286710 sha256=96a31222e754a04f1f432fe161a515b5581017e22ed2b60495d38ef3b64ec98c\n",
            "  Stored in directory: /private/var/folders/g_/ss0l7q8x63g4pp1pxbf33t3h0000gn/T/pip-ephem-wheel-cache-qdb3eoqa/wheels/55/4d/56/2ac621e2450c135153e9e31da84f15f70d450e48fee49bfdcb\n",
            "  Building wheel for gym (pyproject.toml) ... \u001b[?25ldone\n",
            "\u001b[?25h  Created wheel for gym: filename=gym-0.26.2-py3-none-any.whl size=827620 sha256=eb25176953977534ab4bb8f07a8fc3bdc5f3f20bc69d3f9b0169bab8880d8970\n",
            "  Stored in directory: /Users/rulz-ai/Library/Caches/pip/wheels/af/2b/30/5e78b8b9599f2a2286a582b8da80594f654bf0e18d825a4405\n",
            "Successfully built overcooked-ai gym\n",
            "Installing collected packages: gym-notices, farama-notifications, pygame, opencv-python, dill, gymnasium, gym, pettingzoo, overcooked-ai\n",
            "Successfully installed dill-0.3.7 farama-notifications-0.0.4 gym-0.26.2 gym-notices-0.0.8 gymnasium-0.29.1 opencv-python-4.8.1.78 overcooked-ai-1.1.0 pettingzoo-1.24.1 pygame-2.5.2\n"
          ]
        }
      ],
      "source": [
        "!pip install git+https://github.com/HumanCompatibleAI/overcooked_ai.git"
      ]
    },
    {
      "cell_type": "code",
      "execution_count": 2,
      "metadata": {
        "id": "YzlYCUOmiT3P"
      },
      "outputs": [],
      "source": [
        "from overcooked_ai_py.agents.benchmarking import AgentEvaluator\n",
        "from overcooked_ai_py.agents.agent import AgentPair, FixedPlanAgent, GreedyHumanModel, RandomAgent, SampleAgent\n",
        "from overcooked_ai_py.visualization.state_visualizer import StateVisualizer"
      ]
    },
    {
      "cell_type": "code",
      "execution_count": 3,
      "metadata": {
        "colab": {
          "base_uri": "https://localhost:8080/"
        },
        "id": "6Xlu54MkiXCR",
        "outputId": "e2a00de5-541c-48d9-b6aa-8d9b2fe614c0"
      },
      "outputs": [
        {
          "name": "stdout",
          "output_type": "stream",
          "text": [
            "Computing MotionPlanner to be saved in /Users/rulz-ai/Library/Python/3.9/lib/python/site-packages/overcooked_ai_py/data/planners/cramped_room_mp.pkl\n",
            "It took 0.01638507843017578 seconds to create mp\n"
          ]
        },
        {
          "name": "stderr",
          "output_type": "stream",
          "text": [
            "Avg rew: 20.00 (std: 0.00, se: 0.00); avg len: 100.00; : 100%|██████████| 1/1 [00:00<00:00, 49.03it/s]\n"
          ]
        }
      ],
      "source": [
        "ae = AgentEvaluator.from_layout_name({\"layout_name\": \"cramped_room\"}, {\"horizon\": 100})\n",
        "trajs = ae.evaluate_human_model_pair()"
      ]
    },
    {
      "cell_type": "code",
      "execution_count": 4,
      "metadata": {
        "colab": {
          "base_uri": "https://localhost:8080/",
          "height": 449,
          "referenced_widgets": [
            "2b2204dcbaef4c15af7676428a53aed1",
            "ca57c8251a0f44a0a46ba837ae863060",
            "8f8613748f874af7a1da1fb26db6a5f0",
            "de4d5ac821954b52bf0965b02e8f26a0",
            "0f6f50327af343a9b8fe32d5c99a141d",
            "efe2883436f64241945f4cb5dd8ef11d",
            "5480d78b1d1f4480b9e85e74a67a096b"
          ]
        },
        "id": "3CWJ9mFTiX7O",
        "outputId": "4d530d9e-f1fe-476d-8e1f-c5e5e75d0057"
      },
      "outputs": [
        {
          "data": {
            "application/vnd.jupyter.widget-view+json": {
              "model_id": "4abbeabe8f0c4a00b2eb212e3061901f",
              "version_major": 2,
              "version_minor": 0
            },
            "text/plain": [
              "interactive(children=(IntSlider(value=0, description='timestep', max=99), Output()), _dom_classes=('widget-int…"
            ]
          },
          "metadata": {},
          "output_type": "display_data"
        }
      ],
      "source": [
        "action_probs = [ [RandomAgent(all_actions=True).action(state)[1][\"action_probs\"]]*2 for state in trajs[\"ep_states\"][0]]\n",
        "StateVisualizer().display_rendered_trajectory(trajs, ipython_display=True)"
      ]
    },
    {
      "cell_type": "code",
      "execution_count": null,
      "metadata": {
        "id": "Z1RBlqADnTDw"
      },
      "outputs": [],
      "source": []
    }
  ],
  "metadata": {
    "colab": {
      "provenance": []
    },
    "kernelspec": {
      "display_name": "Python 3",
      "name": "python3"
    },
    "language_info": {
      "codemirror_mode": {
        "name": "ipython",
        "version": 3
      },
      "file_extension": ".py",
      "mimetype": "text/x-python",
      "name": "python",
      "nbconvert_exporter": "python",
      "pygments_lexer": "ipython3",
      "version": "3.9.6"
    },
    "widgets": {
      "application/vnd.jupyter.widget-state+json": {
        "0f6f50327af343a9b8fe32d5c99a141d": {
          "model_module": "@jupyter-widgets/base",
          "model_module_version": "1.2.0",
          "model_name": "LayoutModel",
          "state": {
            "_model_module": "@jupyter-widgets/base",
            "_model_module_version": "1.2.0",
            "_model_name": "LayoutModel",
            "_view_count": null,
            "_view_module": "@jupyter-widgets/base",
            "_view_module_version": "1.2.0",
            "_view_name": "LayoutView",
            "align_content": null,
            "align_items": null,
            "align_self": null,
            "border": null,
            "bottom": null,
            "display": null,
            "flex": null,
            "flex_flow": null,
            "grid_area": null,
            "grid_auto_columns": null,
            "grid_auto_flow": null,
            "grid_auto_rows": null,
            "grid_column": null,
            "grid_gap": null,
            "grid_row": null,
            "grid_template_areas": null,
            "grid_template_columns": null,
            "grid_template_rows": null,
            "height": null,
            "justify_content": null,
            "justify_items": null,
            "left": null,
            "margin": null,
            "max_height": null,
            "max_width": null,
            "min_height": null,
            "min_width": null,
            "object_fit": null,
            "object_position": null,
            "order": null,
            "overflow": null,
            "overflow_x": null,
            "overflow_y": null,
            "padding": null,
            "right": null,
            "top": null,
            "visibility": null,
            "width": null
          }
        },
        "2b2204dcbaef4c15af7676428a53aed1": {
          "model_module": "@jupyter-widgets/controls",
          "model_module_version": "1.5.0",
          "model_name": "VBoxModel",
          "state": {
            "_dom_classes": [
              "widget-interact"
            ],
            "_model_module": "@jupyter-widgets/controls",
            "_model_module_version": "1.5.0",
            "_model_name": "VBoxModel",
            "_view_count": null,
            "_view_module": "@jupyter-widgets/controls",
            "_view_module_version": "1.5.0",
            "_view_name": "VBoxView",
            "box_style": "",
            "children": [
              "IPY_MODEL_ca57c8251a0f44a0a46ba837ae863060",
              "IPY_MODEL_8f8613748f874af7a1da1fb26db6a5f0"
            ],
            "layout": "IPY_MODEL_de4d5ac821954b52bf0965b02e8f26a0"
          }
        },
        "5480d78b1d1f4480b9e85e74a67a096b": {
          "model_module": "@jupyter-widgets/base",
          "model_module_version": "1.2.0",
          "model_name": "LayoutModel",
          "state": {
            "_model_module": "@jupyter-widgets/base",
            "_model_module_version": "1.2.0",
            "_model_name": "LayoutModel",
            "_view_count": null,
            "_view_module": "@jupyter-widgets/base",
            "_view_module_version": "1.2.0",
            "_view_name": "LayoutView",
            "align_content": null,
            "align_items": null,
            "align_self": null,
            "border": null,
            "bottom": null,
            "display": null,
            "flex": null,
            "flex_flow": null,
            "grid_area": null,
            "grid_auto_columns": null,
            "grid_auto_flow": null,
            "grid_auto_rows": null,
            "grid_column": null,
            "grid_gap": null,
            "grid_row": null,
            "grid_template_areas": null,
            "grid_template_columns": null,
            "grid_template_rows": null,
            "height": null,
            "justify_content": null,
            "justify_items": null,
            "left": null,
            "margin": null,
            "max_height": null,
            "max_width": null,
            "min_height": null,
            "min_width": null,
            "object_fit": null,
            "object_position": null,
            "order": null,
            "overflow": null,
            "overflow_x": null,
            "overflow_y": null,
            "padding": null,
            "right": null,
            "top": null,
            "visibility": null,
            "width": null
          }
        },
        "8f8613748f874af7a1da1fb26db6a5f0": {
          "model_module": "@jupyter-widgets/output",
          "model_module_version": "1.0.0",
          "model_name": "OutputModel",
          "state": {
            "_dom_classes": [],
            "_model_module": "@jupyter-widgets/output",
            "_model_module_version": "1.0.0",
            "_model_name": "OutputModel",
            "_view_count": null,
            "_view_module": "@jupyter-widgets/output",
            "_view_module_version": "1.0.0",
            "_view_name": "OutputView",
            "layout": "IPY_MODEL_5480d78b1d1f4480b9e85e74a67a096b",
            "msg_id": "",
            "outputs": [
              {
                "data": {
                  "image/png": "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\n",
                  "text/plain": "<IPython.core.display.Image object>"
                },
                "metadata": {},
                "output_type": "display_data"
              }
            ]
          }
        },
        "ca57c8251a0f44a0a46ba837ae863060": {
          "model_module": "@jupyter-widgets/controls",
          "model_module_version": "1.5.0",
          "model_name": "IntSliderModel",
          "state": {
            "_dom_classes": [],
            "_model_module": "@jupyter-widgets/controls",
            "_model_module_version": "1.5.0",
            "_model_name": "IntSliderModel",
            "_view_count": null,
            "_view_module": "@jupyter-widgets/controls",
            "_view_module_version": "1.5.0",
            "_view_name": "IntSliderView",
            "continuous_update": true,
            "description": "timestep",
            "description_tooltip": null,
            "disabled": false,
            "layout": "IPY_MODEL_0f6f50327af343a9b8fe32d5c99a141d",
            "max": 99,
            "min": 0,
            "orientation": "horizontal",
            "readout": true,
            "readout_format": "d",
            "step": 1,
            "style": "IPY_MODEL_efe2883436f64241945f4cb5dd8ef11d",
            "value": 0
          }
        },
        "de4d5ac821954b52bf0965b02e8f26a0": {
          "model_module": "@jupyter-widgets/base",
          "model_module_version": "1.2.0",
          "model_name": "LayoutModel",
          "state": {
            "_model_module": "@jupyter-widgets/base",
            "_model_module_version": "1.2.0",
            "_model_name": "LayoutModel",
            "_view_count": null,
            "_view_module": "@jupyter-widgets/base",
            "_view_module_version": "1.2.0",
            "_view_name": "LayoutView",
            "align_content": null,
            "align_items": null,
            "align_self": null,
            "border": null,
            "bottom": null,
            "display": null,
            "flex": null,
            "flex_flow": null,
            "grid_area": null,
            "grid_auto_columns": null,
            "grid_auto_flow": null,
            "grid_auto_rows": null,
            "grid_column": null,
            "grid_gap": null,
            "grid_row": null,
            "grid_template_areas": null,
            "grid_template_columns": null,
            "grid_template_rows": null,
            "height": null,
            "justify_content": null,
            "justify_items": null,
            "left": null,
            "margin": null,
            "max_height": null,
            "max_width": null,
            "min_height": null,
            "min_width": null,
            "object_fit": null,
            "object_position": null,
            "order": null,
            "overflow": null,
            "overflow_x": null,
            "overflow_y": null,
            "padding": null,
            "right": null,
            "top": null,
            "visibility": null,
            "width": null
          }
        },
        "efe2883436f64241945f4cb5dd8ef11d": {
          "model_module": "@jupyter-widgets/controls",
          "model_module_version": "1.5.0",
          "model_name": "SliderStyleModel",
          "state": {
            "_model_module": "@jupyter-widgets/controls",
            "_model_module_version": "1.5.0",
            "_model_name": "SliderStyleModel",
            "_view_count": null,
            "_view_module": "@jupyter-widgets/base",
            "_view_module_version": "1.2.0",
            "_view_name": "StyleView",
            "description_width": "",
            "handle_color": null
          }
        }
      }
    }
  },
  "nbformat": 4,
  "nbformat_minor": 0
}
