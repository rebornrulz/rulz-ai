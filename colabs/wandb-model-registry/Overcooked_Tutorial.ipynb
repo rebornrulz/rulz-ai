{
  "cells": [
    {
      "cell_type": "markdown",
      "metadata": {
        "colab_type": "text",
        "id": "view-in-github"
      },
      "source": [
        "<a href=\"https://colab.research.google.com/github/rebornrulz/Rulz-AI/blob/main/wandb/wandb-model-registry/Overcooked_Tutorial.ipynb\" target=\"_parent\"><img src=\"https://colab.research.google.com/assets/colab-badge.svg\" alt=\"Open In Colab\"/></a>"
      ]
    },
    {
      "cell_type": "code",
      "execution_count": null,
      "metadata": {
        "colab": {
          "base_uri": "https://localhost:8080/"
        },
        "id": "wdzm6m4Am-xh",
        "outputId": "8d1a8965-1f83-48cb-8f86-41d7fd30e977"
      },
      "outputs": [
        {
          "name": "stdout",
          "output_type": "stream",
          "text": [
            "Looking in indexes: https://pypi.org/simple, https://us-python.pkg.dev/colab-wheels/public/simple/\n",
            "Collecting git+https://github.com/HumanCompatibleAI/overcooked_ai.git\n",
            "  Cloning https://github.com/HumanCompatibleAI/overcooked_ai.git to /tmp/pip-req-build-j_tjssn3\n",
            "  Running command git clone --filter=blob:none --quiet https://github.com/HumanCompatibleAI/overcooked_ai.git /tmp/pip-req-build-j_tjssn3\n",
            "  Resolved https://github.com/HumanCompatibleAI/overcooked_ai.git to commit 2398fb4be3aaec75e6f7cccc042b6524344b617d\n",
            "  Preparing metadata (setup.py) ... \u001b[?25l\u001b[?25hdone\n",
            "Requirement already satisfied: dill in /usr/local/lib/python3.8/dist-packages (from overcooked-ai==1.1.0) (0.3.6)\n",
            "Requirement already satisfied: numpy in /usr/local/lib/python3.8/dist-packages (from overcooked-ai==1.1.0) (1.21.6)\n",
            "Requirement already satisfied: scipy in /usr/local/lib/python3.8/dist-packages (from overcooked-ai==1.1.0) (1.7.3)\n",
            "Requirement already satisfied: tqdm in /usr/local/lib/python3.8/dist-packages (from overcooked-ai==1.1.0) (4.64.1)\n",
            "Requirement already satisfied: gym in /usr/local/lib/python3.8/dist-packages (from overcooked-ai==1.1.0) (0.25.2)\n",
            "Requirement already satisfied: ipython in /usr/local/lib/python3.8/dist-packages (from overcooked-ai==1.1.0) (7.9.0)\n",
            "Collecting pygame\n",
            "  Downloading pygame-2.1.2-cp38-cp38-manylinux_2_17_x86_64.manylinux2014_x86_64.whl (21.8 MB)\n",
            "\u001b[2K     \u001b[90m━━━━━━━━━━━━━━━━━━━━━━━━━━━━━━━━━━━━━━━━\u001b[0m \u001b[32m21.8/21.8 MB\u001b[0m \u001b[31m13.6 MB/s\u001b[0m eta \u001b[36m0:00:00\u001b[0m\n",
            "\u001b[?25hRequirement already satisfied: ipywidgets in /usr/local/lib/python3.8/dist-packages (from overcooked-ai==1.1.0) (7.7.1)\n",
            "Requirement already satisfied: cloudpickle>=1.2.0 in /usr/local/lib/python3.8/dist-packages (from gym->overcooked-ai==1.1.0) (2.2.1)\n",
            "Requirement already satisfied: gym-notices>=0.0.4 in /usr/local/lib/python3.8/dist-packages (from gym->overcooked-ai==1.1.0) (0.0.8)\n",
            "Requirement already satisfied: importlib-metadata>=4.8.0 in /usr/local/lib/python3.8/dist-packages (from gym->overcooked-ai==1.1.0) (6.0.0)\n",
            "Requirement already satisfied: traitlets>=4.2 in /usr/local/lib/python3.8/dist-packages (from ipython->overcooked-ai==1.1.0) (5.7.1)\n",
            "Requirement already satisfied: decorator in /usr/local/lib/python3.8/dist-packages (from ipython->overcooked-ai==1.1.0) (4.4.2)\n",
            "Collecting jedi>=0.10\n",
            "  Downloading jedi-0.18.2-py2.py3-none-any.whl (1.6 MB)\n",
            "\u001b[2K     \u001b[90m━━━━━━━━━━━━━━━━━━━━━━━━━━━━━━━━━━━━━━━━\u001b[0m \u001b[32m1.6/1.6 MB\u001b[0m \u001b[31m47.1 MB/s\u001b[0m eta \u001b[36m0:00:00\u001b[0m\n",
            "\u001b[?25hRequirement already satisfied: pickleshare in /usr/local/lib/python3.8/dist-packages (from ipython->overcooked-ai==1.1.0) (0.7.5)\n",
            "Requirement already satisfied: backcall in /usr/local/lib/python3.8/dist-packages (from ipython->overcooked-ai==1.1.0) (0.2.0)\n",
            "Requirement already satisfied: setuptools>=18.5 in /usr/local/lib/python3.8/dist-packages (from ipython->overcooked-ai==1.1.0) (57.4.0)\n",
            "Requirement already satisfied: pygments in /usr/local/lib/python3.8/dist-packages (from ipython->overcooked-ai==1.1.0) (2.6.1)\n",
            "Requirement already satisfied: pexpect in /usr/local/lib/python3.8/dist-packages (from ipython->overcooked-ai==1.1.0) (4.8.0)\n",
            "Requirement already satisfied: prompt-toolkit<2.1.0,>=2.0.0 in /usr/local/lib/python3.8/dist-packages (from ipython->overcooked-ai==1.1.0) (2.0.10)\n",
            "Requirement already satisfied: widgetsnbextension~=3.6.0 in /usr/local/lib/python3.8/dist-packages (from ipywidgets->overcooked-ai==1.1.0) (3.6.1)\n",
            "Requirement already satisfied: jupyterlab-widgets>=1.0.0 in /usr/local/lib/python3.8/dist-packages (from ipywidgets->overcooked-ai==1.1.0) (3.0.5)\n",
            "Requirement already satisfied: ipykernel>=4.5.1 in /usr/local/lib/python3.8/dist-packages (from ipywidgets->overcooked-ai==1.1.0) (5.3.4)\n",
            "Requirement already satisfied: ipython-genutils~=0.2.0 in /usr/local/lib/python3.8/dist-packages (from ipywidgets->overcooked-ai==1.1.0) (0.2.0)\n",
            "Requirement already satisfied: zipp>=0.5 in /usr/local/lib/python3.8/dist-packages (from importlib-metadata>=4.8.0->gym->overcooked-ai==1.1.0) (3.12.0)\n",
            "Requirement already satisfied: jupyter-client in /usr/local/lib/python3.8/dist-packages (from ipykernel>=4.5.1->ipywidgets->overcooked-ai==1.1.0) (6.1.12)\n",
            "Requirement already satisfied: tornado>=4.2 in /usr/local/lib/python3.8/dist-packages (from ipykernel>=4.5.1->ipywidgets->overcooked-ai==1.1.0) (6.0.4)\n",
            "Requirement already satisfied: parso<0.9.0,>=0.8.0 in /usr/local/lib/python3.8/dist-packages (from jedi>=0.10->ipython->overcooked-ai==1.1.0) (0.8.3)\n",
            "Requirement already satisfied: wcwidth in /usr/local/lib/python3.8/dist-packages (from prompt-toolkit<2.1.0,>=2.0.0->ipython->overcooked-ai==1.1.0) (0.2.6)\n",
            "Requirement already satisfied: six>=1.9.0 in /usr/local/lib/python3.8/dist-packages (from prompt-toolkit<2.1.0,>=2.0.0->ipython->overcooked-ai==1.1.0) (1.15.0)\n",
            "Requirement already satisfied: notebook>=4.4.1 in /usr/local/lib/python3.8/dist-packages (from widgetsnbextension~=3.6.0->ipywidgets->overcooked-ai==1.1.0) (5.7.16)\n",
            "Requirement already satisfied: ptyprocess>=0.5 in /usr/local/lib/python3.8/dist-packages (from pexpect->ipython->overcooked-ai==1.1.0) (0.7.0)\n",
            "Requirement already satisfied: Send2Trash in /usr/local/lib/python3.8/dist-packages (from notebook>=4.4.1->widgetsnbextension~=3.6.0->ipywidgets->overcooked-ai==1.1.0) (1.8.0)\n",
            "Requirement already satisfied: terminado>=0.8.1 in /usr/local/lib/python3.8/dist-packages (from notebook>=4.4.1->widgetsnbextension~=3.6.0->ipywidgets->overcooked-ai==1.1.0) (0.13.3)\n",
            "Requirement already satisfied: prometheus-client in /usr/local/lib/python3.8/dist-packages (from notebook>=4.4.1->widgetsnbextension~=3.6.0->ipywidgets->overcooked-ai==1.1.0) (0.16.0)\n",
            "Requirement already satisfied: jupyter-core>=4.4.0 in /usr/local/lib/python3.8/dist-packages (from notebook>=4.4.1->widgetsnbextension~=3.6.0->ipywidgets->overcooked-ai==1.1.0) (5.2.0)\n",
            "Requirement already satisfied: pyzmq>=17 in /usr/local/lib/python3.8/dist-packages (from notebook>=4.4.1->widgetsnbextension~=3.6.0->ipywidgets->overcooked-ai==1.1.0) (23.2.1)\n",
            "Requirement already satisfied: jinja2<=3.0.0 in /usr/local/lib/python3.8/dist-packages (from notebook>=4.4.1->widgetsnbextension~=3.6.0->ipywidgets->overcooked-ai==1.1.0) (2.11.3)\n",
            "Requirement already satisfied: nbconvert<6.0 in /usr/local/lib/python3.8/dist-packages (from notebook>=4.4.1->widgetsnbextension~=3.6.0->ipywidgets->overcooked-ai==1.1.0) (5.6.1)\n",
            "Requirement already satisfied: nbformat in /usr/local/lib/python3.8/dist-packages (from notebook>=4.4.1->widgetsnbextension~=3.6.0->ipywidgets->overcooked-ai==1.1.0) (5.7.3)\n",
            "Requirement already satisfied: python-dateutil>=2.1 in /usr/local/lib/python3.8/dist-packages (from jupyter-client->ipykernel>=4.5.1->ipywidgets->overcooked-ai==1.1.0) (2.8.2)\n",
            "Requirement already satisfied: MarkupSafe>=0.23 in /usr/local/lib/python3.8/dist-packages (from jinja2<=3.0.0->notebook>=4.4.1->widgetsnbextension~=3.6.0->ipywidgets->overcooked-ai==1.1.0) (2.0.1)\n",
            "Requirement already satisfied: platformdirs>=2.5 in /usr/local/lib/python3.8/dist-packages (from jupyter-core>=4.4.0->notebook>=4.4.1->widgetsnbextension~=3.6.0->ipywidgets->overcooked-ai==1.1.0) (2.6.2)\n",
            "Requirement already satisfied: testpath in /usr/local/lib/python3.8/dist-packages (from nbconvert<6.0->notebook>=4.4.1->widgetsnbextension~=3.6.0->ipywidgets->overcooked-ai==1.1.0) (0.6.0)\n",
            "Requirement already satisfied: pandocfilters>=1.4.1 in /usr/local/lib/python3.8/dist-packages (from nbconvert<6.0->notebook>=4.4.1->widgetsnbextension~=3.6.0->ipywidgets->overcooked-ai==1.1.0) (1.5.0)\n",
            "Requirement already satisfied: mistune<2,>=0.8.1 in /usr/local/lib/python3.8/dist-packages (from nbconvert<6.0->notebook>=4.4.1->widgetsnbextension~=3.6.0->ipywidgets->overcooked-ai==1.1.0) (0.8.4)\n",
            "Requirement already satisfied: defusedxml in /usr/local/lib/python3.8/dist-packages (from nbconvert<6.0->notebook>=4.4.1->widgetsnbextension~=3.6.0->ipywidgets->overcooked-ai==1.1.0) (0.7.1)\n",
            "Requirement already satisfied: entrypoints>=0.2.2 in /usr/local/lib/python3.8/dist-packages (from nbconvert<6.0->notebook>=4.4.1->widgetsnbextension~=3.6.0->ipywidgets->overcooked-ai==1.1.0) (0.4)\n",
            "Requirement already satisfied: bleach in /usr/local/lib/python3.8/dist-packages (from nbconvert<6.0->notebook>=4.4.1->widgetsnbextension~=3.6.0->ipywidgets->overcooked-ai==1.1.0) (6.0.0)\n",
            "Requirement already satisfied: fastjsonschema in /usr/local/lib/python3.8/dist-packages (from nbformat->notebook>=4.4.1->widgetsnbextension~=3.6.0->ipywidgets->overcooked-ai==1.1.0) (2.16.2)\n",
            "Requirement already satisfied: jsonschema>=2.6 in /usr/local/lib/python3.8/dist-packages (from nbformat->notebook>=4.4.1->widgetsnbextension~=3.6.0->ipywidgets->overcooked-ai==1.1.0) (4.3.3)\n",
            "Requirement already satisfied: attrs>=17.4.0 in /usr/local/lib/python3.8/dist-packages (from jsonschema>=2.6->nbformat->notebook>=4.4.1->widgetsnbextension~=3.6.0->ipywidgets->overcooked-ai==1.1.0) (22.2.0)\n",
            "Requirement already satisfied: pyrsistent!=0.17.0,!=0.17.1,!=0.17.2,>=0.14.0 in /usr/local/lib/python3.8/dist-packages (from jsonschema>=2.6->nbformat->notebook>=4.4.1->widgetsnbextension~=3.6.0->ipywidgets->overcooked-ai==1.1.0) (0.19.3)\n",
            "Requirement already satisfied: importlib-resources>=1.4.0 in /usr/local/lib/python3.8/dist-packages (from jsonschema>=2.6->nbformat->notebook>=4.4.1->widgetsnbextension~=3.6.0->ipywidgets->overcooked-ai==1.1.0) (5.10.2)\n",
            "Requirement already satisfied: webencodings in /usr/local/lib/python3.8/dist-packages (from bleach->nbconvert<6.0->notebook>=4.4.1->widgetsnbextension~=3.6.0->ipywidgets->overcooked-ai==1.1.0) (0.5.1)\n",
            "Building wheels for collected packages: overcooked-ai\n",
            "  Building wheel for overcooked-ai (setup.py) ... \u001b[?25l\u001b[?25hdone\n",
            "  Created wheel for overcooked-ai: filename=overcooked_ai-1.1.0-py3-none-any.whl size=1262380 sha256=3b792cccde4d0ef24ac93e8173f102ae09755c0067d4c4a4d6089d4a796a4cdb\n",
            "  Stored in directory: /tmp/pip-ephem-wheel-cache-1pya7jp7/wheels/d9/2e/bc/87307a058068d963dba0edf89ae3498b77a3b58103862dc9cb\n",
            "Successfully built overcooked-ai\n",
            "Installing collected packages: pygame, jedi, overcooked-ai\n",
            "Successfully installed jedi-0.18.2 overcooked-ai-1.1.0 pygame-2.1.2\n"
          ]
        }
      ],
      "source": [
        "!pip install git+https://github.com/HumanCompatibleAI/overcooked_ai.git"
      ]
    },
    {
      "cell_type": "code",
      "execution_count": null,
      "metadata": {
        "id": "YzlYCUOmiT3P"
      },
      "outputs": [],
      "source": [
        "from overcooked_ai_py.agents.benchmarking import AgentEvaluator\n",
        "from overcooked_ai_py.agents.agent import AgentPair, FixedPlanAgent, GreedyHumanModel, RandomAgent, SampleAgent\n",
        "from overcooked_ai_py.visualization.state_visualizer import StateVisualizer"
      ]
    },
    {
      "cell_type": "code",
      "execution_count": null,
      "metadata": {
        "colab": {
          "base_uri": "https://localhost:8080/"
        },
        "id": "6Xlu54MkiXCR",
        "outputId": "5f4091f2-f24f-4c74-9d72-6871e0c2918a"
      },
      "outputs": [
        {
          "name": "stdout",
          "output_type": "stream",
          "text": [
            "Computing MotionPlanner to be saved in /usr/local/lib/python3.8/dist-packages/overcooked_ai_py/data/planners/cramped_room_mp.pkl\n",
            "It took 0.037303924560546875 seconds to create mp\n"
          ]
        },
        {
          "name": "stderr",
          "output_type": "stream",
          "text": [
            "Avg rew: 40.00 (std: 0.00, se: 0.00); avg len: 100.00; : 100%|██████████| 1/1 [00:00<00:00, 16.18it/s]\n"
          ]
        }
      ],
      "source": [
        "ae = AgentEvaluator.from_layout_name({\"layout_name\": \"cramped_room\"}, {\"horizon\": 100})\n",
        "trajs = ae.evaluate_human_model_pair()"
      ]
    },
    {
      "cell_type": "code",
      "execution_count": null,
      "metadata": {
        "colab": {
          "base_uri": "https://localhost:8080/",
          "height": 449,
          "referenced_widgets": [
            "4409f9abd2664c9c8e4ad00746b163cb",
            "7794b428c19b4ecaa37941367e54737b",
            "bbd05dfe158041b2988fa2bf8c3560be",
            "0a711130158e4ce39ebd03d3a527af56",
            "91a4ae36d83f4a788d39139b959030cd",
            "c617253fdeee48c38397765867426d24",
            "0eb9f97df6134f95836bf10549387a04"
          ]
        },
        "id": "3CWJ9mFTiX7O",
        "outputId": "51bbf3e4-a79f-4833-e93a-69873e17e445"
      },
      "outputs": [
        {
          "data": {
            "application/vnd.jupyter.widget-view+json": {
              "model_id": "4409f9abd2664c9c8e4ad00746b163cb",
              "version_major": 2,
              "version_minor": 0
            },
            "text/plain": [
              "interactive(children=(IntSlider(value=0, description='timestep', max=99), Output()), _dom_classes=('widget-int…"
            ]
          },
          "metadata": {},
          "output_type": "display_data"
        }
      ],
      "source": [
        "action_probs = [ [RandomAgent(all_actions=True).action(state)[1][\"action_probs\"]]*2 for state in trajs[\"ep_states\"][0]]\n",
        "StateVisualizer().display_rendered_trajectory(trajs, ipython_display=True)"
      ]
    },
    {
      "cell_type": "code",
      "execution_count": null,
      "metadata": {
        "id": "Z1RBlqADnTDw"
      },
      "outputs": [],
      "source": []
    }
  ],
  "metadata": {
    "colab": {
      "include_colab_link": true,
      "provenance": []
    },
    "kernelspec": {
      "display_name": "Python 3",
      "name": "python3"
    },
    "language_info": {
      "name": "python",
      "version": "3.9.6"
    },
    "widgets": {
      "application/vnd.jupyter.widget-state+json": {
        "0a711130158e4ce39ebd03d3a527af56": {
          "model_module": "@jupyter-widgets/base",
          "model_module_version": "1.2.0",
          "model_name": "LayoutModel",
          "state": {
            "_model_module": "@jupyter-widgets/base",
            "_model_module_version": "1.2.0",
            "_model_name": "LayoutModel",
            "_view_count": null,
            "_view_module": "@jupyter-widgets/base",
            "_view_module_version": "1.2.0",
            "_view_name": "LayoutView",
            "align_content": null,
            "align_items": null,
            "align_self": null,
            "border": null,
            "bottom": null,
            "display": null,
            "flex": null,
            "flex_flow": null,
            "grid_area": null,
            "grid_auto_columns": null,
            "grid_auto_flow": null,
            "grid_auto_rows": null,
            "grid_column": null,
            "grid_gap": null,
            "grid_row": null,
            "grid_template_areas": null,
            "grid_template_columns": null,
            "grid_template_rows": null,
            "height": null,
            "justify_content": null,
            "justify_items": null,
            "left": null,
            "margin": null,
            "max_height": null,
            "max_width": null,
            "min_height": null,
            "min_width": null,
            "object_fit": null,
            "object_position": null,
            "order": null,
            "overflow": null,
            "overflow_x": null,
            "overflow_y": null,
            "padding": null,
            "right": null,
            "top": null,
            "visibility": null,
            "width": null
          }
        },
        "0eb9f97df6134f95836bf10549387a04": {
          "model_module": "@jupyter-widgets/base",
          "model_module_version": "1.2.0",
          "model_name": "LayoutModel",
          "state": {
            "_model_module": "@jupyter-widgets/base",
            "_model_module_version": "1.2.0",
            "_model_name": "LayoutModel",
            "_view_count": null,
            "_view_module": "@jupyter-widgets/base",
            "_view_module_version": "1.2.0",
            "_view_name": "LayoutView",
            "align_content": null,
            "align_items": null,
            "align_self": null,
            "border": null,
            "bottom": null,
            "display": null,
            "flex": null,
            "flex_flow": null,
            "grid_area": null,
            "grid_auto_columns": null,
            "grid_auto_flow": null,
            "grid_auto_rows": null,
            "grid_column": null,
            "grid_gap": null,
            "grid_row": null,
            "grid_template_areas": null,
            "grid_template_columns": null,
            "grid_template_rows": null,
            "height": null,
            "justify_content": null,
            "justify_items": null,
            "left": null,
            "margin": null,
            "max_height": null,
            "max_width": null,
            "min_height": null,
            "min_width": null,
            "object_fit": null,
            "object_position": null,
            "order": null,
            "overflow": null,
            "overflow_x": null,
            "overflow_y": null,
            "padding": null,
            "right": null,
            "top": null,
            "visibility": null,
            "width": null
          }
        },
        "4409f9abd2664c9c8e4ad00746b163cb": {
          "model_module": "@jupyter-widgets/controls",
          "model_module_version": "1.5.0",
          "model_name": "VBoxModel",
          "state": {
            "_dom_classes": [
              "widget-interact"
            ],
            "_model_module": "@jupyter-widgets/controls",
            "_model_module_version": "1.5.0",
            "_model_name": "VBoxModel",
            "_view_count": null,
            "_view_module": "@jupyter-widgets/controls",
            "_view_module_version": "1.5.0",
            "_view_name": "VBoxView",
            "box_style": "",
            "children": [
              "IPY_MODEL_7794b428c19b4ecaa37941367e54737b",
              "IPY_MODEL_bbd05dfe158041b2988fa2bf8c3560be"
            ],
            "layout": "IPY_MODEL_0a711130158e4ce39ebd03d3a527af56"
          }
        },
        "7794b428c19b4ecaa37941367e54737b": {
          "model_module": "@jupyter-widgets/controls",
          "model_module_version": "1.5.0",
          "model_name": "IntSliderModel",
          "state": {
            "_dom_classes": [],
            "_model_module": "@jupyter-widgets/controls",
            "_model_module_version": "1.5.0",
            "_model_name": "IntSliderModel",
            "_view_count": null,
            "_view_module": "@jupyter-widgets/controls",
            "_view_module_version": "1.5.0",
            "_view_name": "IntSliderView",
            "continuous_update": true,
            "description": "timestep",
            "description_tooltip": null,
            "disabled": false,
            "layout": "IPY_MODEL_91a4ae36d83f4a788d39139b959030cd",
            "max": 99,
            "min": 0,
            "orientation": "horizontal",
            "readout": true,
            "readout_format": "d",
            "step": 1,
            "style": "IPY_MODEL_c617253fdeee48c38397765867426d24",
            "value": 30
          }
        },
        "91a4ae36d83f4a788d39139b959030cd": {
          "model_module": "@jupyter-widgets/base",
          "model_module_version": "1.2.0",
          "model_name": "LayoutModel",
          "state": {
            "_model_module": "@jupyter-widgets/base",
            "_model_module_version": "1.2.0",
            "_model_name": "LayoutModel",
            "_view_count": null,
            "_view_module": "@jupyter-widgets/base",
            "_view_module_version": "1.2.0",
            "_view_name": "LayoutView",
            "align_content": null,
            "align_items": null,
            "align_self": null,
            "border": null,
            "bottom": null,
            "display": null,
            "flex": null,
            "flex_flow": null,
            "grid_area": null,
            "grid_auto_columns": null,
            "grid_auto_flow": null,
            "grid_auto_rows": null,
            "grid_column": null,
            "grid_gap": null,
            "grid_row": null,
            "grid_template_areas": null,
            "grid_template_columns": null,
            "grid_template_rows": null,
            "height": null,
            "justify_content": null,
            "justify_items": null,
            "left": null,
            "margin": null,
            "max_height": null,
            "max_width": null,
            "min_height": null,
            "min_width": null,
            "object_fit": null,
            "object_position": null,
            "order": null,
            "overflow": null,
            "overflow_x": null,
            "overflow_y": null,
            "padding": null,
            "right": null,
            "top": null,
            "visibility": null,
            "width": null
          }
        },
        "bbd05dfe158041b2988fa2bf8c3560be": {
          "model_module": "@jupyter-widgets/output",
          "model_module_version": "1.0.0",
          "model_name": "OutputModel",
          "state": {
            "_dom_classes": [],
            "_model_module": "@jupyter-widgets/output",
            "_model_module_version": "1.0.0",
            "_model_name": "OutputModel",
            "_view_count": null,
            "_view_module": "@jupyter-widgets/output",
            "_view_module_version": "1.0.0",
            "_view_name": "OutputView",
            "layout": "IPY_MODEL_0eb9f97df6134f95836bf10549387a04",
            "msg_id": "",
            "outputs": [
              {
                "data": {
                  "image/png": "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\n",
                  "text/plain": "<IPython.core.display.Image object>"
                },
                "metadata": {},
                "output_type": "display_data"
              }
            ]
          }
        },
        "c617253fdeee48c38397765867426d24": {
          "model_module": "@jupyter-widgets/controls",
          "model_module_version": "1.5.0",
          "model_name": "SliderStyleModel",
          "state": {
            "_model_module": "@jupyter-widgets/controls",
            "_model_module_version": "1.5.0",
            "_model_name": "SliderStyleModel",
            "_view_count": null,
            "_view_module": "@jupyter-widgets/base",
            "_view_module_version": "1.2.0",
            "_view_name": "StyleView",
            "description_width": "",
            "handle_color": null
          }
        }
      }
    }
  },
  "nbformat": 4,
  "nbformat_minor": 0
}
