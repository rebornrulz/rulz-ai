{
  "cells": [
    {
      "cell_type": "markdown",
      "metadata": {
        "colab_type": "text",
        "id": "view-in-github"
      },
      "source": [
        "<a href=\"https://colab.research.google.com/github/rebornrulz/Rulz-AI/blob/main/wandb/wandb-model-registry/Overcooked_Tutorial.ipynb\" target=\"_parent\"><img src=\"https://colab.research.google.com/assets/colab-badge.svg\" alt=\"Open In Colab\"/></a>"
      ]
    },
    {
      "cell_type": "code",
      "execution_count": 1,
      "metadata": {
        "colab": {
          "base_uri": "https://localhost:8080/"
        },
        "id": "wdzm6m4Am-xh",
        "outputId": "8d1a8965-1f83-48cb-8f86-41d7fd30e977"
      },
      "outputs": [
        {
          "name": "stdout",
          "output_type": "stream",
          "text": [
            "Defaulting to user installation because normal site-packages is not writeable\n",
            "Collecting git+https://github.com/HumanCompatibleAI/overcooked_ai.git\n",
            "  Cloning https://github.com/HumanCompatibleAI/overcooked_ai.git to /private/var/folders/g_/ss0l7q8x63g4pp1pxbf33t3h0000gn/T/pip-req-build-3wdsxxzq\n",
            "  Running command git clone --filter=blob:none --quiet https://github.com/HumanCompatibleAI/overcooked_ai.git /private/var/folders/g_/ss0l7q8x63g4pp1pxbf33t3h0000gn/T/pip-req-build-3wdsxxzq\n",
            "  Resolved https://github.com/HumanCompatibleAI/overcooked_ai.git to commit b7dfc012e3291d0835e270688fbbb71d75b8b795\n",
            "  Preparing metadata (setup.py) ... \u001b[?25ldone\n",
            "\u001b[?25hRequirement already satisfied: dill in /Users/rulz-ai/Library/Python/3.9/lib/python/site-packages (from overcooked-ai==1.1.0) (0.3.7)\n",
            "Requirement already satisfied: numpy in /Users/rulz-ai/Library/Python/3.9/lib/python/site-packages (from overcooked-ai==1.1.0) (1.26.1)\n",
            "Requirement already satisfied: scipy in /Users/rulz-ai/Library/Python/3.9/lib/python/site-packages (from overcooked-ai==1.1.0) (1.11.3)\n",
            "Requirement already satisfied: tqdm in /Users/rulz-ai/Library/Python/3.9/lib/python/site-packages (from overcooked-ai==1.1.0) (4.66.1)\n",
            "Requirement already satisfied: gym in /Users/rulz-ai/Library/Python/3.9/lib/python/site-packages (from overcooked-ai==1.1.0) (0.26.2)\n",
            "Requirement already satisfied: pettingzoo in /Users/rulz-ai/Library/Python/3.9/lib/python/site-packages (from overcooked-ai==1.1.0) (1.24.1)\n",
            "Requirement already satisfied: ipython in /Users/rulz-ai/Library/Python/3.9/lib/python/site-packages (from overcooked-ai==1.1.0) (8.17.2)\n",
            "Requirement already satisfied: pygame in /Users/rulz-ai/Library/Python/3.9/lib/python/site-packages (from overcooked-ai==1.1.0) (2.5.2)\n",
            "Requirement already satisfied: ipywidgets in /Users/rulz-ai/Library/Python/3.9/lib/python/site-packages (from overcooked-ai==1.1.0) (7.8.1)\n",
            "Requirement already satisfied: opencv-python in /Users/rulz-ai/Library/Python/3.9/lib/python/site-packages (from overcooked-ai==1.1.0) (4.8.1.78)\n",
            "Requirement already satisfied: cloudpickle>=1.2.0 in /Users/rulz-ai/Library/Python/3.9/lib/python/site-packages (from gym->overcooked-ai==1.1.0) (2.2.1)\n",
            "Requirement already satisfied: gym-notices>=0.0.4 in /Users/rulz-ai/Library/Python/3.9/lib/python/site-packages (from gym->overcooked-ai==1.1.0) (0.0.8)\n",
            "Requirement already satisfied: importlib-metadata>=4.8.0 in /Users/rulz-ai/Library/Python/3.9/lib/python/site-packages (from gym->overcooked-ai==1.1.0) (6.8.0)\n",
            "Requirement already satisfied: decorator in /Users/rulz-ai/Library/Python/3.9/lib/python/site-packages (from ipython->overcooked-ai==1.1.0) (5.1.1)\n",
            "Requirement already satisfied: jedi>=0.16 in /Users/rulz-ai/Library/Python/3.9/lib/python/site-packages (from ipython->overcooked-ai==1.1.0) (0.19.1)\n",
            "Requirement already satisfied: matplotlib-inline in /Users/rulz-ai/Library/Python/3.9/lib/python/site-packages (from ipython->overcooked-ai==1.1.0) (0.1.6)\n",
            "Requirement already satisfied: prompt-toolkit!=3.0.37,<3.1.0,>=3.0.30 in /Users/rulz-ai/Library/Python/3.9/lib/python/site-packages (from ipython->overcooked-ai==1.1.0) (3.0.39)\n",
            "Requirement already satisfied: pygments>=2.4.0 in /Users/rulz-ai/Library/Python/3.9/lib/python/site-packages (from ipython->overcooked-ai==1.1.0) (2.16.1)\n",
            "Requirement already satisfied: stack-data in /Users/rulz-ai/Library/Python/3.9/lib/python/site-packages (from ipython->overcooked-ai==1.1.0) (0.6.3)\n",
            "Requirement already satisfied: traitlets>=5 in /Users/rulz-ai/Library/Python/3.9/lib/python/site-packages (from ipython->overcooked-ai==1.1.0) (5.13.0)\n",
            "Requirement already satisfied: typing-extensions in /Users/rulz-ai/Library/Python/3.9/lib/python/site-packages (from ipython->overcooked-ai==1.1.0) (4.8.0)\n",
            "Requirement already satisfied: exceptiongroup in /Users/rulz-ai/Library/Python/3.9/lib/python/site-packages (from ipython->overcooked-ai==1.1.0) (1.1.3)\n",
            "Requirement already satisfied: pexpect>4.3 in /Users/rulz-ai/Library/Python/3.9/lib/python/site-packages (from ipython->overcooked-ai==1.1.0) (4.8.0)\n",
            "Requirement already satisfied: appnope in /Users/rulz-ai/Library/Python/3.9/lib/python/site-packages (from ipython->overcooked-ai==1.1.0) (0.1.3)\n",
            "Requirement already satisfied: comm>=0.1.3 in /Users/rulz-ai/Library/Python/3.9/lib/python/site-packages (from ipywidgets->overcooked-ai==1.1.0) (0.1.4)\n",
            "Requirement already satisfied: ipython-genutils~=0.2.0 in /Users/rulz-ai/Library/Python/3.9/lib/python/site-packages (from ipywidgets->overcooked-ai==1.1.0) (0.2.0)\n",
            "Requirement already satisfied: widgetsnbextension~=3.6.6 in /Users/rulz-ai/Library/Python/3.9/lib/python/site-packages (from ipywidgets->overcooked-ai==1.1.0) (3.6.6)\n",
            "Requirement already satisfied: jupyterlab-widgets<3,>=1.0.0 in /Users/rulz-ai/Library/Python/3.9/lib/python/site-packages (from ipywidgets->overcooked-ai==1.1.0) (1.1.7)\n",
            "Requirement already satisfied: gymnasium>=0.28.0 in /Users/rulz-ai/Library/Python/3.9/lib/python/site-packages (from pettingzoo->overcooked-ai==1.1.0) (0.29.1)\n",
            "Requirement already satisfied: farama-notifications>=0.0.1 in /Users/rulz-ai/Library/Python/3.9/lib/python/site-packages (from gymnasium>=0.28.0->pettingzoo->overcooked-ai==1.1.0) (0.0.4)\n",
            "Requirement already satisfied: zipp>=0.5 in /Users/rulz-ai/Library/Python/3.9/lib/python/site-packages (from importlib-metadata>=4.8.0->gym->overcooked-ai==1.1.0) (3.17.0)\n",
            "Requirement already satisfied: parso<0.9.0,>=0.8.3 in /Users/rulz-ai/Library/Python/3.9/lib/python/site-packages (from jedi>=0.16->ipython->overcooked-ai==1.1.0) (0.8.3)\n",
            "Requirement already satisfied: ptyprocess>=0.5 in /Users/rulz-ai/Library/Python/3.9/lib/python/site-packages (from pexpect>4.3->ipython->overcooked-ai==1.1.0) (0.7.0)\n",
            "Requirement already satisfied: wcwidth in /Users/rulz-ai/Library/Python/3.9/lib/python/site-packages (from prompt-toolkit!=3.0.37,<3.1.0,>=3.0.30->ipython->overcooked-ai==1.1.0) (0.2.9)\n",
            "Requirement already satisfied: notebook>=4.4.1 in /Users/rulz-ai/Library/Python/3.9/lib/python/site-packages (from widgetsnbextension~=3.6.6->ipywidgets->overcooked-ai==1.1.0) (7.0.6)\n",
            "Requirement already satisfied: executing>=1.2.0 in /Users/rulz-ai/Library/Python/3.9/lib/python/site-packages (from stack-data->ipython->overcooked-ai==1.1.0) (2.0.1)\n",
            "Requirement already satisfied: asttokens>=2.1.0 in /Users/rulz-ai/Library/Python/3.9/lib/python/site-packages (from stack-data->ipython->overcooked-ai==1.1.0) (2.4.1)\n",
            "Requirement already satisfied: pure-eval in /Users/rulz-ai/Library/Python/3.9/lib/python/site-packages (from stack-data->ipython->overcooked-ai==1.1.0) (0.2.2)\n",
            "Requirement already satisfied: six>=1.12.0 in /Applications/Xcode.app/Contents/Developer/Library/Frameworks/Python3.framework/Versions/3.9/lib/python3.9/site-packages (from asttokens>=2.1.0->stack-data->ipython->overcooked-ai==1.1.0) (1.15.0)\n",
            "Requirement already satisfied: jupyter-server<3,>=2.4.0 in /Users/rulz-ai/Library/Python/3.9/lib/python/site-packages (from notebook>=4.4.1->widgetsnbextension~=3.6.6->ipywidgets->overcooked-ai==1.1.0) (2.9.1)\n",
            "Requirement already satisfied: jupyterlab-server<3,>=2.22.1 in /Users/rulz-ai/Library/Python/3.9/lib/python/site-packages (from notebook>=4.4.1->widgetsnbextension~=3.6.6->ipywidgets->overcooked-ai==1.1.0) (2.25.0)\n",
            "Requirement already satisfied: jupyterlab<5,>=4.0.2 in /Users/rulz-ai/Library/Python/3.9/lib/python/site-packages (from notebook>=4.4.1->widgetsnbextension~=3.6.6->ipywidgets->overcooked-ai==1.1.0) (4.0.8)\n",
            "Requirement already satisfied: notebook-shim<0.3,>=0.2 in /Users/rulz-ai/Library/Python/3.9/lib/python/site-packages (from notebook>=4.4.1->widgetsnbextension~=3.6.6->ipywidgets->overcooked-ai==1.1.0) (0.2.3)\n",
            "Requirement already satisfied: tornado>=6.2.0 in /Users/rulz-ai/Library/Python/3.9/lib/python/site-packages (from notebook>=4.4.1->widgetsnbextension~=3.6.6->ipywidgets->overcooked-ai==1.1.0) (6.3.3)\n",
            "Requirement already satisfied: anyio>=3.1.0 in /Users/rulz-ai/Library/Python/3.9/lib/python/site-packages (from jupyter-server<3,>=2.4.0->notebook>=4.4.1->widgetsnbextension~=3.6.6->ipywidgets->overcooked-ai==1.1.0) (3.7.1)\n",
            "Requirement already satisfied: argon2-cffi in /Users/rulz-ai/Library/Python/3.9/lib/python/site-packages (from jupyter-server<3,>=2.4.0->notebook>=4.4.1->widgetsnbextension~=3.6.6->ipywidgets->overcooked-ai==1.1.0) (23.1.0)\n",
            "Requirement already satisfied: jinja2 in /Users/rulz-ai/Library/Python/3.9/lib/python/site-packages (from jupyter-server<3,>=2.4.0->notebook>=4.4.1->widgetsnbextension~=3.6.6->ipywidgets->overcooked-ai==1.1.0) (3.1.2)\n",
            "Requirement already satisfied: jupyter-client>=7.4.4 in /Users/rulz-ai/Library/Python/3.9/lib/python/site-packages (from jupyter-server<3,>=2.4.0->notebook>=4.4.1->widgetsnbextension~=3.6.6->ipywidgets->overcooked-ai==1.1.0) (8.5.0)\n",
            "Requirement already satisfied: jupyter-core!=5.0.*,>=4.12 in /Users/rulz-ai/Library/Python/3.9/lib/python/site-packages (from jupyter-server<3,>=2.4.0->notebook>=4.4.1->widgetsnbextension~=3.6.6->ipywidgets->overcooked-ai==1.1.0) (5.5.0)\n",
            "Requirement already satisfied: jupyter-events>=0.6.0 in /Users/rulz-ai/Library/Python/3.9/lib/python/site-packages (from jupyter-server<3,>=2.4.0->notebook>=4.4.1->widgetsnbextension~=3.6.6->ipywidgets->overcooked-ai==1.1.0) (0.8.0)\n",
            "Requirement already satisfied: jupyter-server-terminals in /Users/rulz-ai/Library/Python/3.9/lib/python/site-packages (from jupyter-server<3,>=2.4.0->notebook>=4.4.1->widgetsnbextension~=3.6.6->ipywidgets->overcooked-ai==1.1.0) (0.4.4)\n",
            "Requirement already satisfied: nbconvert>=6.4.4 in /Users/rulz-ai/Library/Python/3.9/lib/python/site-packages (from jupyter-server<3,>=2.4.0->notebook>=4.4.1->widgetsnbextension~=3.6.6->ipywidgets->overcooked-ai==1.1.0) (7.10.0)\n",
            "Requirement already satisfied: nbformat>=5.3.0 in /Users/rulz-ai/Library/Python/3.9/lib/python/site-packages (from jupyter-server<3,>=2.4.0->notebook>=4.4.1->widgetsnbextension~=3.6.6->ipywidgets->overcooked-ai==1.1.0) (5.9.2)\n",
            "Requirement already satisfied: overrides in /Users/rulz-ai/Library/Python/3.9/lib/python/site-packages (from jupyter-server<3,>=2.4.0->notebook>=4.4.1->widgetsnbextension~=3.6.6->ipywidgets->overcooked-ai==1.1.0) (7.4.0)\n",
            "Requirement already satisfied: packaging in /Users/rulz-ai/Library/Python/3.9/lib/python/site-packages (from jupyter-server<3,>=2.4.0->notebook>=4.4.1->widgetsnbextension~=3.6.6->ipywidgets->overcooked-ai==1.1.0) (23.2)\n",
            "Requirement already satisfied: prometheus-client in /Users/rulz-ai/Library/Python/3.9/lib/python/site-packages (from jupyter-server<3,>=2.4.0->notebook>=4.4.1->widgetsnbextension~=3.6.6->ipywidgets->overcooked-ai==1.1.0) (0.18.0)\n",
            "Requirement already satisfied: pyzmq>=24 in /Users/rulz-ai/Library/Python/3.9/lib/python/site-packages (from jupyter-server<3,>=2.4.0->notebook>=4.4.1->widgetsnbextension~=3.6.6->ipywidgets->overcooked-ai==1.1.0) (25.1.1)\n",
            "Requirement already satisfied: send2trash>=1.8.2 in /Users/rulz-ai/Library/Python/3.9/lib/python/site-packages (from jupyter-server<3,>=2.4.0->notebook>=4.4.1->widgetsnbextension~=3.6.6->ipywidgets->overcooked-ai==1.1.0) (1.8.2)\n",
            "Requirement already satisfied: terminado>=0.8.3 in /Users/rulz-ai/Library/Python/3.9/lib/python/site-packages (from jupyter-server<3,>=2.4.0->notebook>=4.4.1->widgetsnbextension~=3.6.6->ipywidgets->overcooked-ai==1.1.0) (0.17.1)\n",
            "Requirement already satisfied: websocket-client in /Users/rulz-ai/Library/Python/3.9/lib/python/site-packages (from jupyter-server<3,>=2.4.0->notebook>=4.4.1->widgetsnbextension~=3.6.6->ipywidgets->overcooked-ai==1.1.0) (1.6.4)\n",
            "Requirement already satisfied: async-lru>=1.0.0 in /Users/rulz-ai/Library/Python/3.9/lib/python/site-packages (from jupyterlab<5,>=4.0.2->notebook>=4.4.1->widgetsnbextension~=3.6.6->ipywidgets->overcooked-ai==1.1.0) (2.0.4)\n",
            "Requirement already satisfied: ipykernel in /Users/rulz-ai/Library/Python/3.9/lib/python/site-packages (from jupyterlab<5,>=4.0.2->notebook>=4.4.1->widgetsnbextension~=3.6.6->ipywidgets->overcooked-ai==1.1.0) (6.26.0)\n",
            "Requirement already satisfied: jupyter-lsp>=2.0.0 in /Users/rulz-ai/Library/Python/3.9/lib/python/site-packages (from jupyterlab<5,>=4.0.2->notebook>=4.4.1->widgetsnbextension~=3.6.6->ipywidgets->overcooked-ai==1.1.0) (2.2.0)\n",
            "Requirement already satisfied: tomli in /Users/rulz-ai/Library/Python/3.9/lib/python/site-packages (from jupyterlab<5,>=4.0.2->notebook>=4.4.1->widgetsnbextension~=3.6.6->ipywidgets->overcooked-ai==1.1.0) (2.0.1)\n",
            "Requirement already satisfied: babel>=2.10 in /Users/rulz-ai/Library/Python/3.9/lib/python/site-packages (from jupyterlab-server<3,>=2.22.1->notebook>=4.4.1->widgetsnbextension~=3.6.6->ipywidgets->overcooked-ai==1.1.0) (2.13.1)\n",
            "Requirement already satisfied: json5>=0.9.0 in /Users/rulz-ai/Library/Python/3.9/lib/python/site-packages (from jupyterlab-server<3,>=2.22.1->notebook>=4.4.1->widgetsnbextension~=3.6.6->ipywidgets->overcooked-ai==1.1.0) (0.9.14)\n",
            "Requirement already satisfied: jsonschema>=4.18.0 in /Users/rulz-ai/Library/Python/3.9/lib/python/site-packages (from jupyterlab-server<3,>=2.22.1->notebook>=4.4.1->widgetsnbextension~=3.6.6->ipywidgets->overcooked-ai==1.1.0) (4.19.2)\n",
            "Requirement already satisfied: requests>=2.31 in /Users/rulz-ai/Library/Python/3.9/lib/python/site-packages (from jupyterlab-server<3,>=2.22.1->notebook>=4.4.1->widgetsnbextension~=3.6.6->ipywidgets->overcooked-ai==1.1.0) (2.31.0)\n",
            "Requirement already satisfied: idna>=2.8 in /Users/rulz-ai/Library/Python/3.9/lib/python/site-packages (from anyio>=3.1.0->jupyter-server<3,>=2.4.0->notebook>=4.4.1->widgetsnbextension~=3.6.6->ipywidgets->overcooked-ai==1.1.0) (3.4)\n",
            "Requirement already satisfied: sniffio>=1.1 in /Users/rulz-ai/Library/Python/3.9/lib/python/site-packages (from anyio>=3.1.0->jupyter-server<3,>=2.4.0->notebook>=4.4.1->widgetsnbextension~=3.6.6->ipywidgets->overcooked-ai==1.1.0) (1.3.0)\n",
            "Requirement already satisfied: MarkupSafe>=2.0 in /Users/rulz-ai/Library/Python/3.9/lib/python/site-packages (from jinja2->jupyter-server<3,>=2.4.0->notebook>=4.4.1->widgetsnbextension~=3.6.6->ipywidgets->overcooked-ai==1.1.0) (2.1.3)\n",
            "Requirement already satisfied: attrs>=22.2.0 in /Users/rulz-ai/Library/Python/3.9/lib/python/site-packages (from jsonschema>=4.18.0->jupyterlab-server<3,>=2.22.1->notebook>=4.4.1->widgetsnbextension~=3.6.6->ipywidgets->overcooked-ai==1.1.0) (23.1.0)\n",
            "Requirement already satisfied: jsonschema-specifications>=2023.03.6 in /Users/rulz-ai/Library/Python/3.9/lib/python/site-packages (from jsonschema>=4.18.0->jupyterlab-server<3,>=2.22.1->notebook>=4.4.1->widgetsnbextension~=3.6.6->ipywidgets->overcooked-ai==1.1.0) (2023.7.1)\n",
            "Requirement already satisfied: referencing>=0.28.4 in /Users/rulz-ai/Library/Python/3.9/lib/python/site-packages (from jsonschema>=4.18.0->jupyterlab-server<3,>=2.22.1->notebook>=4.4.1->widgetsnbextension~=3.6.6->ipywidgets->overcooked-ai==1.1.0) (0.30.2)\n",
            "Requirement already satisfied: rpds-py>=0.7.1 in /Users/rulz-ai/Library/Python/3.9/lib/python/site-packages (from jsonschema>=4.18.0->jupyterlab-server<3,>=2.22.1->notebook>=4.4.1->widgetsnbextension~=3.6.6->ipywidgets->overcooked-ai==1.1.0) (0.12.0)\n",
            "Requirement already satisfied: python-dateutil>=2.8.2 in /Users/rulz-ai/Library/Python/3.9/lib/python/site-packages (from jupyter-client>=7.4.4->jupyter-server<3,>=2.4.0->notebook>=4.4.1->widgetsnbextension~=3.6.6->ipywidgets->overcooked-ai==1.1.0) (2.8.2)\n",
            "Requirement already satisfied: platformdirs>=2.5 in /Users/rulz-ai/Library/Python/3.9/lib/python/site-packages (from jupyter-core!=5.0.*,>=4.12->jupyter-server<3,>=2.4.0->notebook>=4.4.1->widgetsnbextension~=3.6.6->ipywidgets->overcooked-ai==1.1.0) (3.11.0)\n",
            "Requirement already satisfied: python-json-logger>=2.0.4 in /Users/rulz-ai/Library/Python/3.9/lib/python/site-packages (from jupyter-events>=0.6.0->jupyter-server<3,>=2.4.0->notebook>=4.4.1->widgetsnbextension~=3.6.6->ipywidgets->overcooked-ai==1.1.0) (2.0.7)\n",
            "Requirement already satisfied: pyyaml>=5.3 in /Users/rulz-ai/Library/Python/3.9/lib/python/site-packages (from jupyter-events>=0.6.0->jupyter-server<3,>=2.4.0->notebook>=4.4.1->widgetsnbextension~=3.6.6->ipywidgets->overcooked-ai==1.1.0) (6.0.1)\n",
            "Requirement already satisfied: rfc3339-validator in /Users/rulz-ai/Library/Python/3.9/lib/python/site-packages (from jupyter-events>=0.6.0->jupyter-server<3,>=2.4.0->notebook>=4.4.1->widgetsnbextension~=3.6.6->ipywidgets->overcooked-ai==1.1.0) (0.1.4)\n",
            "Requirement already satisfied: rfc3986-validator>=0.1.1 in /Users/rulz-ai/Library/Python/3.9/lib/python/site-packages (from jupyter-events>=0.6.0->jupyter-server<3,>=2.4.0->notebook>=4.4.1->widgetsnbextension~=3.6.6->ipywidgets->overcooked-ai==1.1.0) (0.1.1)\n",
            "Requirement already satisfied: beautifulsoup4 in /Users/rulz-ai/Library/Python/3.9/lib/python/site-packages (from nbconvert>=6.4.4->jupyter-server<3,>=2.4.0->notebook>=4.4.1->widgetsnbextension~=3.6.6->ipywidgets->overcooked-ai==1.1.0) (4.12.2)\n",
            "Requirement already satisfied: bleach!=5.0.0 in /Users/rulz-ai/Library/Python/3.9/lib/python/site-packages (from nbconvert>=6.4.4->jupyter-server<3,>=2.4.0->notebook>=4.4.1->widgetsnbextension~=3.6.6->ipywidgets->overcooked-ai==1.1.0) (6.1.0)\n",
            "Requirement already satisfied: defusedxml in /Users/rulz-ai/Library/Python/3.9/lib/python/site-packages (from nbconvert>=6.4.4->jupyter-server<3,>=2.4.0->notebook>=4.4.1->widgetsnbextension~=3.6.6->ipywidgets->overcooked-ai==1.1.0) (0.7.1)\n",
            "Requirement already satisfied: jupyterlab-pygments in /Users/rulz-ai/Library/Python/3.9/lib/python/site-packages (from nbconvert>=6.4.4->jupyter-server<3,>=2.4.0->notebook>=4.4.1->widgetsnbextension~=3.6.6->ipywidgets->overcooked-ai==1.1.0) (0.2.2)\n",
            "Requirement already satisfied: mistune<4,>=2.0.3 in /Users/rulz-ai/Library/Python/3.9/lib/python/site-packages (from nbconvert>=6.4.4->jupyter-server<3,>=2.4.0->notebook>=4.4.1->widgetsnbextension~=3.6.6->ipywidgets->overcooked-ai==1.1.0) (3.0.2)\n",
            "Requirement already satisfied: nbclient>=0.5.0 in /Users/rulz-ai/Library/Python/3.9/lib/python/site-packages (from nbconvert>=6.4.4->jupyter-server<3,>=2.4.0->notebook>=4.4.1->widgetsnbextension~=3.6.6->ipywidgets->overcooked-ai==1.1.0) (0.8.0)\n",
            "Requirement already satisfied: pandocfilters>=1.4.1 in /Users/rulz-ai/Library/Python/3.9/lib/python/site-packages (from nbconvert>=6.4.4->jupyter-server<3,>=2.4.0->notebook>=4.4.1->widgetsnbextension~=3.6.6->ipywidgets->overcooked-ai==1.1.0) (1.5.0)\n",
            "Requirement already satisfied: tinycss2 in /Users/rulz-ai/Library/Python/3.9/lib/python/site-packages (from nbconvert>=6.4.4->jupyter-server<3,>=2.4.0->notebook>=4.4.1->widgetsnbextension~=3.6.6->ipywidgets->overcooked-ai==1.1.0) (1.2.1)\n",
            "Requirement already satisfied: fastjsonschema in /Users/rulz-ai/Library/Python/3.9/lib/python/site-packages (from nbformat>=5.3.0->jupyter-server<3,>=2.4.0->notebook>=4.4.1->widgetsnbextension~=3.6.6->ipywidgets->overcooked-ai==1.1.0) (2.18.1)\n",
            "Requirement already satisfied: charset-normalizer<4,>=2 in /Users/rulz-ai/Library/Python/3.9/lib/python/site-packages (from requests>=2.31->jupyterlab-server<3,>=2.22.1->notebook>=4.4.1->widgetsnbextension~=3.6.6->ipywidgets->overcooked-ai==1.1.0) (3.3.2)\n",
            "Requirement already satisfied: urllib3<3,>=1.21.1 in /Users/rulz-ai/Library/Python/3.9/lib/python/site-packages (from requests>=2.31->jupyterlab-server<3,>=2.22.1->notebook>=4.4.1->widgetsnbextension~=3.6.6->ipywidgets->overcooked-ai==1.1.0) (1.26.18)\n",
            "Requirement already satisfied: certifi>=2017.4.17 in /Users/rulz-ai/Library/Python/3.9/lib/python/site-packages (from requests>=2.31->jupyterlab-server<3,>=2.22.1->notebook>=4.4.1->widgetsnbextension~=3.6.6->ipywidgets->overcooked-ai==1.1.0) (2023.7.22)\n",
            "Requirement already satisfied: argon2-cffi-bindings in /Users/rulz-ai/Library/Python/3.9/lib/python/site-packages (from argon2-cffi->jupyter-server<3,>=2.4.0->notebook>=4.4.1->widgetsnbextension~=3.6.6->ipywidgets->overcooked-ai==1.1.0) (21.2.0)\n",
            "Requirement already satisfied: debugpy>=1.6.5 in /Users/rulz-ai/Library/Python/3.9/lib/python/site-packages (from ipykernel->jupyterlab<5,>=4.0.2->notebook>=4.4.1->widgetsnbextension~=3.6.6->ipywidgets->overcooked-ai==1.1.0) (1.8.0)\n",
            "Requirement already satisfied: nest-asyncio in /Users/rulz-ai/Library/Python/3.9/lib/python/site-packages (from ipykernel->jupyterlab<5,>=4.0.2->notebook>=4.4.1->widgetsnbextension~=3.6.6->ipywidgets->overcooked-ai==1.1.0) (1.5.8)\n",
            "Requirement already satisfied: psutil in /Users/rulz-ai/Library/Python/3.9/lib/python/site-packages (from ipykernel->jupyterlab<5,>=4.0.2->notebook>=4.4.1->widgetsnbextension~=3.6.6->ipywidgets->overcooked-ai==1.1.0) (5.9.6)\n",
            "Requirement already satisfied: webencodings in /Users/rulz-ai/Library/Python/3.9/lib/python/site-packages (from bleach!=5.0.0->nbconvert>=6.4.4->jupyter-server<3,>=2.4.0->notebook>=4.4.1->widgetsnbextension~=3.6.6->ipywidgets->overcooked-ai==1.1.0) (0.5.1)\n",
            "Requirement already satisfied: fqdn in /Users/rulz-ai/Library/Python/3.9/lib/python/site-packages (from jsonschema[format-nongpl]>=4.18.0->jupyter-events>=0.6.0->jupyter-server<3,>=2.4.0->notebook>=4.4.1->widgetsnbextension~=3.6.6->ipywidgets->overcooked-ai==1.1.0) (1.5.1)\n",
            "Requirement already satisfied: isoduration in /Users/rulz-ai/Library/Python/3.9/lib/python/site-packages (from jsonschema[format-nongpl]>=4.18.0->jupyter-events>=0.6.0->jupyter-server<3,>=2.4.0->notebook>=4.4.1->widgetsnbextension~=3.6.6->ipywidgets->overcooked-ai==1.1.0) (20.11.0)\n",
            "Requirement already satisfied: jsonpointer>1.13 in /Users/rulz-ai/Library/Python/3.9/lib/python/site-packages (from jsonschema[format-nongpl]>=4.18.0->jupyter-events>=0.6.0->jupyter-server<3,>=2.4.0->notebook>=4.4.1->widgetsnbextension~=3.6.6->ipywidgets->overcooked-ai==1.1.0) (2.4)\n",
            "Requirement already satisfied: uri-template in /Users/rulz-ai/Library/Python/3.9/lib/python/site-packages (from jsonschema[format-nongpl]>=4.18.0->jupyter-events>=0.6.0->jupyter-server<3,>=2.4.0->notebook>=4.4.1->widgetsnbextension~=3.6.6->ipywidgets->overcooked-ai==1.1.0) (1.3.0)\n",
            "Requirement already satisfied: webcolors>=1.11 in /Users/rulz-ai/Library/Python/3.9/lib/python/site-packages (from jsonschema[format-nongpl]>=4.18.0->jupyter-events>=0.6.0->jupyter-server<3,>=2.4.0->notebook>=4.4.1->widgetsnbextension~=3.6.6->ipywidgets->overcooked-ai==1.1.0) (1.13)\n",
            "Requirement already satisfied: cffi>=1.0.1 in /Users/rulz-ai/Library/Python/3.9/lib/python/site-packages (from argon2-cffi-bindings->argon2-cffi->jupyter-server<3,>=2.4.0->notebook>=4.4.1->widgetsnbextension~=3.6.6->ipywidgets->overcooked-ai==1.1.0) (1.16.0)\n",
            "Requirement already satisfied: soupsieve>1.2 in /Users/rulz-ai/Library/Python/3.9/lib/python/site-packages (from beautifulsoup4->nbconvert>=6.4.4->jupyter-server<3,>=2.4.0->notebook>=4.4.1->widgetsnbextension~=3.6.6->ipywidgets->overcooked-ai==1.1.0) (2.5)\n",
            "Requirement already satisfied: pycparser in /Users/rulz-ai/Library/Python/3.9/lib/python/site-packages (from cffi>=1.0.1->argon2-cffi-bindings->argon2-cffi->jupyter-server<3,>=2.4.0->notebook>=4.4.1->widgetsnbextension~=3.6.6->ipywidgets->overcooked-ai==1.1.0) (2.21)\n",
            "Requirement already satisfied: arrow>=0.15.0 in /Users/rulz-ai/Library/Python/3.9/lib/python/site-packages (from isoduration->jsonschema[format-nongpl]>=4.18.0->jupyter-events>=0.6.0->jupyter-server<3,>=2.4.0->notebook>=4.4.1->widgetsnbextension~=3.6.6->ipywidgets->overcooked-ai==1.1.0) (1.3.0)\n",
            "Requirement already satisfied: types-python-dateutil>=2.8.10 in /Users/rulz-ai/Library/Python/3.9/lib/python/site-packages (from arrow>=0.15.0->isoduration->jsonschema[format-nongpl]>=4.18.0->jupyter-events>=0.6.0->jupyter-server<3,>=2.4.0->notebook>=4.4.1->widgetsnbextension~=3.6.6->ipywidgets->overcooked-ai==1.1.0) (2.8.19.14)\n"
          ]
        }
      ],
      "source": [
        "!pip install git+https://github.com/HumanCompatibleAI/overcooked_ai.git"
      ]
    },
    {
      "cell_type": "code",
      "execution_count": 2,
      "metadata": {
        "id": "YzlYCUOmiT3P"
      },
      "outputs": [],
      "source": [
        "from overcooked_ai_py.agents.benchmarking import AgentEvaluator\n",
        "from overcooked_ai_py.agents.agent import AgentPair, FixedPlanAgent, GreedyHumanModel, RandomAgent, SampleAgent\n",
        "from overcooked_ai_py.visualization.state_visualizer import StateVisualizer"
      ]
    },
    {
      "cell_type": "code",
      "execution_count": 3,
      "metadata": {
        "colab": {
          "base_uri": "https://localhost:8080/"
        },
        "id": "6Xlu54MkiXCR",
        "outputId": "5f4091f2-f24f-4c74-9d72-6871e0c2918a"
      },
      "outputs": [
        {
          "name": "stderr",
          "output_type": "stream",
          "text": [
            "  0%|          | 0/1 [00:00<?, ?it/s]"
          ]
        },
        {
          "name": "stderr",
          "output_type": "stream",
          "text": [
            "Avg rew: 40.00 (std: 0.00, se: 0.00); avg len: 100.00; : 100%|██████████| 1/1 [00:00<00:00, 42.23it/s]\n"
          ]
        }
      ],
      "source": [
        "ae = AgentEvaluator.from_layout_name({\"layout_name\": \"cramped_room\"}, {\"horizon\": 100})\n",
        "trajs = ae.evaluate_human_model_pair()"
      ]
    },
    {
      "cell_type": "code",
      "execution_count": 4,
      "metadata": {
        "colab": {
          "base_uri": "https://localhost:8080/",
          "height": 449,
          "referenced_widgets": [
            "4409f9abd2664c9c8e4ad00746b163cb",
            "7794b428c19b4ecaa37941367e54737b",
            "bbd05dfe158041b2988fa2bf8c3560be",
            "0a711130158e4ce39ebd03d3a527af56",
            "91a4ae36d83f4a788d39139b959030cd",
            "c617253fdeee48c38397765867426d24",
            "0eb9f97df6134f95836bf10549387a04"
          ]
        },
        "id": "3CWJ9mFTiX7O",
        "outputId": "51bbf3e4-a79f-4833-e93a-69873e17e445"
      },
      "outputs": [
        {
          "data": {
            "application/vnd.jupyter.widget-view+json": {
              "model_id": "f62b033306dc45b08f579891604c0bfc",
              "version_major": 2,
              "version_minor": 0
            },
            "text/plain": [
              "interactive(children=(IntSlider(value=0, description='timestep', max=99), Output()), _dom_classes=('widget-int…"
            ]
          },
          "metadata": {},
          "output_type": "display_data"
        }
      ],
      "source": [
        "action_probs = [ [RandomAgent(all_actions=True).action(state)[1][\"action_probs\"]]*2 for state in trajs[\"ep_states\"][0]]\n",
        "StateVisualizer().display_rendered_trajectory(trajs, ipython_display=True)"
      ]
    },
    {
      "cell_type": "code",
      "execution_count": null,
      "metadata": {
        "id": "Z1RBlqADnTDw"
      },
      "outputs": [],
      "source": []
    }
  ],
  "metadata": {
    "colab": {
      "include_colab_link": true,
      "provenance": []
    },
    "kernelspec": {
      "display_name": "Python 3",
      "name": "python3"
    },
    "language_info": {
      "codemirror_mode": {
        "name": "ipython",
        "version": 3
      },
      "file_extension": ".py",
      "mimetype": "text/x-python",
      "name": "python",
      "nbconvert_exporter": "python",
      "pygments_lexer": "ipython3",
      "version": "3.9.6"
    },
    "widgets": {
      "application/vnd.jupyter.widget-state+json": {
        "0a711130158e4ce39ebd03d3a527af56": {
          "model_module": "@jupyter-widgets/base",
          "model_module_version": "1.2.0",
          "model_name": "LayoutModel",
          "state": {
            "_model_module": "@jupyter-widgets/base",
            "_model_module_version": "1.2.0",
            "_model_name": "LayoutModel",
            "_view_count": null,
            "_view_module": "@jupyter-widgets/base",
            "_view_module_version": "1.2.0",
            "_view_name": "LayoutView",
            "align_content": null,
            "align_items": null,
            "align_self": null,
            "border": null,
            "bottom": null,
            "display": null,
            "flex": null,
            "flex_flow": null,
            "grid_area": null,
            "grid_auto_columns": null,
            "grid_auto_flow": null,
            "grid_auto_rows": null,
            "grid_column": null,
            "grid_gap": null,
            "grid_row": null,
            "grid_template_areas": null,
            "grid_template_columns": null,
            "grid_template_rows": null,
            "height": null,
            "justify_content": null,
            "justify_items": null,
            "left": null,
            "margin": null,
            "max_height": null,
            "max_width": null,
            "min_height": null,
            "min_width": null,
            "object_fit": null,
            "object_position": null,
            "order": null,
            "overflow": null,
            "overflow_x": null,
            "overflow_y": null,
            "padding": null,
            "right": null,
            "top": null,
            "visibility": null,
            "width": null
          }
        },
        "0eb9f97df6134f95836bf10549387a04": {
          "model_module": "@jupyter-widgets/base",
          "model_module_version": "1.2.0",
          "model_name": "LayoutModel",
          "state": {
            "_model_module": "@jupyter-widgets/base",
            "_model_module_version": "1.2.0",
            "_model_name": "LayoutModel",
            "_view_count": null,
            "_view_module": "@jupyter-widgets/base",
            "_view_module_version": "1.2.0",
            "_view_name": "LayoutView",
            "align_content": null,
            "align_items": null,
            "align_self": null,
            "border": null,
            "bottom": null,
            "display": null,
            "flex": null,
            "flex_flow": null,
            "grid_area": null,
            "grid_auto_columns": null,
            "grid_auto_flow": null,
            "grid_auto_rows": null,
            "grid_column": null,
            "grid_gap": null,
            "grid_row": null,
            "grid_template_areas": null,
            "grid_template_columns": null,
            "grid_template_rows": null,
            "height": null,
            "justify_content": null,
            "justify_items": null,
            "left": null,
            "margin": null,
            "max_height": null,
            "max_width": null,
            "min_height": null,
            "min_width": null,
            "object_fit": null,
            "object_position": null,
            "order": null,
            "overflow": null,
            "overflow_x": null,
            "overflow_y": null,
            "padding": null,
            "right": null,
            "top": null,
            "visibility": null,
            "width": null
          }
        },
        "4409f9abd2664c9c8e4ad00746b163cb": {
          "model_module": "@jupyter-widgets/controls",
          "model_module_version": "1.5.0",
          "model_name": "VBoxModel",
          "state": {
            "_dom_classes": [
              "widget-interact"
            ],
            "_model_module": "@jupyter-widgets/controls",
            "_model_module_version": "1.5.0",
            "_model_name": "VBoxModel",
            "_view_count": null,
            "_view_module": "@jupyter-widgets/controls",
            "_view_module_version": "1.5.0",
            "_view_name": "VBoxView",
            "box_style": "",
            "children": [
              "IPY_MODEL_7794b428c19b4ecaa37941367e54737b",
              "IPY_MODEL_bbd05dfe158041b2988fa2bf8c3560be"
            ],
            "layout": "IPY_MODEL_0a711130158e4ce39ebd03d3a527af56"
          }
        },
        "7794b428c19b4ecaa37941367e54737b": {
          "model_module": "@jupyter-widgets/controls",
          "model_module_version": "1.5.0",
          "model_name": "IntSliderModel",
          "state": {
            "_dom_classes": [],
            "_model_module": "@jupyter-widgets/controls",
            "_model_module_version": "1.5.0",
            "_model_name": "IntSliderModel",
            "_view_count": null,
            "_view_module": "@jupyter-widgets/controls",
            "_view_module_version": "1.5.0",
            "_view_name": "IntSliderView",
            "continuous_update": true,
            "description": "timestep",
            "description_tooltip": null,
            "disabled": false,
            "layout": "IPY_MODEL_91a4ae36d83f4a788d39139b959030cd",
            "max": 99,
            "min": 0,
            "orientation": "horizontal",
            "readout": true,
            "readout_format": "d",
            "step": 1,
            "style": "IPY_MODEL_c617253fdeee48c38397765867426d24",
            "value": 30
          }
        },
        "91a4ae36d83f4a788d39139b959030cd": {
          "model_module": "@jupyter-widgets/base",
          "model_module_version": "1.2.0",
          "model_name": "LayoutModel",
          "state": {
            "_model_module": "@jupyter-widgets/base",
            "_model_module_version": "1.2.0",
            "_model_name": "LayoutModel",
            "_view_count": null,
            "_view_module": "@jupyter-widgets/base",
            "_view_module_version": "1.2.0",
            "_view_name": "LayoutView",
            "align_content": null,
            "align_items": null,
            "align_self": null,
            "border": null,
            "bottom": null,
            "display": null,
            "flex": null,
            "flex_flow": null,
            "grid_area": null,
            "grid_auto_columns": null,
            "grid_auto_flow": null,
            "grid_auto_rows": null,
            "grid_column": null,
            "grid_gap": null,
            "grid_row": null,
            "grid_template_areas": null,
            "grid_template_columns": null,
            "grid_template_rows": null,
            "height": null,
            "justify_content": null,
            "justify_items": null,
            "left": null,
            "margin": null,
            "max_height": null,
            "max_width": null,
            "min_height": null,
            "min_width": null,
            "object_fit": null,
            "object_position": null,
            "order": null,
            "overflow": null,
            "overflow_x": null,
            "overflow_y": null,
            "padding": null,
            "right": null,
            "top": null,
            "visibility": null,
            "width": null
          }
        },
        "bbd05dfe158041b2988fa2bf8c3560be": {
          "model_module": "@jupyter-widgets/output",
          "model_module_version": "1.0.0",
          "model_name": "OutputModel",
          "state": {
            "_dom_classes": [],
            "_model_module": "@jupyter-widgets/output",
            "_model_module_version": "1.0.0",
            "_model_name": "OutputModel",
            "_view_count": null,
            "_view_module": "@jupyter-widgets/output",
            "_view_module_version": "1.0.0",
            "_view_name": "OutputView",
            "layout": "IPY_MODEL_0eb9f97df6134f95836bf10549387a04",
            "msg_id": "",
            "outputs": [
              {
                "data": {
                  "image/png": "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\n",
                  "text/plain": "<IPython.core.display.Image object>"
                },
                "metadata": {},
                "output_type": "display_data"
              }
            ]
          }
        },
        "c617253fdeee48c38397765867426d24": {
          "model_module": "@jupyter-widgets/controls",
          "model_module_version": "1.5.0",
          "model_name": "SliderStyleModel",
          "state": {
            "_model_module": "@jupyter-widgets/controls",
            "_model_module_version": "1.5.0",
            "_model_name": "SliderStyleModel",
            "_view_count": null,
            "_view_module": "@jupyter-widgets/base",
            "_view_module_version": "1.2.0",
            "_view_name": "StyleView",
            "description_width": "",
            "handle_color": null
          }
        }
      }
    }
  },
  "nbformat": 4,
  "nbformat_minor": 0
}
