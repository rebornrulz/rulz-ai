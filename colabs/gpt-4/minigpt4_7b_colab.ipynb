{
  "cells": [
    {
      "cell_type": "markdown",
      "metadata": {
        "colab_type": "text",
        "id": "view-in-github"
      },
      "source": [
        "<a href=\"https://colab.research.google.com/github/rebornrulz/Rulz-AI/blob/master/colabs/gpt-4/minigpt4_7b_colab.ipynb\" target=\"_parent\"><img src=\"https://colab.research.google.com/assets/colab-badge.svg\" alt=\"Open In Colab\"/></a>"
      ]
    },
    {
      "cell_type": "code",
      "execution_count": 1,
      "metadata": {
        "colab": {
          "base_uri": "https://localhost:8080/"
        },
        "id": "QdfSfmJD4fAc",
        "outputId": "45ce0772-aa4d-4b08-fa7a-2e88e7866112"
      },
      "outputs": [
        {
          "name": "stdout",
          "output_type": "stream",
          "text": [
            "Cloning into 'minigpt4'...\n",
            "remote: Enumerating objects: 372, done.\u001b[K\n",
            "remote: Counting objects: 100% (90/90), done.\u001b[K\n",
            "remote: Compressing objects: 100% (20/20), done.\u001b[K\n",
            "remote: Total 372 (delta 77), reused 70 (delta 70), pack-reused 282\u001b[K\n",
            "Receiving objects: 100% (372/372), 13.41 MiB | 9.28 MiB/s, done.\n",
            "Resolving deltas: 100% (171/171), done.\n",
            "/content/minigpt4/checkpoint.pth: No such file or directory\n",
            "/content/minigpt4/blip2_pretrained_flant5xxl.pth: No such file or directory\n",
            "\u001b[31mERROR: Cannot install salesforce-lavis==1.0.0 and salesforce-lavis==1.0.2 because these package versions have conflicting dependencies.\u001b[0m\u001b[31m\n",
            "\u001b[0m\u001b[31mERROR: ResolutionImpossible: for help visit https://pip.pypa.io/en/latest/topics/dependency-resolution/#dealing-with-dependency-conflicts\u001b[0m\u001b[31m\n",
            "\u001b[0m\u001b[33m    WARNING: No metadata found in /Users/rulz-ai/Library/Python/3.9/lib/python/site-packages\u001b[0m\u001b[33m\n",
            "\u001b[0m"
          ]
        }
      ],
      "source": [
        "!git clone -b 7b https://github.com/camenduru/minigpt4\n",
        "!wget https://huggingface.co/ckpt/minigpt4-7B/resolve/main/prerained_minigpt4_7b.pth -O /content/minigpt4/checkpoint.pth\n",
        "!wget https://huggingface.co/ckpt/minigpt4/resolve/main/blip2_pretrained_flant5xxl.pth -O /content/minigpt4/blip2_pretrained_flant5xxl.pth\n",
        "\n",
        "!pip install -q salesforce-lavis\n",
        "!pip install -q bitsandbytes\n",
        "!pip install -q accelerate\n",
        "!pip install -q gradio==3.27.0\n",
        "!pip install -q git+https://github.com/huggingface/transformers.git -U\n",
        "\n",
        "%cd /content/minigpt4\n",
        "!python app.py"
      ]
    }
  ],
  "metadata": {
    "accelerator": "GPU",
    "colab": {
      "include_colab_link": true,
      "machine_shape": "hm",
      "provenance": []
    },
    "gpuClass": "standard",
    "kernelspec": {
      "display_name": "Python 3",
      "name": "python3"
    },
    "language_info": {
      "codemirror_mode": {
        "name": "ipython",
        "version": 3
      },
      "file_extension": ".py",
      "mimetype": "text/x-python",
      "name": "python",
      "nbconvert_exporter": "python",
      "pygments_lexer": "ipython3",
      "version": "3.9.6"
    }
  },
  "nbformat": 4,
  "nbformat_minor": 0
}
